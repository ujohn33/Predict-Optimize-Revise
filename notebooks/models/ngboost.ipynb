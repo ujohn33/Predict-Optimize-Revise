{
 "cells": [
  {
   "cell_type": "code",
   "execution_count": 4,
   "metadata": {},
   "outputs": [],
   "source": [
    "import os\n",
    "os.chdir(os.path.dirname(os.getcwd()))"
   ]
  },
  {
   "cell_type": "code",
   "execution_count": 71,
   "metadata": {},
   "outputs": [],
   "source": [
    "from optuna.samplers import TPESampler\n",
    "import optuna\n",
    "import pickle\n",
    "import pandas as pd\n",
    "import numpy as np\n",
    "import matplotlib.pyplot as plt\n",
    "import joblib\n",
    "import seaborn as sns\n",
    "from tqdm import tqdm\n",
    "# min max scaling\n",
    "from sklearn.preprocessing import MinMaxScaler\n",
    "from sklearn.metrics import mean_absolute_error\n",
    "from sklearn.metrics import mean_absolute_percentage_error\n",
    "from utils.util_functions import import_data, calculate_mase2\n",
    "from sklearn import preprocessing\n",
    "from utils.group_ts_split import GroupTimeSeriesSplit, PurgedGroupTimeSeriesSplit\n",
    "from sklearn.metrics import mean_squared_error\n",
    "from ngboost import NGBRegressor\n",
    "from ngboost.distns import Normal"
   ]
  },
  {
   "cell_type": "code",
   "execution_count": 46,
   "metadata": {},
   "outputs": [
    {
     "name": "stdout",
     "output_type": "stream",
     "text": [
      "Memory usage of dataframe is 18.31 MB\n",
      "Memory usage after optimization is: 4.70 MB\n",
      "Decreased by 74.3%\n"
     ]
    },
    {
     "data": {
      "text/html": [
       "<div>\n",
       "<style scoped>\n",
       "    .dataframe tbody tr th:only-of-type {\n",
       "        vertical-align: middle;\n",
       "    }\n",
       "\n",
       "    .dataframe tbody tr th {\n",
       "        vertical-align: top;\n",
       "    }\n",
       "\n",
       "    .dataframe thead th {\n",
       "        text-align: right;\n",
       "    }\n",
       "</style>\n",
       "<table border=\"1\" class=\"dataframe\">\n",
       "  <thead>\n",
       "    <tr style=\"text-align: right;\">\n",
       "      <th></th>\n",
       "      <th>Month</th>\n",
       "      <th>Hour</th>\n",
       "      <th>cons_target</th>\n",
       "      <th>Solar_Generation_W/kW</th>\n",
       "      <th>Outdoor_Drybulb_Temperature_C</th>\n",
       "      <th>Relative_Humidity_%</th>\n",
       "      <th>Diffuse_Solar_Radiation_W/m2</th>\n",
       "      <th>Direct_Solar_Radiation_W/m2</th>\n",
       "      <th>day_year</th>\n",
       "      <th>number</th>\n",
       "      <th>...</th>\n",
       "      <th>net_target-26</th>\n",
       "      <th>net_target-27</th>\n",
       "      <th>net_target-28</th>\n",
       "      <th>net_target-29</th>\n",
       "      <th>net_target-30</th>\n",
       "      <th>net_target_diff</th>\n",
       "      <th>diffuse_solar_radiation+1</th>\n",
       "      <th>direct_solar_radiation+1</th>\n",
       "      <th>relative_humidity+1</th>\n",
       "      <th>drybulb_temp+1</th>\n",
       "    </tr>\n",
       "  </thead>\n",
       "  <tbody>\n",
       "    <tr>\n",
       "      <th>0</th>\n",
       "      <td>8</td>\n",
       "      <td>7</td>\n",
       "      <td>0.156494</td>\n",
       "      <td>14.093750</td>\n",
       "      <td>18.906250</td>\n",
       "      <td>90.0</td>\n",
       "      <td>2.773438</td>\n",
       "      <td>2.708984</td>\n",
       "      <td>30</td>\n",
       "      <td>1</td>\n",
       "      <td>...</td>\n",
       "      <td>0.437744</td>\n",
       "      <td>0.382324</td>\n",
       "      <td>0.382080</td>\n",
       "      <td>0.383301</td>\n",
       "      <td>0.506836</td>\n",
       "      <td>0.019974</td>\n",
       "      <td>4.761719</td>\n",
       "      <td>3.761719</td>\n",
       "      <td>87.0</td>\n",
       "      <td>20.000000</td>\n",
       "    </tr>\n",
       "    <tr>\n",
       "      <th>1</th>\n",
       "      <td>8</td>\n",
       "      <td>8</td>\n",
       "      <td>0.143188</td>\n",
       "      <td>109.625000</td>\n",
       "      <td>20.000000</td>\n",
       "      <td>87.0</td>\n",
       "      <td>4.761719</td>\n",
       "      <td>3.761719</td>\n",
       "      <td>31</td>\n",
       "      <td>1</td>\n",
       "      <td>...</td>\n",
       "      <td>0.418457</td>\n",
       "      <td>0.437744</td>\n",
       "      <td>0.382324</td>\n",
       "      <td>0.382080</td>\n",
       "      <td>0.383301</td>\n",
       "      <td>-0.042175</td>\n",
       "      <td>5.535156</td>\n",
       "      <td>4.316406</td>\n",
       "      <td>87.0</td>\n",
       "      <td>20.000000</td>\n",
       "    </tr>\n",
       "    <tr>\n",
       "      <th>2</th>\n",
       "      <td>8</td>\n",
       "      <td>9</td>\n",
       "      <td>0.147095</td>\n",
       "      <td>269.500000</td>\n",
       "      <td>20.000000</td>\n",
       "      <td>87.0</td>\n",
       "      <td>5.535156</td>\n",
       "      <td>4.316406</td>\n",
       "      <td>32</td>\n",
       "      <td>1</td>\n",
       "      <td>...</td>\n",
       "      <td>0.466553</td>\n",
       "      <td>0.418457</td>\n",
       "      <td>0.437744</td>\n",
       "      <td>0.382324</td>\n",
       "      <td>0.382080</td>\n",
       "      <td>-0.052582</td>\n",
       "      <td>5.679688</td>\n",
       "      <td>3.583984</td>\n",
       "      <td>84.0</td>\n",
       "      <td>20.000000</td>\n",
       "    </tr>\n",
       "    <tr>\n",
       "      <th>3</th>\n",
       "      <td>8</td>\n",
       "      <td>10</td>\n",
       "      <td>0.129395</td>\n",
       "      <td>447.000000</td>\n",
       "      <td>20.000000</td>\n",
       "      <td>84.0</td>\n",
       "      <td>5.679688</td>\n",
       "      <td>3.583984</td>\n",
       "      <td>33</td>\n",
       "      <td>1</td>\n",
       "      <td>...</td>\n",
       "      <td>0.341064</td>\n",
       "      <td>0.466553</td>\n",
       "      <td>0.418457</td>\n",
       "      <td>0.437744</td>\n",
       "      <td>0.382324</td>\n",
       "      <td>-0.073547</td>\n",
       "      <td>6.078125</td>\n",
       "      <td>4.562500</td>\n",
       "      <td>76.0</td>\n",
       "      <td>21.703125</td>\n",
       "    </tr>\n",
       "    <tr>\n",
       "      <th>4</th>\n",
       "      <td>8</td>\n",
       "      <td>11</td>\n",
       "      <td>0.077026</td>\n",
       "      <td>594.000000</td>\n",
       "      <td>21.703125</td>\n",
       "      <td>76.0</td>\n",
       "      <td>6.078125</td>\n",
       "      <td>4.562500</td>\n",
       "      <td>34</td>\n",
       "      <td>1</td>\n",
       "      <td>...</td>\n",
       "      <td>0.267334</td>\n",
       "      <td>0.341064</td>\n",
       "      <td>0.466553</td>\n",
       "      <td>0.418457</td>\n",
       "      <td>0.437744</td>\n",
       "      <td>-0.086792</td>\n",
       "      <td>6.406250</td>\n",
       "      <td>5.347656</td>\n",
       "      <td>73.0</td>\n",
       "      <td>21.703125</td>\n",
       "    </tr>\n",
       "    <tr>\n",
       "      <th>...</th>\n",
       "      <td>...</td>\n",
       "      <td>...</td>\n",
       "      <td>...</td>\n",
       "      <td>...</td>\n",
       "      <td>...</td>\n",
       "      <td>...</td>\n",
       "      <td>...</td>\n",
       "      <td>...</td>\n",
       "      <td>...</td>\n",
       "      <td>...</td>\n",
       "      <td>...</td>\n",
       "      <td>...</td>\n",
       "      <td>...</td>\n",
       "      <td>...</td>\n",
       "      <td>...</td>\n",
       "      <td>...</td>\n",
       "      <td>...</td>\n",
       "      <td>...</td>\n",
       "      <td>...</td>\n",
       "      <td>...</td>\n",
       "      <td>...</td>\n",
       "    </tr>\n",
       "    <tr>\n",
       "      <th>43640</th>\n",
       "      <td>7</td>\n",
       "      <td>19</td>\n",
       "      <td>0.802734</td>\n",
       "      <td>31.171875</td>\n",
       "      <td>21.093750</td>\n",
       "      <td>81.0</td>\n",
       "      <td>5.390625</td>\n",
       "      <td>5.667969</td>\n",
       "      <td>8754</td>\n",
       "      <td>5</td>\n",
       "      <td>...</td>\n",
       "      <td>0.763184</td>\n",
       "      <td>0.653320</td>\n",
       "      <td>0.482666</td>\n",
       "      <td>0.505371</td>\n",
       "      <td>0.358643</td>\n",
       "      <td>0.090393</td>\n",
       "      <td>3.294922</td>\n",
       "      <td>4.875000</td>\n",
       "      <td>84.0</td>\n",
       "      <td>20.593750</td>\n",
       "    </tr>\n",
       "    <tr>\n",
       "      <th>43641</th>\n",
       "      <td>7</td>\n",
       "      <td>20</td>\n",
       "      <td>0.552734</td>\n",
       "      <td>4.070312</td>\n",
       "      <td>20.593750</td>\n",
       "      <td>84.0</td>\n",
       "      <td>3.294922</td>\n",
       "      <td>4.875000</td>\n",
       "      <td>8755</td>\n",
       "      <td>5</td>\n",
       "      <td>...</td>\n",
       "      <td>0.797363</td>\n",
       "      <td>0.763184</td>\n",
       "      <td>0.653320</td>\n",
       "      <td>0.482666</td>\n",
       "      <td>0.505371</td>\n",
       "      <td>-0.141235</td>\n",
       "      <td>0.000000</td>\n",
       "      <td>0.000000</td>\n",
       "      <td>81.0</td>\n",
       "      <td>21.093750</td>\n",
       "    </tr>\n",
       "    <tr>\n",
       "      <th>43642</th>\n",
       "      <td>7</td>\n",
       "      <td>21</td>\n",
       "      <td>0.189453</td>\n",
       "      <td>0.000000</td>\n",
       "      <td>21.093750</td>\n",
       "      <td>81.0</td>\n",
       "      <td>0.000000</td>\n",
       "      <td>0.000000</td>\n",
       "      <td>8756</td>\n",
       "      <td>5</td>\n",
       "      <td>...</td>\n",
       "      <td>0.812012</td>\n",
       "      <td>0.797363</td>\n",
       "      <td>0.763184</td>\n",
       "      <td>0.653320</td>\n",
       "      <td>0.482666</td>\n",
       "      <td>-0.223145</td>\n",
       "      <td>0.000000</td>\n",
       "      <td>0.000000</td>\n",
       "      <td>79.0</td>\n",
       "      <td>21.703125</td>\n",
       "    </tr>\n",
       "    <tr>\n",
       "      <th>43643</th>\n",
       "      <td>7</td>\n",
       "      <td>22</td>\n",
       "      <td>0.436279</td>\n",
       "      <td>0.000000</td>\n",
       "      <td>21.703125</td>\n",
       "      <td>79.0</td>\n",
       "      <td>0.000000</td>\n",
       "      <td>0.000000</td>\n",
       "      <td>8757</td>\n",
       "      <td>5</td>\n",
       "      <td>...</td>\n",
       "      <td>0.814941</td>\n",
       "      <td>0.812012</td>\n",
       "      <td>0.797363</td>\n",
       "      <td>0.763184</td>\n",
       "      <td>0.653320</td>\n",
       "      <td>0.152954</td>\n",
       "      <td>0.000000</td>\n",
       "      <td>0.000000</td>\n",
       "      <td>76.0</td>\n",
       "      <td>21.296875</td>\n",
       "    </tr>\n",
       "    <tr>\n",
       "      <th>43644</th>\n",
       "      <td>7</td>\n",
       "      <td>23</td>\n",
       "      <td>0.468994</td>\n",
       "      <td>0.000000</td>\n",
       "      <td>21.296875</td>\n",
       "      <td>76.0</td>\n",
       "      <td>0.000000</td>\n",
       "      <td>0.000000</td>\n",
       "      <td>8758</td>\n",
       "      <td>5</td>\n",
       "      <td>...</td>\n",
       "      <td>0.437744</td>\n",
       "      <td>0.814941</td>\n",
       "      <td>0.812012</td>\n",
       "      <td>0.797363</td>\n",
       "      <td>0.763184</td>\n",
       "      <td>0.020248</td>\n",
       "      <td>0.000000</td>\n",
       "      <td>0.000000</td>\n",
       "      <td>76.0</td>\n",
       "      <td>20.906250</td>\n",
       "    </tr>\n",
       "  </tbody>\n",
       "</table>\n",
       "<p>43645 rows × 54 columns</p>\n",
       "</div>"
      ],
      "text/plain": [
       "       Month  Hour  cons_target  Solar_Generation_W/kW  \\\n",
       "0          8     7     0.156494              14.093750   \n",
       "1          8     8     0.143188             109.625000   \n",
       "2          8     9     0.147095             269.500000   \n",
       "3          8    10     0.129395             447.000000   \n",
       "4          8    11     0.077026             594.000000   \n",
       "...      ...   ...          ...                    ...   \n",
       "43640      7    19     0.802734              31.171875   \n",
       "43641      7    20     0.552734               4.070312   \n",
       "43642      7    21     0.189453               0.000000   \n",
       "43643      7    22     0.436279               0.000000   \n",
       "43644      7    23     0.468994               0.000000   \n",
       "\n",
       "       Outdoor_Drybulb_Temperature_C  Relative_Humidity_%  \\\n",
       "0                          18.906250                 90.0   \n",
       "1                          20.000000                 87.0   \n",
       "2                          20.000000                 87.0   \n",
       "3                          20.000000                 84.0   \n",
       "4                          21.703125                 76.0   \n",
       "...                              ...                  ...   \n",
       "43640                      21.093750                 81.0   \n",
       "43641                      20.593750                 84.0   \n",
       "43642                      21.093750                 81.0   \n",
       "43643                      21.703125                 79.0   \n",
       "43644                      21.296875                 76.0   \n",
       "\n",
       "       Diffuse_Solar_Radiation_W/m2  Direct_Solar_Radiation_W/m2  day_year  \\\n",
       "0                          2.773438                     2.708984        30   \n",
       "1                          4.761719                     3.761719        31   \n",
       "2                          5.535156                     4.316406        32   \n",
       "3                          5.679688                     3.583984        33   \n",
       "4                          6.078125                     4.562500        34   \n",
       "...                             ...                          ...       ...   \n",
       "43640                      5.390625                     5.667969      8754   \n",
       "43641                      3.294922                     4.875000      8755   \n",
       "43642                      0.000000                     0.000000      8756   \n",
       "43643                      0.000000                     0.000000      8757   \n",
       "43644                      0.000000                     0.000000      8758   \n",
       "\n",
       "       number  ...  net_target-26  net_target-27  net_target-28  \\\n",
       "0           1  ...       0.437744       0.382324       0.382080   \n",
       "1           1  ...       0.418457       0.437744       0.382324   \n",
       "2           1  ...       0.466553       0.418457       0.437744   \n",
       "3           1  ...       0.341064       0.466553       0.418457   \n",
       "4           1  ...       0.267334       0.341064       0.466553   \n",
       "...       ...  ...            ...            ...            ...   \n",
       "43640       5  ...       0.763184       0.653320       0.482666   \n",
       "43641       5  ...       0.797363       0.763184       0.653320   \n",
       "43642       5  ...       0.812012       0.797363       0.763184   \n",
       "43643       5  ...       0.814941       0.812012       0.797363   \n",
       "43644       5  ...       0.437744       0.814941       0.812012   \n",
       "\n",
       "       net_target-29  net_target-30  net_target_diff  \\\n",
       "0           0.383301       0.506836         0.019974   \n",
       "1           0.382080       0.383301        -0.042175   \n",
       "2           0.382324       0.382080        -0.052582   \n",
       "3           0.437744       0.382324        -0.073547   \n",
       "4           0.418457       0.437744        -0.086792   \n",
       "...              ...            ...              ...   \n",
       "43640       0.505371       0.358643         0.090393   \n",
       "43641       0.482666       0.505371        -0.141235   \n",
       "43642       0.653320       0.482666        -0.223145   \n",
       "43643       0.763184       0.653320         0.152954   \n",
       "43644       0.797363       0.763184         0.020248   \n",
       "\n",
       "       diffuse_solar_radiation+1  direct_solar_radiation+1  \\\n",
       "0                       4.761719                  3.761719   \n",
       "1                       5.535156                  4.316406   \n",
       "2                       5.679688                  3.583984   \n",
       "3                       6.078125                  4.562500   \n",
       "4                       6.406250                  5.347656   \n",
       "...                          ...                       ...   \n",
       "43640                   3.294922                  4.875000   \n",
       "43641                   0.000000                  0.000000   \n",
       "43642                   0.000000                  0.000000   \n",
       "43643                   0.000000                  0.000000   \n",
       "43644                   0.000000                  0.000000   \n",
       "\n",
       "       relative_humidity+1  drybulb_temp+1  \n",
       "0                     87.0       20.000000  \n",
       "1                     87.0       20.000000  \n",
       "2                     84.0       20.000000  \n",
       "3                     76.0       21.703125  \n",
       "4                     73.0       21.703125  \n",
       "...                    ...             ...  \n",
       "43640                 84.0       20.593750  \n",
       "43641                 81.0       21.093750  \n",
       "43642                 79.0       21.703125  \n",
       "43643                 76.0       21.296875  \n",
       "43644                 76.0       20.906250  \n",
       "\n",
       "[43645 rows x 54 columns]"
      ]
     },
     "execution_count": 46,
     "metadata": {},
     "output_type": "execute_result"
    }
   ],
   "source": [
    "df_train = import_data('data/extra_train_morelags.csv')\n",
    "# drop brackets from column names\n",
    "df_train.columns = df_train.columns.str.replace('[', '', regex=False)\n",
    "df_train.columns = df_train.columns.str.replace(']', '', regex=False)\n",
    "df_train.columns = df_train.columns.str.replace(' ', '_', regex=False)\n",
    "df_train"
   ]
  },
  {
   "cell_type": "code",
   "execution_count": 64,
   "metadata": {},
   "outputs": [
    {
     "name": "stdout",
     "output_type": "stream",
     "text": [
      "Memory usage of dataframe is 3.66 MB\n",
      "Memory usage after optimization is: 0.94 MB\n",
      "Decreased by 74.3%\n"
     ]
    }
   ],
   "source": [
    "df_test = import_data('data/extra_test_morelags.csv')\n",
    "# drop brackets from column names\n",
    "df_test.columns = df_test.columns.str.replace('[', '', regex=False)\n",
    "df_test.columns = df_test.columns.str.replace(']', '', regex=False)\n",
    "df_test.columns = df_test.columns.str.replace(' ', '_', regex=False)"
   ]
  },
  {
   "cell_type": "code",
   "execution_count": 65,
   "metadata": {},
   "outputs": [
    {
     "name": "stdout",
     "output_type": "stream",
     "text": [
      "[]\n"
     ]
    },
    {
     "data": {
      "text/html": [
       "<div>\n",
       "<style scoped>\n",
       "    .dataframe tbody tr th:only-of-type {\n",
       "        vertical-align: middle;\n",
       "    }\n",
       "\n",
       "    .dataframe tbody tr th {\n",
       "        vertical-align: top;\n",
       "    }\n",
       "\n",
       "    .dataframe thead th {\n",
       "        text-align: right;\n",
       "    }\n",
       "</style>\n",
       "<table border=\"1\" class=\"dataframe\">\n",
       "  <thead>\n",
       "    <tr style=\"text-align: right;\">\n",
       "      <th></th>\n",
       "      <th>Month</th>\n",
       "      <th>Hour</th>\n",
       "      <th>hour_x</th>\n",
       "      <th>hour_y</th>\n",
       "      <th>month_x</th>\n",
       "      <th>month_y</th>\n",
       "      <th>net_target</th>\n",
       "      <th>net_target-1</th>\n",
       "      <th>net_target-2</th>\n",
       "      <th>net_target-3</th>\n",
       "      <th>...</th>\n",
       "      <th>net_target-26</th>\n",
       "      <th>net_target-27</th>\n",
       "      <th>net_target-28</th>\n",
       "      <th>net_target-29</th>\n",
       "      <th>net_target-30</th>\n",
       "      <th>net_target_diff</th>\n",
       "      <th>diffuse_solar_radiation+1</th>\n",
       "      <th>direct_solar_radiation+1</th>\n",
       "      <th>relative_humidity+1</th>\n",
       "      <th>drybulb_temp+1</th>\n",
       "    </tr>\n",
       "  </thead>\n",
       "  <tbody>\n",
       "    <tr>\n",
       "      <th>0</th>\n",
       "      <td>8</td>\n",
       "      <td>7</td>\n",
       "      <td>-0.258789</td>\n",
       "      <td>0.965820</td>\n",
       "      <td>-0.500000</td>\n",
       "      <td>-0.866211</td>\n",
       "      <td>0.417236</td>\n",
       "      <td>0.397217</td>\n",
       "      <td>0.388428</td>\n",
       "      <td>0.389648</td>\n",
       "      <td>...</td>\n",
       "      <td>0.437744</td>\n",
       "      <td>0.382324</td>\n",
       "      <td>0.382080</td>\n",
       "      <td>0.383301</td>\n",
       "      <td>0.506836</td>\n",
       "      <td>0.019974</td>\n",
       "      <td>4.761719</td>\n",
       "      <td>3.761719</td>\n",
       "      <td>87.0</td>\n",
       "      <td>20.000000</td>\n",
       "    </tr>\n",
       "    <tr>\n",
       "      <th>1</th>\n",
       "      <td>8</td>\n",
       "      <td>8</td>\n",
       "      <td>-0.500000</td>\n",
       "      <td>0.866211</td>\n",
       "      <td>-0.500000</td>\n",
       "      <td>-0.866211</td>\n",
       "      <td>0.375000</td>\n",
       "      <td>0.417236</td>\n",
       "      <td>0.397217</td>\n",
       "      <td>0.388428</td>\n",
       "      <td>...</td>\n",
       "      <td>0.418457</td>\n",
       "      <td>0.437744</td>\n",
       "      <td>0.382324</td>\n",
       "      <td>0.382080</td>\n",
       "      <td>0.383301</td>\n",
       "      <td>-0.042175</td>\n",
       "      <td>5.535156</td>\n",
       "      <td>4.316406</td>\n",
       "      <td>87.0</td>\n",
       "      <td>20.000000</td>\n",
       "    </tr>\n",
       "    <tr>\n",
       "      <th>2</th>\n",
       "      <td>8</td>\n",
       "      <td>9</td>\n",
       "      <td>-0.707031</td>\n",
       "      <td>0.707031</td>\n",
       "      <td>-0.500000</td>\n",
       "      <td>-0.866211</td>\n",
       "      <td>0.322266</td>\n",
       "      <td>0.375000</td>\n",
       "      <td>0.417236</td>\n",
       "      <td>0.397217</td>\n",
       "      <td>...</td>\n",
       "      <td>0.466553</td>\n",
       "      <td>0.418457</td>\n",
       "      <td>0.437744</td>\n",
       "      <td>0.382324</td>\n",
       "      <td>0.382080</td>\n",
       "      <td>-0.052582</td>\n",
       "      <td>5.679688</td>\n",
       "      <td>3.583984</td>\n",
       "      <td>84.0</td>\n",
       "      <td>20.000000</td>\n",
       "    </tr>\n",
       "    <tr>\n",
       "      <th>3</th>\n",
       "      <td>8</td>\n",
       "      <td>10</td>\n",
       "      <td>-0.866211</td>\n",
       "      <td>0.500000</td>\n",
       "      <td>-0.500000</td>\n",
       "      <td>-0.866211</td>\n",
       "      <td>0.248779</td>\n",
       "      <td>0.322266</td>\n",
       "      <td>0.375000</td>\n",
       "      <td>0.417236</td>\n",
       "      <td>...</td>\n",
       "      <td>0.341064</td>\n",
       "      <td>0.466553</td>\n",
       "      <td>0.418457</td>\n",
       "      <td>0.437744</td>\n",
       "      <td>0.382324</td>\n",
       "      <td>-0.073547</td>\n",
       "      <td>6.078125</td>\n",
       "      <td>4.562500</td>\n",
       "      <td>76.0</td>\n",
       "      <td>21.703125</td>\n",
       "    </tr>\n",
       "    <tr>\n",
       "      <th>4</th>\n",
       "      <td>8</td>\n",
       "      <td>11</td>\n",
       "      <td>-0.965820</td>\n",
       "      <td>0.258789</td>\n",
       "      <td>-0.500000</td>\n",
       "      <td>-0.866211</td>\n",
       "      <td>0.161987</td>\n",
       "      <td>0.248779</td>\n",
       "      <td>0.322266</td>\n",
       "      <td>0.375000</td>\n",
       "      <td>...</td>\n",
       "      <td>0.267334</td>\n",
       "      <td>0.341064</td>\n",
       "      <td>0.466553</td>\n",
       "      <td>0.418457</td>\n",
       "      <td>0.437744</td>\n",
       "      <td>-0.086792</td>\n",
       "      <td>6.406250</td>\n",
       "      <td>5.347656</td>\n",
       "      <td>73.0</td>\n",
       "      <td>21.703125</td>\n",
       "    </tr>\n",
       "    <tr>\n",
       "      <th>...</th>\n",
       "      <td>...</td>\n",
       "      <td>...</td>\n",
       "      <td>...</td>\n",
       "      <td>...</td>\n",
       "      <td>...</td>\n",
       "      <td>...</td>\n",
       "      <td>...</td>\n",
       "      <td>...</td>\n",
       "      <td>...</td>\n",
       "      <td>...</td>\n",
       "      <td>...</td>\n",
       "      <td>...</td>\n",
       "      <td>...</td>\n",
       "      <td>...</td>\n",
       "      <td>...</td>\n",
       "      <td>...</td>\n",
       "      <td>...</td>\n",
       "      <td>...</td>\n",
       "      <td>...</td>\n",
       "      <td>...</td>\n",
       "      <td>...</td>\n",
       "    </tr>\n",
       "    <tr>\n",
       "      <th>43640</th>\n",
       "      <td>7</td>\n",
       "      <td>19</td>\n",
       "      <td>0.258789</td>\n",
       "      <td>-0.965820</td>\n",
       "      <td>-0.866211</td>\n",
       "      <td>-0.500000</td>\n",
       "      <td>0.862305</td>\n",
       "      <td>0.771973</td>\n",
       "      <td>0.588867</td>\n",
       "      <td>0.526855</td>\n",
       "      <td>...</td>\n",
       "      <td>0.763184</td>\n",
       "      <td>0.653320</td>\n",
       "      <td>0.482666</td>\n",
       "      <td>0.505371</td>\n",
       "      <td>0.358643</td>\n",
       "      <td>0.090393</td>\n",
       "      <td>3.294922</td>\n",
       "      <td>4.875000</td>\n",
       "      <td>84.0</td>\n",
       "      <td>20.593750</td>\n",
       "    </tr>\n",
       "    <tr>\n",
       "      <th>43641</th>\n",
       "      <td>7</td>\n",
       "      <td>20</td>\n",
       "      <td>0.500000</td>\n",
       "      <td>-0.866211</td>\n",
       "      <td>-0.866211</td>\n",
       "      <td>-0.500000</td>\n",
       "      <td>0.720703</td>\n",
       "      <td>0.862305</td>\n",
       "      <td>0.771973</td>\n",
       "      <td>0.588867</td>\n",
       "      <td>...</td>\n",
       "      <td>0.797363</td>\n",
       "      <td>0.763184</td>\n",
       "      <td>0.653320</td>\n",
       "      <td>0.482666</td>\n",
       "      <td>0.505371</td>\n",
       "      <td>-0.141235</td>\n",
       "      <td>0.000000</td>\n",
       "      <td>0.000000</td>\n",
       "      <td>81.0</td>\n",
       "      <td>21.093750</td>\n",
       "    </tr>\n",
       "    <tr>\n",
       "      <th>43642</th>\n",
       "      <td>7</td>\n",
       "      <td>21</td>\n",
       "      <td>0.707031</td>\n",
       "      <td>-0.707031</td>\n",
       "      <td>-0.866211</td>\n",
       "      <td>-0.500000</td>\n",
       "      <td>0.497803</td>\n",
       "      <td>0.720703</td>\n",
       "      <td>0.862305</td>\n",
       "      <td>0.771973</td>\n",
       "      <td>...</td>\n",
       "      <td>0.812012</td>\n",
       "      <td>0.797363</td>\n",
       "      <td>0.763184</td>\n",
       "      <td>0.653320</td>\n",
       "      <td>0.482666</td>\n",
       "      <td>-0.223145</td>\n",
       "      <td>0.000000</td>\n",
       "      <td>0.000000</td>\n",
       "      <td>79.0</td>\n",
       "      <td>21.703125</td>\n",
       "    </tr>\n",
       "    <tr>\n",
       "      <th>43643</th>\n",
       "      <td>7</td>\n",
       "      <td>22</td>\n",
       "      <td>0.866211</td>\n",
       "      <td>-0.500000</td>\n",
       "      <td>-0.866211</td>\n",
       "      <td>-0.500000</td>\n",
       "      <td>0.650879</td>\n",
       "      <td>0.497803</td>\n",
       "      <td>0.720703</td>\n",
       "      <td>0.862305</td>\n",
       "      <td>...</td>\n",
       "      <td>0.814941</td>\n",
       "      <td>0.812012</td>\n",
       "      <td>0.797363</td>\n",
       "      <td>0.763184</td>\n",
       "      <td>0.653320</td>\n",
       "      <td>0.152954</td>\n",
       "      <td>0.000000</td>\n",
       "      <td>0.000000</td>\n",
       "      <td>76.0</td>\n",
       "      <td>21.296875</td>\n",
       "    </tr>\n",
       "    <tr>\n",
       "      <th>43644</th>\n",
       "      <td>7</td>\n",
       "      <td>23</td>\n",
       "      <td>0.965820</td>\n",
       "      <td>-0.258789</td>\n",
       "      <td>-0.866211</td>\n",
       "      <td>-0.500000</td>\n",
       "      <td>0.670898</td>\n",
       "      <td>0.650879</td>\n",
       "      <td>0.497803</td>\n",
       "      <td>0.720703</td>\n",
       "      <td>...</td>\n",
       "      <td>0.437744</td>\n",
       "      <td>0.814941</td>\n",
       "      <td>0.812012</td>\n",
       "      <td>0.797363</td>\n",
       "      <td>0.763184</td>\n",
       "      <td>0.020248</td>\n",
       "      <td>0.000000</td>\n",
       "      <td>0.000000</td>\n",
       "      <td>76.0</td>\n",
       "      <td>20.906250</td>\n",
       "    </tr>\n",
       "  </tbody>\n",
       "</table>\n",
       "<p>43645 rows × 42 columns</p>\n",
       "</div>"
      ],
      "text/plain": [
       "       Month  Hour    hour_x    hour_y   month_x   month_y  net_target  \\\n",
       "0          8     7 -0.258789  0.965820 -0.500000 -0.866211    0.417236   \n",
       "1          8     8 -0.500000  0.866211 -0.500000 -0.866211    0.375000   \n",
       "2          8     9 -0.707031  0.707031 -0.500000 -0.866211    0.322266   \n",
       "3          8    10 -0.866211  0.500000 -0.500000 -0.866211    0.248779   \n",
       "4          8    11 -0.965820  0.258789 -0.500000 -0.866211    0.161987   \n",
       "...      ...   ...       ...       ...       ...       ...         ...   \n",
       "43640      7    19  0.258789 -0.965820 -0.866211 -0.500000    0.862305   \n",
       "43641      7    20  0.500000 -0.866211 -0.866211 -0.500000    0.720703   \n",
       "43642      7    21  0.707031 -0.707031 -0.866211 -0.500000    0.497803   \n",
       "43643      7    22  0.866211 -0.500000 -0.866211 -0.500000    0.650879   \n",
       "43644      7    23  0.965820 -0.258789 -0.866211 -0.500000    0.670898   \n",
       "\n",
       "       net_target-1  net_target-2  net_target-3  ...  net_target-26  \\\n",
       "0          0.397217      0.388428      0.389648  ...       0.437744   \n",
       "1          0.417236      0.397217      0.388428  ...       0.418457   \n",
       "2          0.375000      0.417236      0.397217  ...       0.466553   \n",
       "3          0.322266      0.375000      0.417236  ...       0.341064   \n",
       "4          0.248779      0.322266      0.375000  ...       0.267334   \n",
       "...             ...           ...           ...  ...            ...   \n",
       "43640      0.771973      0.588867      0.526855  ...       0.763184   \n",
       "43641      0.862305      0.771973      0.588867  ...       0.797363   \n",
       "43642      0.720703      0.862305      0.771973  ...       0.812012   \n",
       "43643      0.497803      0.720703      0.862305  ...       0.814941   \n",
       "43644      0.650879      0.497803      0.720703  ...       0.437744   \n",
       "\n",
       "       net_target-27  net_target-28  net_target-29  net_target-30  \\\n",
       "0           0.382324       0.382080       0.383301       0.506836   \n",
       "1           0.437744       0.382324       0.382080       0.383301   \n",
       "2           0.418457       0.437744       0.382324       0.382080   \n",
       "3           0.466553       0.418457       0.437744       0.382324   \n",
       "4           0.341064       0.466553       0.418457       0.437744   \n",
       "...              ...            ...            ...            ...   \n",
       "43640       0.653320       0.482666       0.505371       0.358643   \n",
       "43641       0.763184       0.653320       0.482666       0.505371   \n",
       "43642       0.797363       0.763184       0.653320       0.482666   \n",
       "43643       0.812012       0.797363       0.763184       0.653320   \n",
       "43644       0.814941       0.812012       0.797363       0.763184   \n",
       "\n",
       "       net_target_diff  diffuse_solar_radiation+1  direct_solar_radiation+1  \\\n",
       "0             0.019974                   4.761719                  3.761719   \n",
       "1            -0.042175                   5.535156                  4.316406   \n",
       "2            -0.052582                   5.679688                  3.583984   \n",
       "3            -0.073547                   6.078125                  4.562500   \n",
       "4            -0.086792                   6.406250                  5.347656   \n",
       "...                ...                        ...                       ...   \n",
       "43640         0.090393                   3.294922                  4.875000   \n",
       "43641        -0.141235                   0.000000                  0.000000   \n",
       "43642        -0.223145                   0.000000                  0.000000   \n",
       "43643         0.152954                   0.000000                  0.000000   \n",
       "43644         0.020248                   0.000000                  0.000000   \n",
       "\n",
       "       relative_humidity+1  drybulb_temp+1  \n",
       "0                     87.0       20.000000  \n",
       "1                     87.0       20.000000  \n",
       "2                     84.0       20.000000  \n",
       "3                     76.0       21.703125  \n",
       "4                     73.0       21.703125  \n",
       "...                    ...             ...  \n",
       "43640                 84.0       20.593750  \n",
       "43641                 81.0       21.093750  \n",
       "43642                 79.0       21.703125  \n",
       "43643                 76.0       21.296875  \n",
       "43644                 76.0       20.906250  \n",
       "\n",
       "[43645 rows x 42 columns]"
      ]
     },
     "execution_count": 65,
     "metadata": {},
     "output_type": "execute_result"
    }
   ],
   "source": [
    "X = df_train.drop(['number', 'net', 'day_year'], axis=1)\n",
    "# for j in range(1,25):\n",
    "#     X = X.drop([f'net+{j}', f'net_target+{j}', f'net-{j-1}'], axis=1)\n",
    "X_temp = X.drop(['net+1', 'net_target+1', 'net-23', 'Solar_Generation_W/kW',\n",
    "       'Outdoor_Drybulb_Temperature_C', 'Relative_Humidity_%',\n",
    "       'Diffuse_Solar_Radiation_W/m2', 'Direct_Solar_Radiation_W/m2', 'cons_target'], axis=1)\n",
    "df_test = df_test.drop(['number', 'net', 'day_year'], axis=1)\n",
    "X_test = df_test.drop(['net+1', 'net_target+1', 'net-23', 'Solar_Generation_W/kW',\n",
    "         'Outdoor_Drybulb_Temperature_C', 'Relative_Humidity_%',\n",
    "            'Diffuse_Solar_Radiation_W/m2', 'Direct_Solar_Radiation_W/m2', 'cons_target'], axis=1)\n",
    "y_test = df_test['net_target+1']\n",
    "# 'net_target_diff',\n",
    "features = X_temp.columns\n",
    "categoricals = []\n",
    "print(categoricals)\n",
    "y = df_train['net_target+1']\n",
    "groups = df_train['day_year'].values\n",
    "X_temp"
   ]
  },
  {
   "cell_type": "code",
   "execution_count": 67,
   "metadata": {},
   "outputs": [
    {
     "name": "stdout",
     "output_type": "stream",
     "text": [
      "[iter 0] loss=-0.5383 val_loss=0.0000 scale=1.0000 norm=0.5775\n",
      "[iter 100] loss=-1.1400 val_loss=0.0000 scale=2.0000 norm=0.9356\n",
      "[iter 200] loss=-1.3480 val_loss=0.0000 scale=2.0000 norm=1.0646\n",
      "[iter 300] loss=-1.4011 val_loss=0.0000 scale=2.0000 norm=1.1225\n",
      "[iter 400] loss=-1.4217 val_loss=0.0000 scale=2.0000 norm=1.1382\n"
     ]
    }
   ],
   "source": [
    "ngb = NGBRegressor(Dist=Normal).fit(X_temp, y)"
   ]
  },
  {
   "cell_type": "code",
   "execution_count": 68,
   "metadata": {},
   "outputs": [
    {
     "data": {
      "text/plain": [
       "{'Dist': ngboost.distns.normal.Normal,\n",
       " 'Score': ngboost.scores.LogScore,\n",
       " 'Base': DecisionTreeRegressor(criterion='friedman_mse', max_depth=3),\n",
       " 'natural_gradient': True,\n",
       " 'n_estimators': 500,\n",
       " 'learning_rate': 0.01,\n",
       " 'minibatch_frac': 1.0,\n",
       " 'col_sample': 1.0,\n",
       " 'verbose': True,\n",
       " 'random_state': RandomState(MT19937) at 0x10A1D6C40}"
      ]
     },
     "execution_count": 68,
     "metadata": {},
     "output_type": "execute_result"
    }
   ],
   "source": [
    "# show default parameters of ngboost\n",
    "ngb.get_params()"
   ]
  },
  {
   "cell_type": "code",
   "execution_count": 69,
   "metadata": {},
   "outputs": [],
   "source": [
    "Y_preds = ngb.predict(X_temp)\n",
    "Y_dists = ngb.pred_dist(X_temp)"
   ]
  },
  {
   "cell_type": "code",
   "execution_count": 73,
   "metadata": {},
   "outputs": [
    {
     "name": "stdout",
     "output_type": "stream",
     "text": [
      "Test MSE 0.004568719157048521\n",
      "Test NLL -1.4390411522222957\n",
      "0.04600929187861998\n",
      "0.6784039000143138\n"
     ]
    }
   ],
   "source": [
    "# test Mean Squared Error\n",
    "test_MSE = mean_squared_error(Y_preds, y)\n",
    "print(\"Test MSE\", test_MSE)\n",
    "\n",
    "# test Negative Log Likelihood\n",
    "test_NLL = -Y_dists.logpdf(y).mean()\n",
    "print(\"Test NLL\", test_NLL)\n",
    "\n",
    "print(mean_absolute_error(y, Y_preds))\n",
    "#print(mean_absolute_percentage_error(y, Y_preds))\n",
    "print(calculate_mase2(Y_preds, y, X_temp['net_target-23'], y))"
   ]
  },
  {
   "cell_type": "code",
   "execution_count": 75,
   "metadata": {},
   "outputs": [
    {
     "data": {
      "text/plain": [
       "[<matplotlib.lines.Line2D at 0x16abf3ee0>]"
      ]
     },
     "execution_count": 75,
     "metadata": {},
     "output_type": "execute_result"
    },
    {
     "data": {
      "image/png": "[encoded data removed]",
      "text/plain": [
       "<Figure size 1200x600 with 1 Axes>"
      ]
     },
     "metadata": {},
     "output_type": "display_data"
    }
   ],
   "source": [
    "# plot a time series of the predicted vs actual values\n",
    "plt.figure(figsize=(12, 6))\n",
    "plt.plot(y.values, label='actual')\n",
    "plt.plot(Y_preds, label='predicted')"
   ]
  },
  {
   "cell_type": "code",
   "execution_count": 41,
   "metadata": {},
   "outputs": [
    {
     "data": {
      "text/plain": [
       "array([0.53983824, 0.47007979, 0.45409036, 0.43198391, 0.40230485,\n",
       "       0.36534566, 0.33679272, 0.32311408, 0.28780497, 0.30197518,\n",
       "       0.42644791, 0.45389205, 0.44640247, 0.46600577, 0.47416625,\n",
       "       0.51320806, 0.60465916, 0.62019856, 0.52081112, 0.46693096,\n",
       "       0.46337479, 0.4676796 , 0.4701975 , 0.45871999, 0.46363701,\n",
       "       0.49367782, 0.44357286, 0.44553757, 0.40004082, 0.3880878 ,\n",
       "       0.35688555, 0.33805646, 0.37759501, 0.4024792 , 0.40954179,\n",
       "       0.41086605, 0.43937713, 0.44572795, 0.47080628, 0.63704322,\n",
       "       0.59215253, 0.5711273 , 0.5373814 , 0.4648122 , 0.45991248,\n",
       "       0.45144255, 0.45573701, 0.46880847, 0.57559266, 0.49574592,\n",
       "       0.42942132, 0.4045428 , 0.36795334, 0.3632649 , 0.36542246,\n",
       "       0.36523821, 0.33640428, 0.33311003, 0.40249991, 0.43881491,\n",
       "       0.43069024, 0.49039042, 0.47336214, 0.49795193, 0.62072838,\n",
       "       0.56534925, 0.55783047, 0.46271176, 0.46117676, 0.46025479,\n",
       "       0.49564352, 0.48353395, 0.51257838, 0.49836509, 0.4934203 ,\n",
       "       0.46363661, 0.40058661, 0.36451606, 0.35507906, 0.34997247,\n",
       "       0.28915597, 0.38656064, 0.41787279, 0.40062896, 0.44525964,\n",
       "       0.43177407, 0.44400699, 0.49153546, 0.5393663 , 0.57299846,\n",
       "       0.55713393, 0.54289878, 0.4779533 , 0.46405246, 0.49181217,\n",
       "       0.50410926, 0.47590409, 0.52928651, 0.42805332, 0.40974865])"
      ]
     },
     "execution_count": 41,
     "metadata": {},
     "output_type": "execute_result"
    }
   ],
   "source": [
    "Y_dists.params['loc'][:100]"
   ]
  },
  {
   "cell_type": "code",
   "execution_count": 42,
   "metadata": {},
   "outputs": [
    {
     "data": {
      "text/plain": [
       "<matplotlib.legend.Legend at 0x168186460>"
      ]
     },
     "execution_count": 42,
     "metadata": {},
     "output_type": "execute_result"
    },
    {
     "data": {
      "image/png": "[encoded data removed]",
      "text/plain": [
       "<Figure size 1200x600 with 1 Axes>"
      ]
     },
     "metadata": {},
     "output_type": "display_data"
    }
   ],
   "source": [
    "# plot first 100 predicted vs actual values with distributions\n",
    "plt.figure(figsize=(12, 6))\n",
    "plt.plot(y_test.values[:100], label='actual')\n",
    "plt.plot(Y_preds[:100], label='predicted')\n",
    "plt.fill_between(np.arange(100), Y_dists.params['loc'][:100] - Y_dists.params['scale'][:100],\n",
    "                    Y_dists.params['loc'][:100] + Y_dists.params['scale'][:100], alpha=0.1)\n",
    "plt.legend()"
   ]
  },
  {
   "cell_type": "code",
   "execution_count": 56,
   "metadata": {},
   "outputs": [],
   "source": [
    "evals_result = {}\n",
    "sampler = TPESampler(seed = 123)\n",
    "\n",
    "def objective(trial):\n",
    "    params = {\n",
    "        'Dist': Normal,\n",
    "        'learning_rate': trial.suggest_loguniform('learning_rate', 1e-3, 1e-1),\n",
    "        'minibatch_frac': trial.suggest_uniform('minibatch_frac', 0.1, 1.0),\n",
    "        'col_sample': trial.suggest_uniform('col_sample', 0.1, 1.0),\n",
    "    }\n",
    "        \n",
    "    # 6-fold time-series cross validation\n",
    "    tfold = GroupTimeSeriesSplit()\n",
    "    logl_list = []\n",
    "    for _, (train_index, test_index) in tqdm(enumerate(tfold.split(X_temp, y, groups))):\n",
    "        X_train = X_temp.iloc[train_index]\n",
    "        X_val = X_temp.iloc[test_index]\n",
    "        y_train = y[train_index]\n",
    "        y_val = y[test_index]        \n",
    "        # train ngboost model\n",
    "        model = NGBRegressor(**params).fit(X_train, y_train)\n",
    "        # calculate negative log likelihood\n",
    "        Y_dists = model.pred_dist(X_val)\n",
    "        loss = -Y_dists.logpdf(y_val).mean()\n",
    "    logl_list.append(loss)\n",
    "    trial.set_user_attr(key=\"best_booster\", value=model)\n",
    "    print(f'\\n average loss: {np.mean(logl_list)}')\n",
    "    return np.mean(logl_list)\n",
    "\n",
    "def callback(study, trial):\n",
    "    if study.best_trial.number == trial.number:\n",
    "        study.set_user_attr(key=\"best_booster\", value=trial.user_attrs[\"best_booster\"])"
   ]
  },
  {
   "cell_type": "code",
   "execution_count": 57,
   "metadata": {},
   "outputs": [
    {
     "name": "stderr",
     "output_type": "stream",
     "text": [
      "\u001b[32m[I 2023-09-07 22:28:09,753]\u001b[0m A new study created in memory with name: no-name-d7d37a13-8c40-4894-aa30-35f6fdfc7a92\u001b[0m\n",
      "0it [00:00, ?it/s]"
     ]
    },
    {
     "name": "stdout",
     "output_type": "stream",
     "text": [
      "[iter 0] loss=-0.5223 val_loss=0.0000 scale=1.0000 norm=0.5873\n"
     ]
    },
    {
     "name": "stderr",
     "output_type": "stream",
     "text": [
      "1it [00:01,  1.81s/it]"
     ]
    },
    {
     "name": "stdout",
     "output_type": "stream",
     "text": [
      "[iter 0] loss=-0.6026 val_loss=0.0000 scale=1.0000 norm=0.6116\n"
     ]
    },
    {
     "name": "stderr",
     "output_type": "stream",
     "text": [
      "2it [00:05,  2.70s/it]"
     ]
    },
    {
     "name": "stdout",
     "output_type": "stream",
     "text": [
      "[iter 0] loss=-0.6165 val_loss=0.0000 scale=1.0000 norm=0.5806\n"
     ]
    },
    {
     "name": "stderr",
     "output_type": "stream",
     "text": [
      "3it [00:10,  3.83s/it]"
     ]
    },
    {
     "name": "stdout",
     "output_type": "stream",
     "text": [
      "[iter 0] loss=-0.5882 val_loss=0.0000 scale=1.0000 norm=0.5860\n"
     ]
    },
    {
     "name": "stderr",
     "output_type": "stream",
     "text": [
      "4it [00:17,  5.26s/it]"
     ]
    },
    {
     "name": "stdout",
     "output_type": "stream",
     "text": [
      "[iter 0] loss=-0.5551 val_loss=0.0000 scale=1.0000 norm=0.5822\n"
     ]
    },
    {
     "name": "stderr",
     "output_type": "stream",
     "text": [
      "5it [00:28,  5.70s/it]\n",
      "\u001b[32m[I 2023-09-07 22:28:38,279]\u001b[0m Trial 0 finished with value: -1.1354616705119531 and parameters: {'learning_rate': 0.02471373418487883, 'minibatch_frac': 0.3575254014553415, 'col_sample': 0.3041663082077828}. Best is trial 0 with value: -1.1354616705119531.\u001b[0m\n"
     ]
    },
    {
     "name": "stdout",
     "output_type": "stream",
     "text": [
      "\n",
      " average loss: -1.1354616705119531\n"
     ]
    },
    {
     "name": "stderr",
     "output_type": "stream",
     "text": [
      "0it [00:00, ?it/s]"
     ]
    },
    {
     "name": "stdout",
     "output_type": "stream",
     "text": [
      "[iter 0] loss=-0.5069 val_loss=0.0000 scale=1.0000 norm=0.5928\n"
     ]
    },
    {
     "name": "stderr",
     "output_type": "stream",
     "text": [
      "1it [00:04,  4.51s/it]"
     ]
    },
    {
     "name": "stdout",
     "output_type": "stream",
     "text": [
      "[iter 0] loss=-0.5965 val_loss=0.0000 scale=1.0000 norm=0.6106\n"
     ]
    },
    {
     "name": "stderr",
     "output_type": "stream",
     "text": [
      "2it [00:13,  7.03s/it]"
     ]
    },
    {
     "name": "stdout",
     "output_type": "stream",
     "text": [
      "[iter 0] loss=-0.6072 val_loss=0.0000 scale=1.0000 norm=0.5921\n"
     ]
    },
    {
     "name": "stderr",
     "output_type": "stream",
     "text": [
      "3it [00:26,  9.93s/it]"
     ]
    },
    {
     "name": "stdout",
     "output_type": "stream",
     "text": [
      "[iter 0] loss=-0.5885 val_loss=0.0000 scale=1.0000 norm=0.5856\n"
     ]
    },
    {
     "name": "stderr",
     "output_type": "stream",
     "text": [
      "4it [00:44, 12.92s/it]"
     ]
    },
    {
     "name": "stdout",
     "output_type": "stream",
     "text": [
      "[iter 0] loss=-0.5578 val_loss=0.0000 scale=1.0000 norm=0.5823\n"
     ]
    },
    {
     "name": "stderr",
     "output_type": "stream",
     "text": [
      "5it [01:07, 13.58s/it]\n",
      "\u001b[32m[I 2023-09-07 22:29:46,244]\u001b[0m Trial 1 finished with value: -1.069442555907473 and parameters: {'learning_rate': 0.012665709946616687, 'minibatch_frac': 0.7475220728070068, 'col_sample': 0.4807958141120149}. Best is trial 0 with value: -1.1354616705119531.\u001b[0m\n"
     ]
    },
    {
     "name": "stdout",
     "output_type": "stream",
     "text": [
      "\n",
      " average loss: -1.069442555907473\n"
     ]
    },
    {
     "name": "stderr",
     "output_type": "stream",
     "text": [
      "0it [00:00, ?it/s]"
     ]
    },
    {
     "name": "stdout",
     "output_type": "stream",
     "text": [
      "[iter 0] loss=-0.5116 val_loss=0.0000 scale=1.0000 norm=0.5951\n"
     ]
    },
    {
     "name": "stderr",
     "output_type": "stream",
     "text": [
      "1it [00:05,  5.27s/it]"
     ]
    },
    {
     "name": "stdout",
     "output_type": "stream",
     "text": [
      "[iter 0] loss=-0.5999 val_loss=0.0000 scale=1.0000 norm=0.6085\n"
     ]
    },
    {
     "name": "stderr",
     "output_type": "stream",
     "text": [
      "2it [00:16,  9.00s/it]"
     ]
    },
    {
     "name": "stdout",
     "output_type": "stream",
     "text": [
      "[iter 0] loss=-0.6118 val_loss=0.0000 scale=1.0000 norm=0.5895\n"
     ]
    },
    {
     "name": "stderr",
     "output_type": "stream",
     "text": [
      "3it [00:30, 11.09s/it]"
     ]
    },
    {
     "name": "stdout",
     "output_type": "stream",
     "text": [
      "[iter 0] loss=-0.5856 val_loss=0.0000 scale=1.0000 norm=0.5870\n"
     ]
    },
    {
     "name": "stderr",
     "output_type": "stream",
     "text": [
      "4it [00:49, 14.08s/it]"
     ]
    },
    {
     "name": "stdout",
     "output_type": "stream",
     "text": [
      "[iter 0] loss=-0.5509 val_loss=0.0000 scale=1.0000 norm=0.5879\n"
     ]
    },
    {
     "name": "stderr",
     "output_type": "stream",
     "text": [
      "5it [01:12, 14.54s/it]\n",
      "\u001b[32m[I 2023-09-07 22:30:58,994]\u001b[0m Trial 2 finished with value: -1.084417891390032 and parameters: {'learning_rate': 0.09152261002780922, 'minibatch_frac': 0.7163467647263769, 'col_sample': 0.5328387113359249}. Best is trial 0 with value: -1.1354616705119531.\u001b[0m\n"
     ]
    },
    {
     "name": "stdout",
     "output_type": "stream",
     "text": [
      "\n",
      " average loss: -1.084417891390032\n"
     ]
    },
    {
     "name": "stderr",
     "output_type": "stream",
     "text": [
      "0it [00:00, ?it/s]"
     ]
    },
    {
     "name": "stdout",
     "output_type": "stream",
     "text": [
      "[iter 0] loss=-0.5112 val_loss=0.0000 scale=1.0000 norm=0.5887\n"
     ]
    },
    {
     "name": "stderr",
     "output_type": "stream",
     "text": [
      "1it [00:03,  3.88s/it]"
     ]
    },
    {
     "name": "stdout",
     "output_type": "stream",
     "text": [
      "[iter 0] loss=-0.6101 val_loss=0.0000 scale=1.0000 norm=0.5989\n"
     ]
    },
    {
     "name": "stderr",
     "output_type": "stream",
     "text": [
      "2it [00:11,  5.95s/it]"
     ]
    },
    {
     "name": "stdout",
     "output_type": "stream",
     "text": [
      "[iter 0] loss=-0.6155 val_loss=0.0000 scale=1.0000 norm=0.5845\n"
     ]
    },
    {
     "name": "stderr",
     "output_type": "stream",
     "text": [
      "3it [00:22,  8.43s/it]"
     ]
    },
    {
     "name": "stdout",
     "output_type": "stream",
     "text": [
      "[iter 0] loss=-0.5853 val_loss=0.0000 scale=1.0000 norm=0.5857\n"
     ]
    },
    {
     "name": "stderr",
     "output_type": "stream",
     "text": [
      "4it [00:37, 11.14s/it]"
     ]
    },
    {
     "name": "stdout",
     "output_type": "stream",
     "text": [
      "[iter 0] loss=-0.5573 val_loss=0.0000 scale=1.0000 norm=0.5834\n"
     ]
    },
    {
     "name": "stderr",
     "output_type": "stream",
     "text": [
      "5it [00:58, 11.62s/it]\n",
      "\u001b[32m[I 2023-09-07 22:31:57,137]\u001b[0m Trial 3 finished with value: -0.875669739569741 and parameters: {'learning_rate': 0.006084642077147054, 'minibatch_frac': 0.4088602145357825, 'col_sample': 0.7561447366456374}. Best is trial 0 with value: -1.1354616705119531.\u001b[0m\n"
     ]
    },
    {
     "name": "stdout",
     "output_type": "stream",
     "text": [
      "\n",
      " average loss: -0.875669739569741\n"
     ]
    },
    {
     "name": "stderr",
     "output_type": "stream",
     "text": [
      "0it [00:00, ?it/s]"
     ]
    },
    {
     "name": "stdout",
     "output_type": "stream",
     "text": [
      "[iter 0] loss=-0.5216 val_loss=0.0000 scale=1.0000 norm=0.5842\n"
     ]
    },
    {
     "name": "stderr",
     "output_type": "stream",
     "text": [
      "1it [00:01,  1.43s/it]"
     ]
    },
    {
     "name": "stdout",
     "output_type": "stream",
     "text": [
      "[iter 0] loss=-0.5940 val_loss=0.0000 scale=1.0000 norm=0.6120\n"
     ]
    },
    {
     "name": "stderr",
     "output_type": "stream",
     "text": [
      "2it [00:04,  2.18s/it]"
     ]
    },
    {
     "name": "stdout",
     "output_type": "stream",
     "text": [
      "[iter 0] loss=-0.5818 val_loss=0.0000 scale=1.0000 norm=0.6097\n"
     ]
    },
    {
     "name": "stderr",
     "output_type": "stream",
     "text": [
      "3it [00:08,  3.20s/it]"
     ]
    },
    {
     "name": "stdout",
     "output_type": "stream",
     "text": [
      "[iter 0] loss=-0.5829 val_loss=0.0000 scale=1.0000 norm=0.5918\n"
     ]
    },
    {
     "name": "stderr",
     "output_type": "stream",
     "text": [
      "4it [00:15,  4.50s/it]"
     ]
    },
    {
     "name": "stdout",
     "output_type": "stream",
     "text": [
      "[iter 0] loss=-0.5576 val_loss=0.0000 scale=1.0000 norm=0.5803\n"
     ]
    },
    {
     "name": "stderr",
     "output_type": "stream",
     "text": [
      "5it [00:23,  4.78s/it]\n",
      "\u001b[32m[I 2023-09-07 22:32:21,053]\u001b[0m Trial 4 finished with value: -0.8952199502849197 and parameters: {'learning_rate': 0.007536062461086747, 'minibatch_frac': 0.15371010694861154, 'col_sample': 0.4582398297973883}. Best is trial 0 with value: -1.1354616705119531.\u001b[0m\n"
     ]
    },
    {
     "name": "stdout",
     "output_type": "stream",
     "text": [
      "\n",
      " average loss: -0.8952199502849197\n"
     ]
    },
    {
     "name": "stderr",
     "output_type": "stream",
     "text": [
      "0it [00:00, ?it/s]"
     ]
    },
    {
     "name": "stdout",
     "output_type": "stream",
     "text": [
      "[iter 0] loss=-0.5404 val_loss=0.0000 scale=1.0000 norm=0.5767\n"
     ]
    },
    {
     "name": "stderr",
     "output_type": "stream",
     "text": [
      "1it [00:01,  1.39s/it]"
     ]
    },
    {
     "name": "stdout",
     "output_type": "stream",
     "text": [
      "[iter 0] loss=-0.5963 val_loss=0.0000 scale=1.0000 norm=0.6058\n"
     ]
    },
    {
     "name": "stderr",
     "output_type": "stream",
     "text": [
      "2it [00:04,  2.12s/it]"
     ]
    },
    {
     "name": "stdout",
     "output_type": "stream",
     "text": [
      "[iter 0] loss=-0.6134 val_loss=0.0000 scale=1.0000 norm=0.5921\n"
     ]
    },
    {
     "name": "stderr",
     "output_type": "stream",
     "text": [
      "3it [00:08,  3.01s/it]"
     ]
    },
    {
     "name": "stdout",
     "output_type": "stream",
     "text": [
      "[iter 0] loss=-0.5739 val_loss=0.0000 scale=1.0000 norm=0.5962\n"
     ]
    },
    {
     "name": "stderr",
     "output_type": "stream",
     "text": [
      "4it [00:14,  4.18s/it]"
     ]
    },
    {
     "name": "stdout",
     "output_type": "stream",
     "text": [
      "[iter 0] loss=-0.5623 val_loss=0.0000 scale=1.0000 norm=0.5829\n"
     ]
    },
    {
     "name": "stderr",
     "output_type": "stream",
     "text": [
      "5it [00:22,  4.47s/it]\n",
      "\u001b[32m[I 2023-09-07 22:32:43,456]\u001b[0m Trial 5 finished with value: -1.1417396031627811 and parameters: {'learning_rate': 0.029922013287804083, 'minibatch_frac': 0.26424255740815, 'col_sample': 0.2579065805327433}. Best is trial 5 with value: -1.1417396031627811.\u001b[0m\n"
     ]
    },
    {
     "name": "stdout",
     "output_type": "stream",
     "text": [
      "\n",
      " average loss: -1.1417396031627811\n"
     ]
    },
    {
     "name": "stderr",
     "output_type": "stream",
     "text": [
      "0it [00:00, ?it/s]"
     ]
    },
    {
     "name": "stdout",
     "output_type": "stream",
     "text": [
      "[iter 0] loss=-0.5126 val_loss=0.0000 scale=1.0000 norm=0.5887\n"
     ]
    },
    {
     "name": "stderr",
     "output_type": "stream",
     "text": [
      "1it [00:04,  4.58s/it]"
     ]
    },
    {
     "name": "stdout",
     "output_type": "stream",
     "text": [
      "[iter 0] loss=-0.5922 val_loss=0.0000 scale=1.0000 norm=0.6137\n"
     ]
    },
    {
     "name": "stderr",
     "output_type": "stream",
     "text": [
      "2it [00:13,  7.18s/it]"
     ]
    },
    {
     "name": "stdout",
     "output_type": "stream",
     "text": [
      "[iter 0] loss=-0.6140 val_loss=0.0000 scale=1.0000 norm=0.5832\n"
     ]
    },
    {
     "name": "stderr",
     "output_type": "stream",
     "text": [
      "3it [00:27, 10.08s/it]"
     ]
    },
    {
     "name": "stdout",
     "output_type": "stream",
     "text": [
      "[iter 0] loss=-0.5842 val_loss=0.0000 scale=1.0000 norm=0.5870\n"
     ]
    },
    {
     "name": "stderr",
     "output_type": "stream",
     "text": [
      "4it [00:46, 13.92s/it]"
     ]
    },
    {
     "name": "stdout",
     "output_type": "stream",
     "text": [
      "[iter 0] loss=-0.5544 val_loss=0.0000 scale=1.0000 norm=0.5834\n"
     ]
    },
    {
     "name": "stderr",
     "output_type": "stream",
     "text": [
      "5it [01:10, 14.18s/it]\n",
      "\u001b[32m[I 2023-09-07 22:33:54,394]\u001b[0m Trial 6 finished with value: -1.0608839274178214 and parameters: {'learning_rate': 0.011563857936940024, 'minibatch_frac': 0.5786448283871795, 'col_sample': 0.6709608626961889}. Best is trial 5 with value: -1.1417396031627811.\u001b[0m\n"
     ]
    },
    {
     "name": "stdout",
     "output_type": "stream",
     "text": [
      "\n",
      " average loss: -1.0608839274178214\n"
     ]
    },
    {
     "name": "stderr",
     "output_type": "stream",
     "text": [
      "0it [00:00, ?it/s]"
     ]
    },
    {
     "name": "stdout",
     "output_type": "stream",
     "text": [
      "[iter 0] loss=-0.5105 val_loss=0.0000 scale=1.0000 norm=0.5900\n"
     ]
    },
    {
     "name": "stderr",
     "output_type": "stream",
     "text": [
      "1it [00:05,  5.61s/it]"
     ]
    },
    {
     "name": "stdout",
     "output_type": "stream",
     "text": [
      "[iter 0] loss=-0.5992 val_loss=0.0000 scale=1.0000 norm=0.6095\n"
     ]
    },
    {
     "name": "stderr",
     "output_type": "stream",
     "text": [
      "2it [00:17,  9.11s/it]"
     ]
    },
    {
     "name": "stdout",
     "output_type": "stream",
     "text": [
      "[iter 0] loss=-0.6081 val_loss=0.0000 scale=1.0000 norm=0.5895\n"
     ]
    },
    {
     "name": "stderr",
     "output_type": "stream",
     "text": [
      "3it [00:33, 12.34s/it]"
     ]
    },
    {
     "name": "stdout",
     "output_type": "stream",
     "text": [
      "[iter 0] loss=-0.5879 val_loss=0.0000 scale=1.0000 norm=0.5861\n"
     ]
    },
    {
     "name": "stderr",
     "output_type": "stream",
     "text": [
      "4it [00:55, 16.32s/it]"
     ]
    },
    {
     "name": "stdout",
     "output_type": "stream",
     "text": [
      "[iter 0] loss=-0.5538 val_loss=0.0000 scale=1.0000 norm=0.5857\n"
     ]
    },
    {
     "name": "stderr",
     "output_type": "stream",
     "text": [
      "5it [01:25, 17.20s/it]\n",
      "\u001b[32m[I 2023-09-07 22:35:20,441]\u001b[0m Trial 7 finished with value: -1.1185403478974332 and parameters: {'learning_rate': 0.04998774988536159, 'minibatch_frac': 0.7520097923745717, 'col_sample': 0.6499211596098246}. Best is trial 5 with value: -1.1417396031627811.\u001b[0m\n"
     ]
    },
    {
     "name": "stdout",
     "output_type": "stream",
     "text": [
      "\n",
      " average loss: -1.1185403478974332\n"
     ]
    },
    {
     "name": "stderr",
     "output_type": "stream",
     "text": [
      "0it [00:00, ?it/s]"
     ]
    },
    {
     "name": "stdout",
     "output_type": "stream",
     "text": [
      "[iter 0] loss=-0.5029 val_loss=0.0000 scale=1.0000 norm=0.5937\n"
     ]
    },
    {
     "name": "stderr",
     "output_type": "stream",
     "text": [
      "1it [00:02,  2.43s/it]"
     ]
    },
    {
     "name": "stdout",
     "output_type": "stream",
     "text": [
      "[iter 0] loss=-0.6146 val_loss=0.0000 scale=1.0000 norm=0.6004\n"
     ]
    },
    {
     "name": "stderr",
     "output_type": "stream",
     "text": [
      "2it [00:06,  3.66s/it]"
     ]
    },
    {
     "name": "stdout",
     "output_type": "stream",
     "text": [
      "[iter 0] loss=-0.6055 val_loss=0.0000 scale=1.0000 norm=0.5899\n"
     ]
    },
    {
     "name": "stderr",
     "output_type": "stream",
     "text": [
      "3it [00:13,  5.17s/it]"
     ]
    },
    {
     "name": "stdout",
     "output_type": "stream",
     "text": [
      "[iter 0] loss=-0.5875 val_loss=0.0000 scale=1.0000 norm=0.5860\n"
     ]
    },
    {
     "name": "stderr",
     "output_type": "stream",
     "text": [
      "4it [00:23,  7.00s/it]"
     ]
    },
    {
     "name": "stdout",
     "output_type": "stream",
     "text": [
      "[iter 0] loss=-0.5509 val_loss=0.0000 scale=1.0000 norm=0.5906\n"
     ]
    },
    {
     "name": "stderr",
     "output_type": "stream",
     "text": [
      "5it [00:36,  7.37s/it]\n",
      "\u001b[32m[I 2023-09-07 22:35:57,324]\u001b[0m Trial 8 finished with value: -1.1301729325541474 and parameters: {'learning_rate': 0.02785394829873094, 'minibatch_frac': 0.39066302246786044, 'col_sample': 0.4256097900600827}. Best is trial 5 with value: -1.1417396031627811.\u001b[0m\n"
     ]
    },
    {
     "name": "stdout",
     "output_type": "stream",
     "text": [
      "\n",
      " average loss: -1.1301729325541474\n"
     ]
    },
    {
     "name": "stderr",
     "output_type": "stream",
     "text": [
      "0it [00:00, ?it/s]"
     ]
    },
    {
     "name": "stdout",
     "output_type": "stream",
     "text": [
      "[iter 0] loss=-0.5208 val_loss=0.0000 scale=1.0000 norm=0.5787\n"
     ]
    },
    {
     "name": "stderr",
     "output_type": "stream",
     "text": [
      "1it [00:03,  3.24s/it]"
     ]
    },
    {
     "name": "stdout",
     "output_type": "stream",
     "text": [
      "[iter 0] loss=-0.5986 val_loss=0.0000 scale=1.0000 norm=0.6100\n"
     ]
    },
    {
     "name": "stderr",
     "output_type": "stream",
     "text": [
      "2it [00:09,  5.08s/it]"
     ]
    },
    {
     "name": "stdout",
     "output_type": "stream",
     "text": [
      "[iter 0] loss=-0.6053 val_loss=0.0000 scale=1.0000 norm=0.5891\n"
     ]
    },
    {
     "name": "stderr",
     "output_type": "stream",
     "text": [
      "3it [00:19,  7.09s/it]"
     ]
    },
    {
     "name": "stdout",
     "output_type": "stream",
     "text": [
      "[iter 0] loss=-0.5814 val_loss=0.0000 scale=1.0000 norm=0.5930\n"
     ]
    },
    {
     "name": "stderr",
     "output_type": "stream",
     "text": [
      "4it [00:32,  9.54s/it]"
     ]
    },
    {
     "name": "stdout",
     "output_type": "stream",
     "text": [
      "[iter 0] loss=-0.5456 val_loss=0.0000 scale=1.0000 norm=0.5933\n"
     ]
    },
    {
     "name": "stderr",
     "output_type": "stream",
     "text": [
      "5it [00:49,  9.96s/it]\n",
      "\u001b[32m[I 2023-09-07 22:36:47,165]\u001b[0m Trial 9 finished with value: -0.6715703795090908 and parameters: {'learning_rate': 0.0028610566807854877, 'minibatch_frac': 0.36434264174994646, 'col_sample': 0.667878511469039}. Best is trial 5 with value: -1.1417396031627811.\u001b[0m\n"
     ]
    },
    {
     "name": "stdout",
     "output_type": "stream",
     "text": [
      "\n",
      " average loss: -0.6715703795090908\n"
     ]
    },
    {
     "name": "stderr",
     "output_type": "stream",
     "text": [
      "0it [00:00, ?it/s]"
     ]
    },
    {
     "name": "stdout",
     "output_type": "stream",
     "text": [
      "[iter 0] loss=-0.5157 val_loss=0.0000 scale=1.0000 norm=0.5880\n"
     ]
    },
    {
     "name": "stderr",
     "output_type": "stream",
     "text": [
      "1it [00:02,  2.32s/it]"
     ]
    },
    {
     "name": "stdout",
     "output_type": "stream",
     "text": [
      "[iter 0] loss=-0.6006 val_loss=0.0000 scale=1.0000 norm=0.6092\n"
     ]
    },
    {
     "name": "stderr",
     "output_type": "stream",
     "text": [
      "2it [00:06,  3.56s/it]"
     ]
    },
    {
     "name": "stdout",
     "output_type": "stream",
     "text": [
      "[iter 0] loss=-0.6077 val_loss=0.0000 scale=1.0000 norm=0.5899\n"
     ]
    },
    {
     "name": "stderr",
     "output_type": "stream",
     "text": [
      "3it [00:13,  4.97s/it]"
     ]
    },
    {
     "name": "stdout",
     "output_type": "stream",
     "text": [
      "[iter 0] loss=-0.5849 val_loss=0.0000 scale=1.0000 norm=0.5879\n"
     ]
    },
    {
     "name": "stderr",
     "output_type": "stream",
     "text": [
      "4it [00:22,  6.69s/it]"
     ]
    },
    {
     "name": "stdout",
     "output_type": "stream",
     "text": [
      "[iter 0] loss=-0.5566 val_loss=0.0000 scale=1.0000 norm=0.5842\n"
     ]
    },
    {
     "name": "stderr",
     "output_type": "stream",
     "text": [
      "5it [00:35,  7.07s/it]\n",
      "\u001b[32m[I 2023-09-07 22:37:22,562]\u001b[0m Trial 10 finished with value: -0.5488242108335403 and parameters: {'learning_rate': 0.001569671210725707, 'minibatch_frac': 0.9583095033596778, 'col_sample': 0.14586606216253234}. Best is trial 5 with value: -1.1417396031627811.\u001b[0m\n"
     ]
    },
    {
     "name": "stdout",
     "output_type": "stream",
     "text": [
      "\n",
      " average loss: -0.5488242108335403\n"
     ]
    },
    {
     "name": "stderr",
     "output_type": "stream",
     "text": [
      "0it [00:00, ?it/s]"
     ]
    },
    {
     "name": "stdout",
     "output_type": "stream",
     "text": [
      "[iter 0] loss=-0.5641 val_loss=0.0000 scale=1.0000 norm=0.5644\n"
     ]
    },
    {
     "name": "stderr",
     "output_type": "stream",
     "text": [
      "1it [00:01,  1.58s/it]"
     ]
    },
    {
     "name": "stdout",
     "output_type": "stream",
     "text": [
      "[iter 0] loss=-0.5983 val_loss=0.0000 scale=1.0000 norm=0.6135\n"
     ]
    },
    {
     "name": "stderr",
     "output_type": "stream",
     "text": [
      "2it [00:03,  1.74s/it]"
     ]
    },
    {
     "name": "stdout",
     "output_type": "stream",
     "text": [
      "[iter 0] loss=-0.6316 val_loss=0.0000 scale=1.0000 norm=0.5743\n"
     ]
    },
    {
     "name": "stderr",
     "output_type": "stream",
     "text": [
      "3it [00:06,  2.30s/it]"
     ]
    },
    {
     "name": "stdout",
     "output_type": "stream",
     "text": [
      "[iter 0] loss=-0.5852 val_loss=0.0000 scale=1.0000 norm=0.5904\n"
     ]
    },
    {
     "name": "stderr",
     "output_type": "stream",
     "text": [
      "4it [00:10,  3.17s/it]"
     ]
    },
    {
     "name": "stdout",
     "output_type": "stream",
     "text": [
      "[iter 0] loss=-0.5469 val_loss=0.0000 scale=1.0000 norm=0.5860\n"
     ]
    },
    {
     "name": "stderr",
     "output_type": "stream",
     "text": [
      "5it [00:17,  3.45s/it]\n",
      "\u001b[32m[I 2023-09-07 22:37:39,867]\u001b[0m Trial 11 finished with value: -1.127485696826073 and parameters: {'learning_rate': 0.026370634050048934, 'minibatch_frac': 0.12352233241864835, 'col_sample': 0.2111246679459916}. Best is trial 5 with value: -1.1417396031627811.\u001b[0m\n"
     ]
    },
    {
     "name": "stdout",
     "output_type": "stream",
     "text": [
      "\n",
      " average loss: -1.127485696826073\n"
     ]
    },
    {
     "name": "stderr",
     "output_type": "stream",
     "text": [
      "0it [00:00, ?it/s]"
     ]
    },
    {
     "name": "stdout",
     "output_type": "stream",
     "text": [
      "[iter 0] loss=-0.4995 val_loss=0.0000 scale=1.0000 norm=0.5997\n"
     ]
    },
    {
     "name": "stderr",
     "output_type": "stream",
     "text": [
      "1it [00:03,  3.43s/it]"
     ]
    },
    {
     "name": "stdout",
     "output_type": "stream",
     "text": [
      "[iter 0] loss=-0.6195 val_loss=0.0000 scale=1.0000 norm=0.5992\n"
     ]
    },
    {
     "name": "stderr",
     "output_type": "stream",
     "text": [
      "2it [00:10,  5.44s/it]"
     ]
    },
    {
     "name": "stdout",
     "output_type": "stream",
     "text": [
      "[iter 0] loss=-0.6080 val_loss=0.0000 scale=1.0000 norm=0.5948\n"
     ]
    },
    {
     "name": "stderr",
     "output_type": "stream",
     "text": [
      "3it [00:20,  7.48s/it]"
     ]
    },
    {
     "name": "stdout",
     "output_type": "stream",
     "text": [
      "[iter 0] loss=-0.5875 val_loss=0.0000 scale=1.0000 norm=0.5820\n"
     ]
    },
    {
     "name": "stderr",
     "output_type": "stream",
     "text": [
      "4it [00:34, 10.13s/it]"
     ]
    },
    {
     "name": "stdout",
     "output_type": "stream",
     "text": [
      "[iter 0] loss=-0.5533 val_loss=0.0000 scale=1.0000 norm=0.5882\n"
     ]
    },
    {
     "name": "stderr",
     "output_type": "stream",
     "text": [
      "5it [00:52, 10.50s/it]\n",
      "\u001b[32m[I 2023-09-07 22:38:32,417]\u001b[0m Trial 12 finished with value: -1.1257937090968826 and parameters: {'learning_rate': 0.02434204875372115, 'minibatch_frac': 0.2605263559124284, 'col_sample': 0.9876601507615161}. Best is trial 5 with value: -1.1417396031627811.\u001b[0m\n"
     ]
    },
    {
     "name": "stdout",
     "output_type": "stream",
     "text": [
      "\n",
      " average loss: -1.1257937090968826\n"
     ]
    },
    {
     "name": "stderr",
     "output_type": "stream",
     "text": [
      "0it [00:00, ?it/s]"
     ]
    },
    {
     "name": "stdout",
     "output_type": "stream",
     "text": [
      "[iter 0] loss=-0.5247 val_loss=0.0000 scale=1.0000 norm=0.5842\n"
     ]
    },
    {
     "name": "stderr",
     "output_type": "stream",
     "text": [
      "1it [00:02,  2.33s/it]"
     ]
    },
    {
     "name": "stdout",
     "output_type": "stream",
     "text": [
      "[iter 0] loss=-0.5991 val_loss=0.0000 scale=1.0000 norm=0.6095\n"
     ]
    },
    {
     "name": "stderr",
     "output_type": "stream",
     "text": [
      "2it [00:06,  3.57s/it]"
     ]
    },
    {
     "name": "stdout",
     "output_type": "stream",
     "text": [
      "[iter 0] loss=-0.6181 val_loss=0.0000 scale=1.0000 norm=0.5830\n"
     ]
    },
    {
     "name": "stderr",
     "output_type": "stream",
     "text": [
      "3it [00:13,  5.18s/it]"
     ]
    },
    {
     "name": "stdout",
     "output_type": "stream",
     "text": [
      "[iter 0] loss=-0.5978 val_loss=0.0000 scale=1.0000 norm=0.5814\n"
     ]
    },
    {
     "name": "stderr",
     "output_type": "stream",
     "text": [
      "4it [00:23,  6.91s/it]"
     ]
    },
    {
     "name": "stdout",
     "output_type": "stream",
     "text": [
      "[iter 0] loss=-0.5527 val_loss=0.0000 scale=1.0000 norm=0.5865\n"
     ]
    },
    {
     "name": "stderr",
     "output_type": "stream",
     "text": [
      "5it [00:36,  7.32s/it]\n",
      "\u001b[32m[I 2023-09-07 22:39:09,052]\u001b[0m Trial 13 finished with value: -1.123540818834848 and parameters: {'learning_rate': 0.061143595500708706, 'minibatch_frac': 0.5308017691477184, 'col_sample': 0.2973844145586381}. Best is trial 5 with value: -1.1417396031627811.\u001b[0m\n"
     ]
    },
    {
     "name": "stdout",
     "output_type": "stream",
     "text": [
      "\n",
      " average loss: -1.123540818834848\n"
     ]
    },
    {
     "name": "stderr",
     "output_type": "stream",
     "text": [
      "0it [00:00, ?it/s]"
     ]
    },
    {
     "name": "stdout",
     "output_type": "stream",
     "text": [
      "[iter 0] loss=-0.5166 val_loss=0.0000 scale=1.0000 norm=0.5898\n"
     ]
    },
    {
     "name": "stderr",
     "output_type": "stream",
     "text": [
      "1it [00:01,  1.54s/it]"
     ]
    },
    {
     "name": "stdout",
     "output_type": "stream",
     "text": [
      "[iter 0] loss=-0.6111 val_loss=0.0000 scale=1.0000 norm=0.6011\n"
     ]
    },
    {
     "name": "stderr",
     "output_type": "stream",
     "text": [
      "2it [00:04,  2.35s/it]"
     ]
    },
    {
     "name": "stdout",
     "output_type": "stream",
     "text": [
      "[iter 0] loss=-0.6093 val_loss=0.0000 scale=1.0000 norm=0.5895\n"
     ]
    },
    {
     "name": "stderr",
     "output_type": "stream",
     "text": [
      "3it [00:09,  3.36s/it]"
     ]
    },
    {
     "name": "stdout",
     "output_type": "stream",
     "text": [
      "[iter 0] loss=-0.5820 val_loss=0.0000 scale=1.0000 norm=0.5900\n"
     ]
    },
    {
     "name": "stderr",
     "output_type": "stream",
     "text": [
      "4it [00:15,  4.65s/it]"
     ]
    },
    {
     "name": "stdout",
     "output_type": "stream",
     "text": [
      "[iter 0] loss=-0.5605 val_loss=0.0000 scale=1.0000 norm=0.5775\n"
     ]
    },
    {
     "name": "stderr",
     "output_type": "stream",
     "text": [
      "5it [00:24,  4.94s/it]\n",
      "\u001b[32m[I 2023-09-07 22:39:33,816]\u001b[0m Trial 14 finished with value: -1.1168399239887845 and parameters: {'learning_rate': 0.01747005269753773, 'minibatch_frac': 0.27155923194507703, 'col_sample': 0.2955543457660051}. Best is trial 5 with value: -1.1417396031627811.\u001b[0m\n"
     ]
    },
    {
     "name": "stdout",
     "output_type": "stream",
     "text": [
      "\n",
      " average loss: -1.1168399239887845\n"
     ]
    },
    {
     "name": "stderr",
     "output_type": "stream",
     "text": [
      "0it [00:00, ?it/s]"
     ]
    },
    {
     "name": "stdout",
     "output_type": "stream",
     "text": [
      "[iter 0] loss=-0.4978 val_loss=0.0000 scale=1.0000 norm=0.5936\n"
     ]
    },
    {
     "name": "stderr",
     "output_type": "stream",
     "text": [
      "1it [00:01,  1.53s/it]"
     ]
    },
    {
     "name": "stdout",
     "output_type": "stream",
     "text": [
      "[iter 0] loss=-0.5955 val_loss=0.0000 scale=1.0000 norm=0.6129\n"
     ]
    },
    {
     "name": "stderr",
     "output_type": "stream",
     "text": [
      "2it [00:04,  2.28s/it]"
     ]
    },
    {
     "name": "stdout",
     "output_type": "stream",
     "text": [
      "[iter 0] loss=-0.6209 val_loss=0.0000 scale=1.0000 norm=0.5793\n"
     ]
    },
    {
     "name": "stderr",
     "output_type": "stream",
     "text": [
      "3it [00:08,  3.31s/it]"
     ]
    },
    {
     "name": "stdout",
     "output_type": "stream",
     "text": [
      "[iter 0] loss=-0.5966 val_loss=0.0000 scale=1.0000 norm=0.5798\n"
     ]
    },
    {
     "name": "stderr",
     "output_type": "stream",
     "text": [
      "4it [00:15,  4.68s/it]"
     ]
    },
    {
     "name": "stdout",
     "output_type": "stream",
     "text": [
      "[iter 0] loss=-0.5588 val_loss=0.0000 scale=1.0000 norm=0.5818\n"
     ]
    },
    {
     "name": "stderr",
     "output_type": "stream",
     "text": [
      "5it [00:24,  4.93s/it]\n",
      "\u001b[32m[I 2023-09-07 22:39:58,512]\u001b[0m Trial 15 finished with value: -1.114652461135575 and parameters: {'learning_rate': 0.0452260955969372, 'minibatch_frac': 0.24775361775252233, 'col_sample': 0.3228057521310409}. Best is trial 5 with value: -1.1417396031627811.\u001b[0m\n"
     ]
    },
    {
     "name": "stdout",
     "output_type": "stream",
     "text": [
      "\n",
      " average loss: -1.114652461135575\n"
     ]
    },
    {
     "name": "stderr",
     "output_type": "stream",
     "text": [
      "0it [00:00, ?it/s]"
     ]
    },
    {
     "name": "stdout",
     "output_type": "stream",
     "text": [
      "[iter 0] loss=-0.5023 val_loss=0.0000 scale=1.0000 norm=0.5983\n"
     ]
    },
    {
     "name": "stderr",
     "output_type": "stream",
     "text": [
      "1it [00:01,  1.24s/it]"
     ]
    },
    {
     "name": "stdout",
     "output_type": "stream",
     "text": [
      "[iter 0] loss=-0.5813 val_loss=0.0000 scale=1.0000 norm=0.6207\n"
     ]
    },
    {
     "name": "stderr",
     "output_type": "stream",
     "text": [
      "2it [00:03,  1.86s/it]"
     ]
    },
    {
     "name": "stdout",
     "output_type": "stream",
     "text": [
      "[iter 0] loss=-0.5976 val_loss=0.0000 scale=1.0000 norm=0.5988\n"
     ]
    },
    {
     "name": "stderr",
     "output_type": "stream",
     "text": [
      "3it [00:07,  2.68s/it]"
     ]
    },
    {
     "name": "stdout",
     "output_type": "stream",
     "text": [
      "[iter 0] loss=-0.5845 val_loss=0.0000 scale=1.0000 norm=0.5869\n"
     ]
    },
    {
     "name": "stderr",
     "output_type": "stream",
     "text": [
      "4it [00:12,  3.79s/it]"
     ]
    },
    {
     "name": "stdout",
     "output_type": "stream",
     "text": [
      "[iter 0] loss=-0.5546 val_loss=0.0000 scale=1.0000 norm=0.5866\n"
     ]
    },
    {
     "name": "stderr",
     "output_type": "stream",
     "text": [
      "5it [00:20,  4.04s/it]\n",
      "\u001b[32m[I 2023-09-07 22:40:18,750]\u001b[0m Trial 16 finished with value: -0.6875931439109347 and parameters: {'learning_rate': 0.004667033354991915, 'minibatch_frac': 0.462800274850985, 'col_sample': 0.10227198393952319}. Best is trial 5 with value: -1.1417396031627811.\u001b[0m\n"
     ]
    },
    {
     "name": "stdout",
     "output_type": "stream",
     "text": [
      "\n",
      " average loss: -0.6875931439109347\n"
     ]
    },
    {
     "name": "stderr",
     "output_type": "stream",
     "text": [
      "0it [00:00, ?it/s]"
     ]
    },
    {
     "name": "stdout",
     "output_type": "stream",
     "text": [
      "[iter 0] loss=-0.5234 val_loss=0.0000 scale=1.0000 norm=0.5872\n"
     ]
    },
    {
     "name": "stderr",
     "output_type": "stream",
     "text": [
      "1it [00:01,  1.38s/it]"
     ]
    },
    {
     "name": "stdout",
     "output_type": "stream",
     "text": [
      "[iter 0] loss=-0.5886 val_loss=0.0000 scale=1.0000 norm=0.6187\n"
     ]
    },
    {
     "name": "stderr",
     "output_type": "stream",
     "text": [
      "2it [00:03,  2.04s/it]"
     ]
    },
    {
     "name": "stdout",
     "output_type": "stream",
     "text": [
      "[iter 0] loss=-0.6079 val_loss=0.0000 scale=1.0000 norm=0.5894\n"
     ]
    },
    {
     "name": "stderr",
     "output_type": "stream",
     "text": [
      "3it [00:07,  2.92s/it]"
     ]
    },
    {
     "name": "stdout",
     "output_type": "stream",
     "text": [
      "[iter 0] loss=-0.5893 val_loss=0.0000 scale=1.0000 norm=0.5841\n"
     ]
    },
    {
     "name": "stderr",
     "output_type": "stream",
     "text": [
      "4it [00:13,  4.02s/it]"
     ]
    },
    {
     "name": "stdout",
     "output_type": "stream",
     "text": [
      "[iter 0] loss=-0.5630 val_loss=0.0000 scale=1.0000 norm=0.5784\n"
     ]
    },
    {
     "name": "stderr",
     "output_type": "stream",
     "text": [
      "5it [00:21,  4.33s/it]\n",
      "\u001b[32m[I 2023-09-07 22:40:40,426]\u001b[0m Trial 17 finished with value: -1.121222047787667 and parameters: {'learning_rate': 0.03680354457759729, 'minibatch_frac': 0.30399869607346613, 'col_sample': 0.20604304264726928}. Best is trial 5 with value: -1.1417396031627811.\u001b[0m\n"
     ]
    },
    {
     "name": "stdout",
     "output_type": "stream",
     "text": [
      "\n",
      " average loss: -1.121222047787667\n"
     ]
    },
    {
     "name": "stderr",
     "output_type": "stream",
     "text": [
      "0it [00:00, ?it/s]"
     ]
    },
    {
     "name": "stdout",
     "output_type": "stream",
     "text": [
      "[iter 0] loss=-0.5119 val_loss=0.0000 scale=1.0000 norm=0.5932\n"
     ]
    },
    {
     "name": "stderr",
     "output_type": "stream",
     "text": [
      "1it [00:02,  2.85s/it]"
     ]
    },
    {
     "name": "stdout",
     "output_type": "stream",
     "text": [
      "[iter 0] loss=-0.6034 val_loss=0.0000 scale=1.0000 norm=0.6042\n"
     ]
    },
    {
     "name": "stderr",
     "output_type": "stream",
     "text": [
      "2it [00:08,  4.31s/it]"
     ]
    },
    {
     "name": "stdout",
     "output_type": "stream",
     "text": [
      "[iter 0] loss=-0.6109 val_loss=0.0000 scale=1.0000 norm=0.5900\n"
     ]
    },
    {
     "name": "stderr",
     "output_type": "stream",
     "text": [
      "3it [00:16,  6.18s/it]"
     ]
    },
    {
     "name": "stdout",
     "output_type": "stream",
     "text": [
      "[iter 0] loss=-0.5818 val_loss=0.0000 scale=1.0000 norm=0.5914\n"
     ]
    },
    {
     "name": "stderr",
     "output_type": "stream",
     "text": [
      "4it [00:27,  8.23s/it]"
     ]
    },
    {
     "name": "stdout",
     "output_type": "stream",
     "text": [
      "[iter 0] loss=-0.5613 val_loss=0.0000 scale=1.0000 norm=0.5814\n"
     ]
    },
    {
     "name": "stderr",
     "output_type": "stream",
     "text": [
      "5it [00:43,  8.64s/it]\n",
      "\u001b[32m[I 2023-09-07 22:41:23,652]\u001b[0m Trial 18 finished with value: -1.1154257306966748 and parameters: {'learning_rate': 0.09738271039461624, 'minibatch_frac': 0.6033030326766393, 'col_sample': 0.3466497008053269}. Best is trial 5 with value: -1.1417396031627811.\u001b[0m\n"
     ]
    },
    {
     "name": "stdout",
     "output_type": "stream",
     "text": [
      "\n",
      " average loss: -1.1154257306966748\n"
     ]
    },
    {
     "name": "stderr",
     "output_type": "stream",
     "text": [
      "0it [00:00, ?it/s]"
     ]
    },
    {
     "name": "stdout",
     "output_type": "stream",
     "text": [
      "[iter 0] loss=-0.5285 val_loss=0.0000 scale=1.0000 norm=0.5979\n"
     ]
    },
    {
     "name": "stderr",
     "output_type": "stream",
     "text": [
      "1it [00:01,  1.44s/it]"
     ]
    },
    {
     "name": "stdout",
     "output_type": "stream",
     "text": [
      "[iter 0] loss=-0.5765 val_loss=0.0000 scale=1.0000 norm=0.6270\n"
     ]
    },
    {
     "name": "stderr",
     "output_type": "stream",
     "text": [
      "2it [00:04,  2.19s/it]"
     ]
    },
    {
     "name": "stdout",
     "output_type": "stream",
     "text": [
      "[iter 0] loss=-0.6121 val_loss=0.0000 scale=1.0000 norm=0.5873\n"
     ]
    },
    {
     "name": "stderr",
     "output_type": "stream",
     "text": [
      "3it [00:08,  3.17s/it]"
     ]
    },
    {
     "name": "stdout",
     "output_type": "stream",
     "text": [
      "[iter 0] loss=-0.5800 val_loss=0.0000 scale=1.0000 norm=0.5849\n"
     ]
    },
    {
     "name": "stderr",
     "output_type": "stream",
     "text": [
      "4it [00:14,  4.40s/it]"
     ]
    },
    {
     "name": "stdout",
     "output_type": "stream",
     "text": [
      "[iter 0] loss=-0.5543 val_loss=0.0000 scale=1.0000 norm=0.5861\n"
     ]
    },
    {
     "name": "stderr",
     "output_type": "stream",
     "text": [
      "5it [00:23,  4.74s/it]\n",
      "\u001b[32m[I 2023-09-07 22:41:47,385]\u001b[0m Trial 19 finished with value: -1.1028079050666408 and parameters: {'learning_rate': 0.016018246587447046, 'minibatch_frac': 0.18478277873535237, 'col_sample': 0.40050174340663874}. Best is trial 5 with value: -1.1417396031627811.\u001b[0m\n"
     ]
    },
    {
     "name": "stdout",
     "output_type": "stream",
     "text": [
      "\n",
      " average loss: -1.1028079050666408\n"
     ]
    },
    {
     "name": "stderr",
     "output_type": "stream",
     "text": [
      "0it [00:00, ?it/s]"
     ]
    },
    {
     "name": "stdout",
     "output_type": "stream",
     "text": [
      "[iter 0] loss=-0.5178 val_loss=0.0000 scale=1.0000 norm=0.5866\n"
     ]
    },
    {
     "name": "stderr",
     "output_type": "stream",
     "text": [
      "1it [00:02,  2.95s/it]"
     ]
    },
    {
     "name": "stdout",
     "output_type": "stream",
     "text": [
      "[iter 0] loss=-0.5989 val_loss=0.0000 scale=1.0000 norm=0.6096\n"
     ]
    },
    {
     "name": "stderr",
     "output_type": "stream",
     "text": [
      "2it [00:08,  4.61s/it]"
     ]
    },
    {
     "name": "stdout",
     "output_type": "stream",
     "text": [
      "[iter 0] loss=-0.6084 val_loss=0.0000 scale=1.0000 norm=0.5896\n"
     ]
    },
    {
     "name": "stderr",
     "output_type": "stream",
     "text": [
      "3it [00:17,  6.47s/it]"
     ]
    },
    {
     "name": "stdout",
     "output_type": "stream",
     "text": [
      "[iter 0] loss=-0.5845 val_loss=0.0000 scale=1.0000 norm=0.5882\n"
     ]
    },
    {
     "name": "stderr",
     "output_type": "stream",
     "text": [
      "4it [00:29,  8.64s/it]"
     ]
    },
    {
     "name": "stdout",
     "output_type": "stream",
     "text": [
      "[iter 0] loss=-0.5570 val_loss=0.0000 scale=1.0000 norm=0.5836\n"
     ]
    },
    {
     "name": "stderr",
     "output_type": "stream",
     "text": [
      "5it [00:45,  9.02s/it]\n",
      "\u001b[32m[I 2023-09-07 22:42:32,525]\u001b[0m Trial 20 finished with value: -0.6619551042048138 and parameters: {'learning_rate': 0.003475777948812085, 'minibatch_frac': 0.979312293294266, 'col_sample': 0.22064094790353084}. Best is trial 5 with value: -1.1417396031627811.\u001b[0m\n"
     ]
    },
    {
     "name": "stdout",
     "output_type": "stream",
     "text": [
      "\n",
      " average loss: -0.6619551042048138\n"
     ]
    },
    {
     "name": "stderr",
     "output_type": "stream",
     "text": [
      "0it [00:00, ?it/s]"
     ]
    },
    {
     "name": "stdout",
     "output_type": "stream",
     "text": [
      "[iter 0] loss=-0.4962 val_loss=0.0000 scale=1.0000 norm=0.6016\n"
     ]
    },
    {
     "name": "stderr",
     "output_type": "stream",
     "text": [
      "1it [00:02,  2.83s/it]"
     ]
    },
    {
     "name": "stdout",
     "output_type": "stream",
     "text": [
      "[iter 0] loss=-0.5955 val_loss=0.0000 scale=1.0000 norm=0.6091\n"
     ]
    },
    {
     "name": "stderr",
     "output_type": "stream",
     "text": [
      "2it [00:07,  3.69s/it]"
     ]
    },
    {
     "name": "stdout",
     "output_type": "stream",
     "text": [
      "[iter 0] loss=-0.5982 val_loss=0.0000 scale=1.0000 norm=0.6011\n"
     ]
    },
    {
     "name": "stderr",
     "output_type": "stream",
     "text": [
      "3it [00:13,  5.08s/it]"
     ]
    },
    {
     "name": "stdout",
     "output_type": "stream",
     "text": [
      "[iter 0] loss=-0.5865 val_loss=0.0000 scale=1.0000 norm=0.5877\n"
     ]
    },
    {
     "name": "stderr",
     "output_type": "stream",
     "text": [
      "4it [00:23,  6.80s/it]"
     ]
    },
    {
     "name": "stdout",
     "output_type": "stream",
     "text": [
      "[iter 0] loss=-0.5663 val_loss=0.0000 scale=1.0000 norm=0.5774\n"
     ]
    },
    {
     "name": "stderr",
     "output_type": "stream",
     "text": [
      "5it [00:35,  7.19s/it]\n",
      "\u001b[32m[I 2023-09-07 22:43:08,525]\u001b[0m Trial 21 finished with value: -1.1355114232017378 and parameters: {'learning_rate': 0.02461494573229242, 'minibatch_frac': 0.38866022982425225, 'col_sample': 0.3862946049666018}. Best is trial 5 with value: -1.1417396031627811.\u001b[0m\n"
     ]
    },
    {
     "name": "stdout",
     "output_type": "stream",
     "text": [
      "\n",
      " average loss: -1.1355114232017378\n"
     ]
    },
    {
     "name": "stderr",
     "output_type": "stream",
     "text": [
      "0it [00:00, ?it/s]"
     ]
    },
    {
     "name": "stdout",
     "output_type": "stream",
     "text": [
      "[iter 0] loss=-0.5116 val_loss=0.0000 scale=1.0000 norm=0.5895\n"
     ]
    },
    {
     "name": "stderr",
     "output_type": "stream",
     "text": [
      "1it [00:02,  2.64s/it]"
     ]
    },
    {
     "name": "stdout",
     "output_type": "stream",
     "text": [
      "[iter 0] loss=-0.6076 val_loss=0.0000 scale=1.0000 norm=0.6043\n"
     ]
    },
    {
     "name": "stderr",
     "output_type": "stream",
     "text": [
      "2it [00:07,  4.01s/it]"
     ]
    },
    {
     "name": "stdout",
     "output_type": "stream",
     "text": [
      "[iter 0] loss=-0.6102 val_loss=0.0000 scale=1.0000 norm=0.5848\n"
     ]
    },
    {
     "name": "stderr",
     "output_type": "stream",
     "text": [
      "3it [00:15,  5.66s/it]"
     ]
    },
    {
     "name": "stdout",
     "output_type": "stream",
     "text": [
      "[iter 0] loss=-0.5887 val_loss=0.0000 scale=1.0000 norm=0.5881\n"
     ]
    },
    {
     "name": "stderr",
     "output_type": "stream",
     "text": [
      "4it [00:25,  7.62s/it]"
     ]
    },
    {
     "name": "stdout",
     "output_type": "stream",
     "text": [
      "[iter 0] loss=-0.5513 val_loss=0.0000 scale=1.0000 norm=0.5874\n"
     ]
    },
    {
     "name": "stderr",
     "output_type": "stream",
     "text": [
      "5it [00:40,  8.19s/it]\n",
      "\u001b[32m[I 2023-09-07 22:43:49,492]\u001b[0m Trial 22 finished with value: -1.1315207423129705 and parameters: {'learning_rate': 0.018122130764478068, 'minibatch_frac': 0.503457913124854, 'col_sample': 0.3730922105521475}. Best is trial 5 with value: -1.1417396031627811.\u001b[0m\n"
     ]
    },
    {
     "name": "stdout",
     "output_type": "stream",
     "text": [
      "\n",
      " average loss: -1.1315207423129705\n"
     ]
    },
    {
     "name": "stderr",
     "output_type": "stream",
     "text": [
      "0it [00:00, ?it/s]"
     ]
    },
    {
     "name": "stdout",
     "output_type": "stream",
     "text": [
      "[iter 0] loss=-0.5120 val_loss=0.0000 scale=1.0000 norm=0.5934\n"
     ]
    },
    {
     "name": "stderr",
     "output_type": "stream",
     "text": [
      "1it [00:01,  1.61s/it]"
     ]
    },
    {
     "name": "stdout",
     "output_type": "stream",
     "text": [
      "[iter 0] loss=-0.6034 val_loss=0.0000 scale=1.0000 norm=0.6080\n"
     ]
    },
    {
     "name": "stderr",
     "output_type": "stream",
     "text": [
      "2it [00:04,  2.41s/it]"
     ]
    },
    {
     "name": "stdout",
     "output_type": "stream",
     "text": [
      "[iter 0] loss=-0.6029 val_loss=0.0000 scale=1.0000 norm=0.5923\n"
     ]
    },
    {
     "name": "stderr",
     "output_type": "stream",
     "text": [
      "3it [00:14,  5.87s/it]"
     ]
    },
    {
     "name": "stdout",
     "output_type": "stream",
     "text": [
      "[iter 0] loss=-0.5769 val_loss=0.0000 scale=1.0000 norm=0.5907\n"
     ]
    },
    {
     "name": "stderr",
     "output_type": "stream",
     "text": [
      "4it [00:22,  6.58s/it]"
     ]
    },
    {
     "name": "stdout",
     "output_type": "stream",
     "text": [
      "[iter 0] loss=-0.5456 val_loss=0.0000 scale=1.0000 norm=0.5931\n"
     ]
    },
    {
     "name": "stderr",
     "output_type": "stream",
     "text": [
      "5it [00:32,  6.49s/it]\n",
      "\u001b[32m[I 2023-09-07 22:44:22,010]\u001b[0m Trial 23 finished with value: -1.1410571671252978 and parameters: {'learning_rate': 0.03421839187506414, 'minibatch_frac': 0.358927435234147, 'col_sample': 0.2433743298087921}. Best is trial 5 with value: -1.1417396031627811.\u001b[0m\n"
     ]
    },
    {
     "name": "stdout",
     "output_type": "stream",
     "text": [
      "\n",
      " average loss: -1.1410571671252978\n"
     ]
    },
    {
     "name": "stderr",
     "output_type": "stream",
     "text": [
      "0it [00:00, ?it/s]"
     ]
    },
    {
     "name": "stdout",
     "output_type": "stream",
     "text": [
      "[iter 0] loss=-0.5244 val_loss=0.0000 scale=1.0000 norm=0.5824\n"
     ]
    },
    {
     "name": "stderr",
     "output_type": "stream",
     "text": [
      "1it [00:02,  2.22s/it]"
     ]
    },
    {
     "name": "stdout",
     "output_type": "stream",
     "text": [
      "[iter 0] loss=-0.5864 val_loss=0.0000 scale=1.0000 norm=0.6174\n"
     ]
    },
    {
     "name": "stderr",
     "output_type": "stream",
     "text": [
      "2it [00:05,  2.95s/it]"
     ]
    },
    {
     "name": "stdout",
     "output_type": "stream",
     "text": [
      "[iter 0] loss=-0.6089 val_loss=0.0000 scale=1.0000 norm=0.5899\n"
     ]
    },
    {
     "name": "stderr",
     "output_type": "stream",
     "text": [
      "3it [00:10,  3.87s/it]"
     ]
    },
    {
     "name": "stdout",
     "output_type": "stream",
     "text": [
      "[iter 0] loss=-0.5988 val_loss=0.0000 scale=1.0000 norm=0.5813\n"
     ]
    },
    {
     "name": "stderr",
     "output_type": "stream",
     "text": [
      "4it [00:17,  5.13s/it]"
     ]
    },
    {
     "name": "stdout",
     "output_type": "stream",
     "text": [
      "[iter 0] loss=-0.5519 val_loss=0.0000 scale=1.0000 norm=0.5893\n"
     ]
    },
    {
     "name": "stderr",
     "output_type": "stream",
     "text": [
      "5it [00:27,  5.53s/it]\n",
      "\u001b[32m[I 2023-09-07 22:44:49,709]\u001b[0m Trial 24 finished with value: -1.116989955332547 and parameters: {'learning_rate': 0.059245386090704115, 'minibatch_frac': 0.4446597171187142, 'col_sample': 0.1986437657025084}. Best is trial 5 with value: -1.1417396031627811.\u001b[0m\n"
     ]
    },
    {
     "name": "stdout",
     "output_type": "stream",
     "text": [
      "\n",
      " average loss: -1.116989955332547\n"
     ]
    },
    {
     "name": "stderr",
     "output_type": "stream",
     "text": [
      "0it [00:00, ?it/s]"
     ]
    },
    {
     "name": "stdout",
     "output_type": "stream",
     "text": [
      "[iter 0] loss=-0.5426 val_loss=0.0000 scale=1.0000 norm=0.5906\n"
     ]
    },
    {
     "name": "stderr",
     "output_type": "stream",
     "text": [
      "1it [00:01,  1.99s/it]"
     ]
    },
    {
     "name": "stdout",
     "output_type": "stream",
     "text": [
      "[iter 0] loss=-0.5949 val_loss=0.0000 scale=1.0000 norm=0.6105\n"
     ]
    },
    {
     "name": "stderr",
     "output_type": "stream",
     "text": [
      "2it [00:06,  3.28s/it]"
     ]
    },
    {
     "name": "stdout",
     "output_type": "stream",
     "text": [
      "[iter 0] loss=-0.6042 val_loss=0.0000 scale=1.0000 norm=0.5847\n"
     ]
    },
    {
     "name": "stderr",
     "output_type": "stream",
     "text": [
      "3it [00:12,  4.89s/it]"
     ]
    },
    {
     "name": "stdout",
     "output_type": "stream",
     "text": [
      "[iter 0] loss=-0.5765 val_loss=0.0000 scale=1.0000 norm=0.5889\n"
     ]
    },
    {
     "name": "stderr",
     "output_type": "stream",
     "text": [
      "4it [00:22,  6.52s/it]"
     ]
    },
    {
     "name": "stdout",
     "output_type": "stream",
     "text": [
      "[iter 0] loss=-0.5738 val_loss=0.0000 scale=1.0000 norm=0.5769\n"
     ]
    },
    {
     "name": "stderr",
     "output_type": "stream",
     "text": [
      "5it [00:34,  6.84s/it]\n",
      "\u001b[32m[I 2023-09-07 22:45:23,961]\u001b[0m Trial 25 finished with value: -1.127410564588491 and parameters: {'learning_rate': 0.03516029651092831, 'minibatch_frac': 0.20336992017856656, 'col_sample': 0.564498295576148}. Best is trial 5 with value: -1.1417396031627811.\u001b[0m\n"
     ]
    },
    {
     "name": "stdout",
     "output_type": "stream",
     "text": [
      "\n",
      " average loss: -1.127410564588491\n"
     ]
    },
    {
     "name": "stderr",
     "output_type": "stream",
     "text": [
      "0it [00:00, ?it/s]"
     ]
    },
    {
     "name": "stdout",
     "output_type": "stream",
     "text": [
      "[iter 0] loss=-0.5161 val_loss=0.0000 scale=1.0000 norm=0.5868\n"
     ]
    },
    {
     "name": "stderr",
     "output_type": "stream",
     "text": [
      "1it [00:01,  1.39s/it]"
     ]
    },
    {
     "name": "stdout",
     "output_type": "stream",
     "text": [
      "[iter 0] loss=-0.6041 val_loss=0.0000 scale=1.0000 norm=0.6015\n"
     ]
    },
    {
     "name": "stderr",
     "output_type": "stream",
     "text": [
      "2it [00:03,  2.04s/it]"
     ]
    },
    {
     "name": "stdout",
     "output_type": "stream",
     "text": [
      "[iter 0] loss=-0.6081 val_loss=0.0000 scale=1.0000 norm=0.5885\n"
     ]
    },
    {
     "name": "stderr",
     "output_type": "stream",
     "text": [
      "3it [00:07,  2.55s/it]"
     ]
    },
    {
     "name": "stdout",
     "output_type": "stream",
     "text": [
      "[iter 0] loss=-0.5782 val_loss=0.0000 scale=1.0000 norm=0.5911\n"
     ]
    },
    {
     "name": "stderr",
     "output_type": "stream",
     "text": [
      "4it [00:12,  3.60s/it]"
     ]
    },
    {
     "name": "stdout",
     "output_type": "stream",
     "text": [
      "[iter 0] loss=-0.5464 val_loss=0.0000 scale=1.0000 norm=0.5896\n"
     ]
    },
    {
     "name": "stderr",
     "output_type": "stream",
     "text": [
      "5it [00:19,  3.86s/it]\n",
      "\u001b[32m[I 2023-09-07 22:45:43,324]\u001b[0m Trial 26 finished with value: -0.8220558312689893 and parameters: {'learning_rate': 0.008750380079673282, 'minibatch_frac': 0.30786331539935236, 'col_sample': 0.10529416500106331}. Best is trial 5 with value: -1.1417396031627811.\u001b[0m\n"
     ]
    },
    {
     "name": "stdout",
     "output_type": "stream",
     "text": [
      "\n",
      " average loss: -0.8220558312689893\n"
     ]
    },
    {
     "name": "stderr",
     "output_type": "stream",
     "text": [
      "0it [00:00, ?it/s]"
     ]
    },
    {
     "name": "stdout",
     "output_type": "stream",
     "text": [
      "[iter 0] loss=-0.5038 val_loss=0.0000 scale=1.0000 norm=0.5975\n"
     ]
    },
    {
     "name": "stderr",
     "output_type": "stream",
     "text": [
      "1it [00:02,  2.28s/it]"
     ]
    },
    {
     "name": "stdout",
     "output_type": "stream",
     "text": [
      "[iter 0] loss=-0.5974 val_loss=0.0000 scale=1.0000 norm=0.6131\n"
     ]
    },
    {
     "name": "stderr",
     "output_type": "stream",
     "text": [
      "2it [00:06,  3.36s/it]"
     ]
    },
    {
     "name": "stdout",
     "output_type": "stream",
     "text": [
      "[iter 0] loss=-0.6112 val_loss=0.0000 scale=1.0000 norm=0.5860\n"
     ]
    },
    {
     "name": "stderr",
     "output_type": "stream",
     "text": [
      "3it [00:13,  4.89s/it]"
     ]
    },
    {
     "name": "stdout",
     "output_type": "stream",
     "text": [
      "[iter 0] loss=-0.5852 val_loss=0.0000 scale=1.0000 norm=0.5872\n"
     ]
    },
    {
     "name": "stderr",
     "output_type": "stream",
     "text": [
      "4it [00:29,  9.45s/it]"
     ]
    },
    {
     "name": "stdout",
     "output_type": "stream",
     "text": [
      "[iter 0] loss=-0.5543 val_loss=0.0000 scale=1.0000 norm=0.5863\n"
     ]
    },
    {
     "name": "stderr",
     "output_type": "stream",
     "text": [
      "5it [00:42,  8.55s/it]\n",
      "\u001b[32m[I 2023-09-07 22:46:26,123]\u001b[0m Trial 27 finished with value: -1.1201772441237428 and parameters: {'learning_rate': 0.07429988854846167, 'minibatch_frac': 0.6437867097289982, 'col_sample': 0.22851633373449304}. Best is trial 5 with value: -1.1417396031627811.\u001b[0m\n"
     ]
    },
    {
     "name": "stdout",
     "output_type": "stream",
     "text": [
      "\n",
      " average loss: -1.1201772441237428\n"
     ]
    },
    {
     "name": "stderr",
     "output_type": "stream",
     "text": [
      "0it [00:00, ?it/s]"
     ]
    },
    {
     "name": "stdout",
     "output_type": "stream",
     "text": [
      "[iter 0] loss=-0.4729 val_loss=0.0000 scale=1.0000 norm=0.6202\n"
     ]
    },
    {
     "name": "stderr",
     "output_type": "stream",
     "text": [
      "1it [00:01,  1.29s/it]"
     ]
    },
    {
     "name": "stdout",
     "output_type": "stream",
     "text": [
      "[iter 0] loss=-0.5868 val_loss=0.0000 scale=1.0000 norm=0.6148\n"
     ]
    },
    {
     "name": "stderr",
     "output_type": "stream",
     "text": [
      "2it [00:03,  1.94s/it]"
     ]
    },
    {
     "name": "stdout",
     "output_type": "stream",
     "text": [
      "[iter 0] loss=-0.6322 val_loss=0.0000 scale=1.0000 norm=0.5789\n"
     ]
    },
    {
     "name": "stderr",
     "output_type": "stream",
     "text": [
      "3it [00:07,  2.78s/it]"
     ]
    },
    {
     "name": "stdout",
     "output_type": "stream",
     "text": [
      "[iter 0] loss=-0.5767 val_loss=0.0000 scale=1.0000 norm=0.5964\n"
     ]
    },
    {
     "name": "stderr",
     "output_type": "stream",
     "text": [
      "4it [00:13,  3.98s/it]"
     ]
    },
    {
     "name": "stdout",
     "output_type": "stream",
     "text": [
      "[iter 0] loss=-0.5634 val_loss=0.0000 scale=1.0000 norm=0.5798\n"
     ]
    },
    {
     "name": "stderr",
     "output_type": "stream",
     "text": [
      "5it [00:21,  4.25s/it]\n",
      "\u001b[32m[I 2023-09-07 22:46:47,428]\u001b[0m Trial 28 finished with value: -1.1159718794978395 and parameters: {'learning_rate': 0.035678446490765396, 'minibatch_frac': 0.10669993192256821, 'col_sample': 0.4891663409439587}. Best is trial 5 with value: -1.1417396031627811.\u001b[0m\n"
     ]
    },
    {
     "name": "stdout",
     "output_type": "stream",
     "text": [
      "\n",
      " average loss: -1.1159718794978395\n"
     ]
    },
    {
     "name": "stderr",
     "output_type": "stream",
     "text": [
      "0it [00:00, ?it/s]"
     ]
    },
    {
     "name": "stdout",
     "output_type": "stream",
     "text": [
      "[iter 0] loss=-0.5090 val_loss=0.0000 scale=1.0000 norm=0.5940\n"
     ]
    },
    {
     "name": "stderr",
     "output_type": "stream",
     "text": [
      "1it [00:01,  1.64s/it]"
     ]
    },
    {
     "name": "stdout",
     "output_type": "stream",
     "text": [
      "[iter 0] loss=-0.6001 val_loss=0.0000 scale=1.0000 norm=0.6058\n"
     ]
    },
    {
     "name": "stderr",
     "output_type": "stream",
     "text": [
      "2it [00:04,  2.47s/it]"
     ]
    },
    {
     "name": "stdout",
     "output_type": "stream",
     "text": [
      "[iter 0] loss=-0.6090 val_loss=0.0000 scale=1.0000 norm=0.5895\n"
     ]
    },
    {
     "name": "stderr",
     "output_type": "stream",
     "text": [
      "3it [00:09,  3.56s/it]"
     ]
    },
    {
     "name": "stdout",
     "output_type": "stream",
     "text": [
      "[iter 0] loss=-0.5861 val_loss=0.0000 scale=1.0000 norm=0.5872\n"
     ]
    },
    {
     "name": "stderr",
     "output_type": "stream",
     "text": [
      "4it [00:16,  5.02s/it]"
     ]
    },
    {
     "name": "stdout",
     "output_type": "stream",
     "text": [
      "[iter 0] loss=-0.5591 val_loss=0.0000 scale=1.0000 norm=0.5790\n"
     ]
    },
    {
     "name": "stderr",
     "output_type": "stream",
     "text": [
      "5it [00:26,  5.29s/it]\n",
      "\u001b[32m[I 2023-09-07 22:47:13,901]\u001b[0m Trial 29 finished with value: -1.127294528047125 and parameters: {'learning_rate': 0.020865279230287217, 'minibatch_frac': 0.3350528606271637, 'col_sample': 0.27586108919212887}. Best is trial 5 with value: -1.1417396031627811.\u001b[0m\n"
     ]
    },
    {
     "name": "stdout",
     "output_type": "stream",
     "text": [
      "\n",
      " average loss: -1.127294528047125\n"
     ]
    },
    {
     "name": "stderr",
     "output_type": "stream",
     "text": [
      "0it [00:00, ?it/s]"
     ]
    },
    {
     "name": "stdout",
     "output_type": "stream",
     "text": [
      "[iter 0] loss=-0.5212 val_loss=0.0000 scale=1.0000 norm=0.5846\n"
     ]
    },
    {
     "name": "stderr",
     "output_type": "stream",
     "text": [
      "1it [00:02,  2.49s/it]"
     ]
    },
    {
     "name": "stdout",
     "output_type": "stream",
     "text": [
      "[iter 0] loss=-0.6096 val_loss=0.0000 scale=1.0000 norm=0.6029\n"
     ]
    },
    {
     "name": "stderr",
     "output_type": "stream",
     "text": [
      "2it [00:07,  3.83s/it]"
     ]
    },
    {
     "name": "stdout",
     "output_type": "stream",
     "text": [
      "[iter 0] loss=-0.6104 val_loss=0.0000 scale=1.0000 norm=0.5883\n"
     ]
    },
    {
     "name": "stderr",
     "output_type": "stream",
     "text": [
      "3it [00:14,  5.44s/it]"
     ]
    },
    {
     "name": "stdout",
     "output_type": "stream",
     "text": [
      "[iter 0] loss=-0.5836 val_loss=0.0000 scale=1.0000 norm=0.5883\n"
     ]
    },
    {
     "name": "stderr",
     "output_type": "stream",
     "text": [
      "4it [00:25,  7.48s/it]"
     ]
    },
    {
     "name": "stdout",
     "output_type": "stream",
     "text": [
      "[iter 0] loss=-0.5565 val_loss=0.0000 scale=1.0000 norm=0.5855\n"
     ]
    },
    {
     "name": "stderr",
     "output_type": "stream",
     "text": [
      "5it [00:40,  8.08s/it]\n",
      "\u001b[32m[I 2023-09-07 22:47:54,354]\u001b[0m Trial 30 finished with value: -1.1445235195220105 and parameters: {'learning_rate': 0.030896221748968562, 'minibatch_frac': 0.4582406967336896, 'col_sample': 0.3829756058866356}. Best is trial 30 with value: -1.1445235195220105.\u001b[0m\n"
     ]
    },
    {
     "name": "stdout",
     "output_type": "stream",
     "text": [
      "\n",
      " average loss: -1.1445235195220105\n"
     ]
    },
    {
     "name": "stderr",
     "output_type": "stream",
     "text": [
      "0it [00:00, ?it/s]"
     ]
    },
    {
     "name": "stdout",
     "output_type": "stream",
     "text": [
      "[iter 0] loss=-0.5084 val_loss=0.0000 scale=1.0000 norm=0.5905\n"
     ]
    },
    {
     "name": "stderr",
     "output_type": "stream",
     "text": [
      "1it [00:02,  2.64s/it]"
     ]
    },
    {
     "name": "stdout",
     "output_type": "stream",
     "text": [
      "[iter 0] loss=-0.6019 val_loss=0.0000 scale=1.0000 norm=0.6085\n"
     ]
    },
    {
     "name": "stderr",
     "output_type": "stream",
     "text": [
      "2it [00:07,  3.92s/it]"
     ]
    },
    {
     "name": "stdout",
     "output_type": "stream",
     "text": [
      "[iter 0] loss=-0.6060 val_loss=0.0000 scale=1.0000 norm=0.5898\n"
     ]
    },
    {
     "name": "stderr",
     "output_type": "stream",
     "text": [
      "3it [00:14,  5.47s/it]"
     ]
    },
    {
     "name": "stdout",
     "output_type": "stream",
     "text": [
      "[iter 0] loss=-0.5868 val_loss=0.0000 scale=1.0000 norm=0.5845\n"
     ]
    },
    {
     "name": "stderr",
     "output_type": "stream",
     "text": [
      "4it [00:24,  7.33s/it]"
     ]
    },
    {
     "name": "stdout",
     "output_type": "stream",
     "text": [
      "[iter 0] loss=-0.5598 val_loss=0.0000 scale=1.0000 norm=0.5825\n"
     ]
    },
    {
     "name": "stderr",
     "output_type": "stream",
     "text": [
      "5it [00:38,  7.76s/it]\n",
      "\u001b[32m[I 2023-09-07 22:48:33,260]\u001b[0m Trial 31 finished with value: -1.0774981206317922 and parameters: {'learning_rate': 0.013874097624977448, 'minibatch_frac': 0.4513960312536296, 'col_sample': 0.3506746106493019}. Best is trial 30 with value: -1.1445235195220105.\u001b[0m\n"
     ]
    },
    {
     "name": "stdout",
     "output_type": "stream",
     "text": [
      "\n",
      " average loss: -1.0774981206317922\n"
     ]
    },
    {
     "name": "stderr",
     "output_type": "stream",
     "text": [
      "0it [00:00, ?it/s]"
     ]
    },
    {
     "name": "stdout",
     "output_type": "stream",
     "text": [
      "[iter 0] loss=-0.4999 val_loss=0.0000 scale=1.0000 norm=0.5953\n"
     ]
    },
    {
     "name": "stderr",
     "output_type": "stream",
     "text": [
      "1it [00:03,  3.32s/it]"
     ]
    },
    {
     "name": "stdout",
     "output_type": "stream",
     "text": [
      "[iter 0] loss=-0.5902 val_loss=0.0000 scale=1.0000 norm=0.6156\n"
     ]
    },
    {
     "name": "stderr",
     "output_type": "stream",
     "text": [
      "2it [00:08,  4.19s/it]"
     ]
    },
    {
     "name": "stdout",
     "output_type": "stream",
     "text": [
      "[iter 0] loss=-0.6086 val_loss=0.0000 scale=1.0000 norm=0.5868\n"
     ]
    },
    {
     "name": "stderr",
     "output_type": "stream",
     "text": [
      "3it [00:15,  5.87s/it]"
     ]
    },
    {
     "name": "stdout",
     "output_type": "stream",
     "text": [
      "[iter 0] loss=-0.5798 val_loss=0.0000 scale=1.0000 norm=0.5915\n"
     ]
    },
    {
     "name": "stderr",
     "output_type": "stream",
     "text": [
      "4it [00:27,  8.20s/it]"
     ]
    },
    {
     "name": "stdout",
     "output_type": "stream",
     "text": [
      "[iter 0] loss=-0.5592 val_loss=0.0000 scale=1.0000 norm=0.5799\n"
     ]
    },
    {
     "name": "stderr",
     "output_type": "stream",
     "text": [
      "5it [00:43,  8.64s/it]\n",
      "\u001b[32m[I 2023-09-07 22:49:16,554]\u001b[0m Trial 32 finished with value: -1.1358220347668604 and parameters: {'learning_rate': 0.029299190778602036, 'minibatch_frac': 0.3803385781247731, 'col_sample': 0.40180783021416105}. Best is trial 30 with value: -1.1445235195220105.\u001b[0m\n"
     ]
    },
    {
     "name": "stdout",
     "output_type": "stream",
     "text": [
      "\n",
      " average loss: -1.1358220347668604\n"
     ]
    },
    {
     "name": "stderr",
     "output_type": "stream",
     "text": [
      "0it [00:00, ?it/s]"
     ]
    },
    {
     "name": "stdout",
     "output_type": "stream",
     "text": [
      "[iter 0] loss=-0.5014 val_loss=0.0000 scale=1.0000 norm=0.5925\n"
     ]
    },
    {
     "name": "stderr",
     "output_type": "stream",
     "text": [
      "1it [00:02,  2.08s/it]"
     ]
    },
    {
     "name": "stdout",
     "output_type": "stream",
     "text": [
      "[iter 0] loss=-0.5935 val_loss=0.0000 scale=1.0000 norm=0.6099\n"
     ]
    },
    {
     "name": "stderr",
     "output_type": "stream",
     "text": [
      "2it [00:05,  2.76s/it]"
     ]
    },
    {
     "name": "stdout",
     "output_type": "stream",
     "text": [
      "[iter 0] loss=-0.6138 val_loss=0.0000 scale=1.0000 norm=0.5851\n"
     ]
    },
    {
     "name": "stderr",
     "output_type": "stream",
     "text": [
      "3it [00:11,  4.14s/it]"
     ]
    },
    {
     "name": "stdout",
     "output_type": "stream",
     "text": [
      "[iter 0] loss=-0.5830 val_loss=0.0000 scale=1.0000 norm=0.5875\n"
     ]
    },
    {
     "name": "stderr",
     "output_type": "stream",
     "text": [
      "4it [00:18,  5.35s/it]"
     ]
    },
    {
     "name": "stdout",
     "output_type": "stream",
     "text": [
      "[iter 0] loss=-0.5476 val_loss=0.0000 scale=1.0000 norm=0.5884\n"
     ]
    },
    {
     "name": "stderr",
     "output_type": "stream",
     "text": [
      "5it [00:29,  5.87s/it]\n",
      "\u001b[32m[I 2023-09-07 22:49:46,046]\u001b[0m Trial 33 finished with value: -1.128528896623249 and parameters: {'learning_rate': 0.04340376063122192, 'minibatch_frac': 0.21308559897500068, 'col_sample': 0.26661692786548014}. Best is trial 30 with value: -1.1445235195220105.\u001b[0m\n"
     ]
    },
    {
     "name": "stdout",
     "output_type": "stream",
     "text": [
      "\n",
      " average loss: -1.128528896623249\n"
     ]
    },
    {
     "name": "stderr",
     "output_type": "stream",
     "text": [
      "0it [00:00, ?it/s]"
     ]
    },
    {
     "name": "stdout",
     "output_type": "stream",
     "text": [
      "[iter 0] loss=-0.4951 val_loss=0.0000 scale=1.0000 norm=0.6008\n"
     ]
    },
    {
     "name": "stderr",
     "output_type": "stream",
     "text": [
      "1it [00:04,  4.06s/it]"
     ]
    },
    {
     "name": "stdout",
     "output_type": "stream",
     "text": [
      "[iter 0] loss=-0.5992 val_loss=0.0000 scale=1.0000 norm=0.6082\n"
     ]
    },
    {
     "name": "stderr",
     "output_type": "stream",
     "text": [
      "2it [00:13,  7.36s/it]"
     ]
    },
    {
     "name": "stdout",
     "output_type": "stream",
     "text": [
      "[iter 0] loss=-0.6093 val_loss=0.0000 scale=1.0000 norm=0.5875\n"
     ]
    },
    {
     "name": "stderr",
     "output_type": "stream",
     "text": [
      "3it [00:26,  9.85s/it]"
     ]
    },
    {
     "name": "stdout",
     "output_type": "stream",
     "text": [
      "[iter 0] loss=-0.5916 val_loss=0.0000 scale=1.0000 norm=0.5823\n"
     ]
    },
    {
     "name": "stderr",
     "output_type": "stream",
     "text": [
      "4it [00:43, 12.71s/it]"
     ]
    },
    {
     "name": "stdout",
     "output_type": "stream",
     "text": [
      "[iter 0] loss=-0.5545 val_loss=0.0000 scale=1.0000 norm=0.5855\n"
     ]
    },
    {
     "name": "stderr",
     "output_type": "stream",
     "text": [
      "5it [01:05, 13.09s/it]\n",
      "\u001b[32m[I 2023-09-07 22:50:51,627]\u001b[0m Trial 34 finished with value: -1.1272431074150782 and parameters: {'learning_rate': 0.03336122342857961, 'minibatch_frac': 0.4883455788436548, 'col_sample': 0.506710342862136}. Best is trial 30 with value: -1.1445235195220105.\u001b[0m\n"
     ]
    },
    {
     "name": "stdout",
     "output_type": "stream",
     "text": [
      "\n",
      " average loss: -1.1272431074150782\n"
     ]
    },
    {
     "name": "stderr",
     "output_type": "stream",
     "text": [
      "0it [00:00, ?it/s]"
     ]
    },
    {
     "name": "stdout",
     "output_type": "stream",
     "text": [
      "[iter 0] loss=-0.5066 val_loss=0.0000 scale=1.0000 norm=0.5836\n"
     ]
    },
    {
     "name": "stderr",
     "output_type": "stream",
     "text": [
      "1it [00:03,  3.64s/it]"
     ]
    },
    {
     "name": "stdout",
     "output_type": "stream",
     "text": [
      "[iter 0] loss=-0.6223 val_loss=0.0000 scale=1.0000 norm=0.5948\n"
     ]
    },
    {
     "name": "stderr",
     "output_type": "stream",
     "text": [
      "2it [00:11,  6.06s/it]"
     ]
    },
    {
     "name": "stdout",
     "output_type": "stream",
     "text": [
      "[iter 0] loss=-0.6200 val_loss=0.0000 scale=1.0000 norm=0.5837\n"
     ]
    },
    {
     "name": "stderr",
     "output_type": "stream",
     "text": [
      "3it [00:22,  8.35s/it]"
     ]
    },
    {
     "name": "stdout",
     "output_type": "stream",
     "text": [
      "[iter 0] loss=-0.5963 val_loss=0.0000 scale=1.0000 norm=0.5822\n"
     ]
    },
    {
     "name": "stderr",
     "output_type": "stream",
     "text": [
      "4it [00:38, 11.53s/it]"
     ]
    },
    {
     "name": "stdout",
     "output_type": "stream",
     "text": [
      "[iter 0] loss=-0.5663 val_loss=0.0000 scale=1.0000 norm=0.5801\n"
     ]
    },
    {
     "name": "stderr",
     "output_type": "stream",
     "text": [
      "5it [00:59, 11.92s/it]\n",
      "\u001b[32m[I 2023-09-07 22:51:51,391]\u001b[0m Trial 35 finished with value: -1.0810892474675213 and parameters: {'learning_rate': 0.0675134331874056, 'minibatch_frac': 0.3451848480144826, 'col_sample': 0.5690247746810797}. Best is trial 30 with value: -1.1445235195220105.\u001b[0m\n"
     ]
    },
    {
     "name": "stdout",
     "output_type": "stream",
     "text": [
      "\n",
      " average loss: -1.0810892474675213\n"
     ]
    },
    {
     "name": "stderr",
     "output_type": "stream",
     "text": [
      "0it [00:00, ?it/s]"
     ]
    },
    {
     "name": "stdout",
     "output_type": "stream",
     "text": [
      "[iter 0] loss=-0.5338 val_loss=0.0000 scale=1.0000 norm=0.5862\n"
     ]
    },
    {
     "name": "stderr",
     "output_type": "stream",
     "text": [
      "1it [00:03,  3.39s/it]"
     ]
    },
    {
     "name": "stdout",
     "output_type": "stream",
     "text": [
      "[iter 0] loss=-0.6046 val_loss=0.0000 scale=1.0000 norm=0.6077\n"
     ]
    },
    {
     "name": "stderr",
     "output_type": "stream",
     "text": [
      "2it [00:08,  4.53s/it]"
     ]
    },
    {
     "name": "stdout",
     "output_type": "stream",
     "text": [
      "[iter 0] loss=-0.6105 val_loss=0.0000 scale=1.0000 norm=0.5853\n"
     ]
    },
    {
     "name": "stderr",
     "output_type": "stream",
     "text": [
      "3it [00:16,  5.88s/it]"
     ]
    },
    {
     "name": "stdout",
     "output_type": "stream",
     "text": [
      "[iter 0] loss=-0.5845 val_loss=0.0000 scale=1.0000 norm=0.5896\n"
     ]
    },
    {
     "name": "stderr",
     "output_type": "stream",
     "text": [
      "4it [00:27,  8.01s/it]"
     ]
    },
    {
     "name": "stdout",
     "output_type": "stream",
     "text": [
      "[iter 0] loss=-0.5580 val_loss=0.0000 scale=1.0000 norm=0.5841\n"
     ]
    },
    {
     "name": "stderr",
     "output_type": "stream",
     "text": [
      "5it [00:41,  8.29s/it]\n",
      "\u001b[32m[I 2023-09-07 22:52:32,916]\u001b[0m Trial 36 finished with value: -1.1191180412891675 and parameters: {'learning_rate': 0.04919368417087457, 'minibatch_frac': 0.4249141238249163, 'col_sample': 0.4188811860191026}. Best is trial 30 with value: -1.1445235195220105.\u001b[0m\n"
     ]
    },
    {
     "name": "stdout",
     "output_type": "stream",
     "text": [
      "\n",
      " average loss: -1.1191180412891675\n"
     ]
    },
    {
     "name": "stderr",
     "output_type": "stream",
     "text": [
      "0it [00:00, ?it/s]"
     ]
    },
    {
     "name": "stdout",
     "output_type": "stream",
     "text": [
      "[iter 0] loss=-0.4993 val_loss=0.0000 scale=1.0000 norm=0.5962\n"
     ]
    },
    {
     "name": "stderr",
     "output_type": "stream",
     "text": [
      "1it [00:03,  3.37s/it]"
     ]
    },
    {
     "name": "stdout",
     "output_type": "stream",
     "text": [
      "[iter 0] loss=-0.6088 val_loss=0.0000 scale=1.0000 norm=0.6033\n"
     ]
    },
    {
     "name": "stderr",
     "output_type": "stream",
     "text": [
      "2it [00:09,  5.15s/it]"
     ]
    },
    {
     "name": "stdout",
     "output_type": "stream",
     "text": [
      "[iter 0] loss=-0.6096 val_loss=0.0000 scale=1.0000 norm=0.5898\n"
     ]
    },
    {
     "name": "stderr",
     "output_type": "stream",
     "text": [
      "3it [00:19,  7.35s/it]"
     ]
    },
    {
     "name": "stdout",
     "output_type": "stream",
     "text": [
      "[iter 0] loss=-0.5900 val_loss=0.0000 scale=1.0000 norm=0.5828\n"
     ]
    },
    {
     "name": "stderr",
     "output_type": "stream",
     "text": [
      "4it [00:33,  9.84s/it]"
     ]
    },
    {
     "name": "stdout",
     "output_type": "stream",
     "text": [
      "[iter 0] loss=-0.5578 val_loss=0.0000 scale=1.0000 norm=0.5835\n"
     ]
    },
    {
     "name": "stderr",
     "output_type": "stream",
     "text": [
      "5it [00:53, 10.68s/it]\n",
      "\u001b[32m[I 2023-09-07 22:53:26,405]\u001b[0m Trial 37 finished with value: -1.0518428390749732 and parameters: {'learning_rate': 0.011839780039100021, 'minibatch_frac': 0.5559544398633751, 'col_sample': 0.4534140659148621}. Best is trial 30 with value: -1.1445235195220105.\u001b[0m\n"
     ]
    },
    {
     "name": "stdout",
     "output_type": "stream",
     "text": [
      "\n",
      " average loss: -1.0518428390749732\n"
     ]
    },
    {
     "name": "stderr",
     "output_type": "stream",
     "text": [
      "0it [00:00, ?it/s]"
     ]
    },
    {
     "name": "stdout",
     "output_type": "stream",
     "text": [
      "[iter 0] loss=-0.4988 val_loss=0.0000 scale=1.0000 norm=0.5979\n"
     ]
    },
    {
     "name": "stderr",
     "output_type": "stream",
     "text": [
      "1it [00:02,  2.13s/it]"
     ]
    },
    {
     "name": "stdout",
     "output_type": "stream",
     "text": [
      "[iter 0] loss=-0.6054 val_loss=0.0000 scale=1.0000 norm=0.6046\n"
     ]
    },
    {
     "name": "stderr",
     "output_type": "stream",
     "text": [
      "2it [00:06,  3.36s/it]"
     ]
    },
    {
     "name": "stdout",
     "output_type": "stream",
     "text": [
      "[iter 0] loss=-0.6104 val_loss=0.0000 scale=1.0000 norm=0.5862\n"
     ]
    },
    {
     "name": "stderr",
     "output_type": "stream",
     "text": [
      "3it [00:12,  4.55s/it]"
     ]
    },
    {
     "name": "stdout",
     "output_type": "stream",
     "text": [
      "[iter 0] loss=-0.5816 val_loss=0.0000 scale=1.0000 norm=0.5926\n"
     ]
    },
    {
     "name": "stderr",
     "output_type": "stream",
     "text": [
      "4it [00:24,  7.47s/it]"
     ]
    },
    {
     "name": "stdout",
     "output_type": "stream",
     "text": [
      "[iter 0] loss=-0.5556 val_loss=0.0000 scale=1.0000 norm=0.5854\n"
     ]
    },
    {
     "name": "stderr",
     "output_type": "stream",
     "text": [
      "5it [00:34,  7.00s/it]\n",
      "\u001b[32m[I 2023-09-07 22:54:01,501]\u001b[0m Trial 38 finished with value: -1.0942945617382098 and parameters: {'learning_rate': 0.020845415315145468, 'minibatch_frac': 0.6405380270864041, 'col_sample': 0.1590640803661436}. Best is trial 30 with value: -1.1445235195220105.\u001b[0m\n"
     ]
    },
    {
     "name": "stdout",
     "output_type": "stream",
     "text": [
      "\n",
      " average loss: -1.0942945617382098\n"
     ]
    },
    {
     "name": "stderr",
     "output_type": "stream",
     "text": [
      "0it [00:00, ?it/s]"
     ]
    },
    {
     "name": "stdout",
     "output_type": "stream",
     "text": [
      "[iter 0] loss=-0.5118 val_loss=0.0000 scale=1.0000 norm=0.5910\n"
     ]
    },
    {
     "name": "stderr",
     "output_type": "stream",
     "text": [
      "1it [00:08,  8.66s/it]"
     ]
    },
    {
     "name": "stdout",
     "output_type": "stream",
     "text": [
      "[iter 0] loss=-0.6010 val_loss=0.0000 scale=1.0000 norm=0.6099\n"
     ]
    },
    {
     "name": "stderr",
     "output_type": "stream",
     "text": [
      "2it [00:25, 13.22s/it]"
     ]
    },
    {
     "name": "stdout",
     "output_type": "stream",
     "text": [
      "[iter 0] loss=-0.6037 val_loss=0.0000 scale=1.0000 norm=0.5928\n"
     ]
    },
    {
     "name": "stderr",
     "output_type": "stream",
     "text": [
      "3it [00:47, 17.62s/it]"
     ]
    },
    {
     "name": "stdout",
     "output_type": "stream",
     "text": [
      "[iter 0] loss=-0.5822 val_loss=0.0000 scale=1.0000 norm=0.5911\n"
     ]
    },
    {
     "name": "stderr",
     "output_type": "stream",
     "text": [
      "4it [01:19, 23.10s/it]"
     ]
    },
    {
     "name": "stdout",
     "output_type": "stream",
     "text": [
      "[iter 0] loss=-0.5555 val_loss=0.0000 scale=1.0000 norm=0.5851\n"
     ]
    },
    {
     "name": "stderr",
     "output_type": "stream",
     "text": [
      "5it [01:58, 23.75s/it]\n",
      "\u001b[32m[I 2023-09-07 22:56:00,413]\u001b[0m Trial 39 finished with value: -1.0192237078977544 and parameters: {'learning_rate': 0.009841822699201155, 'minibatch_frac': 0.7900394376884982, 'col_sample': 0.9006234235846081}. Best is trial 30 with value: -1.1445235195220105.\u001b[0m\n"
     ]
    },
    {
     "name": "stdout",
     "output_type": "stream",
     "text": [
      "\n",
      " average loss: -1.0192237078977544\n"
     ]
    },
    {
     "name": "stderr",
     "output_type": "stream",
     "text": [
      "0it [00:00, ?it/s]"
     ]
    },
    {
     "name": "stdout",
     "output_type": "stream",
     "text": [
      "[iter 0] loss=-0.5204 val_loss=0.0000 scale=1.0000 norm=0.5785\n"
     ]
    },
    {
     "name": "stderr",
     "output_type": "stream",
     "text": [
      "1it [00:01,  1.71s/it]"
     ]
    },
    {
     "name": "stdout",
     "output_type": "stream",
     "text": [
      "[iter 0] loss=-0.5952 val_loss=0.0000 scale=1.0000 norm=0.6135\n"
     ]
    },
    {
     "name": "stderr",
     "output_type": "stream",
     "text": [
      "2it [00:04,  2.60s/it]"
     ]
    },
    {
     "name": "stdout",
     "output_type": "stream",
     "text": [
      "[iter 0] loss=-0.5975 val_loss=0.0000 scale=1.0000 norm=0.5984\n"
     ]
    },
    {
     "name": "stderr",
     "output_type": "stream",
     "text": [
      "3it [00:09,  3.71s/it]"
     ]
    },
    {
     "name": "stdout",
     "output_type": "stream",
     "text": [
      "[iter 0] loss=-0.5805 val_loss=0.0000 scale=1.0000 norm=0.5911\n"
     ]
    },
    {
     "name": "stderr",
     "output_type": "stream",
     "text": [
      "4it [00:18,  5.48s/it]"
     ]
    },
    {
     "name": "stdout",
     "output_type": "stream",
     "text": [
      "[iter 0] loss=-0.5518 val_loss=0.0000 scale=1.0000 norm=0.5875\n"
     ]
    },
    {
     "name": "stderr",
     "output_type": "stream",
     "text": [
      "5it [00:28,  5.62s/it]\n",
      "\u001b[32m[I 2023-09-07 22:56:28,561]\u001b[0m Trial 40 finished with value: -1.1075818515344003 and parameters: {'learning_rate': 0.08230367775747756, 'minibatch_frac': 0.39590181394686486, 'col_sample': 0.25438124489334224}. Best is trial 30 with value: -1.1445235195220105.\u001b[0m\n"
     ]
    },
    {
     "name": "stdout",
     "output_type": "stream",
     "text": [
      "\n",
      " average loss: -1.1075818515344003\n"
     ]
    },
    {
     "name": "stderr",
     "output_type": "stream",
     "text": [
      "0it [00:00, ?it/s]"
     ]
    },
    {
     "name": "stdout",
     "output_type": "stream",
     "text": [
      "[iter 0] loss=-0.4986 val_loss=0.0000 scale=1.0000 norm=0.5994\n"
     ]
    },
    {
     "name": "stderr",
     "output_type": "stream",
     "text": [
      "1it [00:02,  2.09s/it]"
     ]
    },
    {
     "name": "stdout",
     "output_type": "stream",
     "text": [
      "[iter 0] loss=-0.5961 val_loss=0.0000 scale=1.0000 norm=0.6149\n"
     ]
    },
    {
     "name": "stderr",
     "output_type": "stream",
     "text": [
      "2it [00:06,  3.20s/it]"
     ]
    },
    {
     "name": "stdout",
     "output_type": "stream",
     "text": [
      "[iter 0] loss=-0.6161 val_loss=0.0000 scale=1.0000 norm=0.5845\n"
     ]
    },
    {
     "name": "stderr",
     "output_type": "stream",
     "text": [
      "3it [00:12,  4.62s/it]"
     ]
    },
    {
     "name": "stdout",
     "output_type": "stream",
     "text": [
      "[iter 0] loss=-0.5893 val_loss=0.0000 scale=1.0000 norm=0.5830\n"
     ]
    },
    {
     "name": "stderr",
     "output_type": "stream",
     "text": [
      "4it [00:21,  6.24s/it]"
     ]
    },
    {
     "name": "stdout",
     "output_type": "stream",
     "text": [
      "[iter 0] loss=-0.5674 val_loss=0.0000 scale=1.0000 norm=0.5776\n"
     ]
    },
    {
     "name": "stderr",
     "output_type": "stream",
     "text": [
      "5it [00:33,  6.66s/it]\n",
      "\u001b[32m[I 2023-09-07 22:57:01,927]\u001b[0m Trial 41 finished with value: -1.133618870954598 and parameters: {'learning_rate': 0.02776400334849391, 'minibatch_frac': 0.36914255690415254, 'col_sample': 0.3573822599299709}. Best is trial 30 with value: -1.1445235195220105.\u001b[0m\n"
     ]
    },
    {
     "name": "stdout",
     "output_type": "stream",
     "text": [
      "\n",
      " average loss: -1.133618870954598\n"
     ]
    },
    {
     "name": "stderr",
     "output_type": "stream",
     "text": [
      "0it [00:00, ?it/s]"
     ]
    },
    {
     "name": "stdout",
     "output_type": "stream",
     "text": [
      "[iter 0] loss=-0.5206 val_loss=0.0000 scale=1.0000 norm=0.5846\n"
     ]
    },
    {
     "name": "stderr",
     "output_type": "stream",
     "text": [
      "1it [00:04,  4.70s/it]"
     ]
    },
    {
     "name": "stdout",
     "output_type": "stream",
     "text": [
      "[iter 0] loss=-0.6034 val_loss=0.0000 scale=1.0000 norm=0.6054\n"
     ]
    },
    {
     "name": "stderr",
     "output_type": "stream",
     "text": [
      "2it [00:08,  4.08s/it]"
     ]
    },
    {
     "name": "stdout",
     "output_type": "stream",
     "text": [
      "[iter 0] loss=-0.6059 val_loss=0.0000 scale=1.0000 norm=0.5893\n"
     ]
    },
    {
     "name": "stderr",
     "output_type": "stream",
     "text": [
      "3it [00:14,  4.82s/it]"
     ]
    },
    {
     "name": "stdout",
     "output_type": "stream",
     "text": [
      "[iter 0] loss=-0.5860 val_loss=0.0000 scale=1.0000 norm=0.5908\n"
     ]
    },
    {
     "name": "stderr",
     "output_type": "stream",
     "text": [
      "4it [00:22,  6.31s/it]"
     ]
    },
    {
     "name": "stdout",
     "output_type": "stream",
     "text": [
      "[iter 0] loss=-0.5594 val_loss=0.0000 scale=1.0000 norm=0.5814\n"
     ]
    },
    {
     "name": "stderr",
     "output_type": "stream",
     "text": [
      "5it [00:34,  6.94s/it]\n",
      "\u001b[32m[I 2023-09-07 22:57:36,742]\u001b[0m Trial 42 finished with value: -1.1405990996634252 and parameters: {'learning_rate': 0.02248704387208328, 'minibatch_frac': 0.3055412680009566, 'col_sample': 0.40167834479030445}. Best is trial 30 with value: -1.1445235195220105.\u001b[0m\n"
     ]
    },
    {
     "name": "stdout",
     "output_type": "stream",
     "text": [
      "\n",
      " average loss: -1.1405990996634252\n"
     ]
    },
    {
     "name": "stderr",
     "output_type": "stream",
     "text": [
      "0it [00:00, ?it/s]"
     ]
    },
    {
     "name": "stdout",
     "output_type": "stream",
     "text": [
      "[iter 0] loss=-0.5183 val_loss=0.0000 scale=1.0000 norm=0.5956\n"
     ]
    },
    {
     "name": "stderr",
     "output_type": "stream",
     "text": [
      "1it [00:02,  2.05s/it]"
     ]
    },
    {
     "name": "stdout",
     "output_type": "stream",
     "text": [
      "[iter 0] loss=-0.6001 val_loss=0.0000 scale=1.0000 norm=0.6114\n"
     ]
    },
    {
     "name": "stderr",
     "output_type": "stream",
     "text": [
      "2it [00:05,  3.11s/it]"
     ]
    },
    {
     "name": "stdout",
     "output_type": "stream",
     "text": [
      "[iter 0] loss=-0.6190 val_loss=0.0000 scale=1.0000 norm=0.5821\n"
     ]
    },
    {
     "name": "stderr",
     "output_type": "stream",
     "text": [
      "3it [00:11,  4.45s/it]"
     ]
    },
    {
     "name": "stdout",
     "output_type": "stream",
     "text": [
      "[iter 0] loss=-0.5939 val_loss=0.0000 scale=1.0000 norm=0.5810\n"
     ]
    },
    {
     "name": "stderr",
     "output_type": "stream",
     "text": [
      "4it [00:20,  6.09s/it]"
     ]
    },
    {
     "name": "stdout",
     "output_type": "stream",
     "text": [
      "[iter 0] loss=-0.5679 val_loss=0.0000 scale=1.0000 norm=0.5768\n"
     ]
    },
    {
     "name": "stderr",
     "output_type": "stream",
     "text": [
      "5it [00:32,  6.41s/it]\n",
      "\u001b[32m[I 2023-09-07 22:58:08,889]\u001b[0m Trial 43 finished with value: -1.0982651411465658 and parameters: {'learning_rate': 0.013837229558926944, 'minibatch_frac': 0.3040418778753089, 'col_sample': 0.4397568571071787}. Best is trial 30 with value: -1.1445235195220105.\u001b[0m\n"
     ]
    },
    {
     "name": "stdout",
     "output_type": "stream",
     "text": [
      "\n",
      " average loss: -1.0982651411465658\n"
     ]
    },
    {
     "name": "stderr",
     "output_type": "stream",
     "text": [
      "0it [00:00, ?it/s]"
     ]
    },
    {
     "name": "stdout",
     "output_type": "stream",
     "text": [
      "[iter 0] loss=-0.5070 val_loss=0.0000 scale=1.0000 norm=0.5900\n"
     ]
    },
    {
     "name": "stderr",
     "output_type": "stream",
     "text": [
      "1it [00:02,  2.04s/it]"
     ]
    },
    {
     "name": "stdout",
     "output_type": "stream",
     "text": [
      "[iter 0] loss=-0.5924 val_loss=0.0000 scale=1.0000 norm=0.6152\n"
     ]
    },
    {
     "name": "stderr",
     "output_type": "stream",
     "text": [
      "2it [00:05,  3.16s/it]"
     ]
    },
    {
     "name": "stdout",
     "output_type": "stream",
     "text": [
      "[iter 0] loss=-0.6086 val_loss=0.0000 scale=1.0000 norm=0.5885\n"
     ]
    },
    {
     "name": "stderr",
     "output_type": "stream",
     "text": [
      "3it [00:12,  4.53s/it]"
     ]
    },
    {
     "name": "stdout",
     "output_type": "stream",
     "text": [
      "[iter 0] loss=-0.5890 val_loss=0.0000 scale=1.0000 norm=0.5799\n"
     ]
    },
    {
     "name": "stderr",
     "output_type": "stream",
     "text": [
      "4it [00:20,  6.18s/it]"
     ]
    },
    {
     "name": "stdout",
     "output_type": "stream",
     "text": [
      "[iter 0] loss=-0.5491 val_loss=0.0000 scale=1.0000 norm=0.5901\n"
     ]
    },
    {
     "name": "stderr",
     "output_type": "stream",
     "text": [
      "5it [00:32,  6.51s/it]\n",
      "\u001b[32m[I 2023-09-07 22:58:41,487]\u001b[0m Trial 44 finished with value: -1.1227857377246064 and parameters: {'learning_rate': 0.031475747505050715, 'minibatch_frac': 0.2242514907138069, 'col_sample': 0.6072179344933486}. Best is trial 30 with value: -1.1445235195220105.\u001b[0m\n"
     ]
    },
    {
     "name": "stdout",
     "output_type": "stream",
     "text": [
      "\n",
      " average loss: -1.1227857377246064\n"
     ]
    },
    {
     "name": "stderr",
     "output_type": "stream",
     "text": [
      "0it [00:00, ?it/s]"
     ]
    },
    {
     "name": "stdout",
     "output_type": "stream",
     "text": [
      "[iter 0] loss=-0.5190 val_loss=0.0000 scale=1.0000 norm=0.5906\n"
     ]
    },
    {
     "name": "stderr",
     "output_type": "stream",
     "text": [
      "1it [00:01,  1.52s/it]"
     ]
    },
    {
     "name": "stdout",
     "output_type": "stream",
     "text": [
      "[iter 0] loss=-0.6081 val_loss=0.0000 scale=1.0000 norm=0.6002\n"
     ]
    },
    {
     "name": "stderr",
     "output_type": "stream",
     "text": [
      "2it [00:04,  2.38s/it]"
     ]
    },
    {
     "name": "stdout",
     "output_type": "stream",
     "text": [
      "[iter 0] loss=-0.6083 val_loss=0.0000 scale=1.0000 norm=0.5886\n"
     ]
    },
    {
     "name": "stderr",
     "output_type": "stream",
     "text": [
      "3it [00:09,  3.49s/it]"
     ]
    },
    {
     "name": "stdout",
     "output_type": "stream",
     "text": [
      "[iter 0] loss=-0.5968 val_loss=0.0000 scale=1.0000 norm=0.5826\n"
     ]
    },
    {
     "name": "stderr",
     "output_type": "stream",
     "text": [
      "4it [00:16,  4.77s/it]"
     ]
    },
    {
     "name": "stdout",
     "output_type": "stream",
     "text": [
      "[iter 0] loss=-0.5483 val_loss=0.0000 scale=1.0000 norm=0.5878\n"
     ]
    },
    {
     "name": "stderr",
     "output_type": "stream",
     "text": [
      "5it [00:25,  5.03s/it]\n",
      "\u001b[32m[I 2023-09-07 22:59:06,688]\u001b[0m Trial 45 finished with value: -1.1375376318195405 and parameters: {'learning_rate': 0.041023526497614024, 'minibatch_frac': 0.27043659524589986, 'col_sample': 0.3127264641566863}. Best is trial 30 with value: -1.1445235195220105.\u001b[0m\n"
     ]
    },
    {
     "name": "stdout",
     "output_type": "stream",
     "text": [
      "\n",
      " average loss: -1.1375376318195405\n"
     ]
    },
    {
     "name": "stderr",
     "output_type": "stream",
     "text": [
      "0it [00:00, ?it/s]"
     ]
    },
    {
     "name": "stdout",
     "output_type": "stream",
     "text": [
      "[iter 0] loss=-0.5087 val_loss=0.0000 scale=1.0000 norm=0.5904\n"
     ]
    },
    {
     "name": "stderr",
     "output_type": "stream",
     "text": [
      "1it [00:00,  1.12it/s]"
     ]
    },
    {
     "name": "stdout",
     "output_type": "stream",
     "text": [
      "[iter 0] loss=-0.5854 val_loss=0.0000 scale=1.0000 norm=0.6187\n"
     ]
    },
    {
     "name": "stderr",
     "output_type": "stream",
     "text": [
      "2it [00:02,  1.35s/it]"
     ]
    },
    {
     "name": "stdout",
     "output_type": "stream",
     "text": [
      "[iter 0] loss=-0.5787 val_loss=0.0000 scale=1.0000 norm=0.6108\n"
     ]
    },
    {
     "name": "stderr",
     "output_type": "stream",
     "text": [
      "3it [00:05,  1.99s/it]"
     ]
    },
    {
     "name": "stdout",
     "output_type": "stream",
     "text": [
      "[iter 0] loss=-0.6034 val_loss=0.0000 scale=1.0000 norm=0.5732\n"
     ]
    },
    {
     "name": "stderr",
     "output_type": "stream",
     "text": [
      "4it [00:09,  2.88s/it]"
     ]
    },
    {
     "name": "stdout",
     "output_type": "stream",
     "text": [
      "[iter 0] loss=-0.5565 val_loss=0.0000 scale=1.0000 norm=0.5869\n"
     ]
    },
    {
     "name": "stderr",
     "output_type": "stream",
     "text": [
      "5it [00:15,  3.13s/it]\n",
      "\u001b[32m[I 2023-09-07 22:59:22,364]\u001b[0m Trial 46 finished with value: -1.1058281855627143 and parameters: {'learning_rate': 0.04258456153473169, 'minibatch_frac': 0.15893986132968863, 'col_sample': 0.16192864641046434}. Best is trial 30 with value: -1.1445235195220105.\u001b[0m\n"
     ]
    },
    {
     "name": "stdout",
     "output_type": "stream",
     "text": [
      "\n",
      " average loss: -1.1058281855627143\n"
     ]
    },
    {
     "name": "stderr",
     "output_type": "stream",
     "text": [
      "0it [00:00, ?it/s]"
     ]
    },
    {
     "name": "stdout",
     "output_type": "stream",
     "text": [
      "[iter 0] loss=-0.5084 val_loss=0.0000 scale=1.0000 norm=0.5913\n"
     ]
    },
    {
     "name": "stderr",
     "output_type": "stream",
     "text": [
      "1it [00:01,  1.65s/it]"
     ]
    },
    {
     "name": "stdout",
     "output_type": "stream",
     "text": [
      "[iter 0] loss=-0.5965 val_loss=0.0000 scale=1.0000 norm=0.6103\n"
     ]
    },
    {
     "name": "stderr",
     "output_type": "stream",
     "text": [
      "2it [00:04,  2.51s/it]"
     ]
    },
    {
     "name": "stdout",
     "output_type": "stream",
     "text": [
      "[iter 0] loss=-0.6094 val_loss=0.0000 scale=1.0000 norm=0.5889\n"
     ]
    },
    {
     "name": "stderr",
     "output_type": "stream",
     "text": [
      "3it [00:09,  3.61s/it]"
     ]
    },
    {
     "name": "stdout",
     "output_type": "stream",
     "text": [
      "[iter 0] loss=-0.5871 val_loss=0.0000 scale=1.0000 norm=0.5859\n"
     ]
    },
    {
     "name": "stderr",
     "output_type": "stream",
     "text": [
      "4it [00:16,  4.96s/it]"
     ]
    },
    {
     "name": "stdout",
     "output_type": "stream",
     "text": [
      "[iter 0] loss=-0.5583 val_loss=0.0000 scale=1.0000 norm=0.5832\n"
     ]
    },
    {
     "name": "stderr",
     "output_type": "stream",
     "text": [
      "5it [00:26,  5.26s/it]\n",
      "\u001b[32m[I 2023-09-07 22:59:48,716]\u001b[0m Trial 47 finished with value: -1.1168321389147355 and parameters: {'learning_rate': 0.053222281712114614, 'minibatch_frac': 0.3045213273789006, 'col_sample': 0.30974476375934323}. Best is trial 30 with value: -1.1445235195220105.\u001b[0m\n"
     ]
    },
    {
     "name": "stdout",
     "output_type": "stream",
     "text": [
      "\n",
      " average loss: -1.1168321389147355\n"
     ]
    },
    {
     "name": "stderr",
     "output_type": "stream",
     "text": [
      "0it [00:00, ?it/s]"
     ]
    },
    {
     "name": "stdout",
     "output_type": "stream",
     "text": [
      "[iter 0] loss=-0.5068 val_loss=0.0000 scale=1.0000 norm=0.5996\n"
     ]
    },
    {
     "name": "stderr",
     "output_type": "stream",
     "text": [
      "1it [00:01,  1.56s/it]"
     ]
    },
    {
     "name": "stdout",
     "output_type": "stream",
     "text": [
      "[iter 0] loss=-0.5812 val_loss=0.0000 scale=1.0000 norm=0.6193\n"
     ]
    },
    {
     "name": "stderr",
     "output_type": "stream",
     "text": [
      "2it [00:04,  2.34s/it]"
     ]
    },
    {
     "name": "stdout",
     "output_type": "stream",
     "text": [
      "[iter 0] loss=-0.6005 val_loss=0.0000 scale=1.0000 norm=0.5991\n"
     ]
    },
    {
     "name": "stderr",
     "output_type": "stream",
     "text": [
      "3it [00:08,  3.33s/it]"
     ]
    },
    {
     "name": "stdout",
     "output_type": "stream",
     "text": [
      "[iter 0] loss=-0.5802 val_loss=0.0000 scale=1.0000 norm=0.5890\n"
     ]
    },
    {
     "name": "stderr",
     "output_type": "stream",
     "text": [
      "4it [00:15,  4.63s/it]"
     ]
    },
    {
     "name": "stdout",
     "output_type": "stream",
     "text": [
      "[iter 0] loss=-0.5397 val_loss=0.0000 scale=1.0000 norm=0.5964\n"
     ]
    },
    {
     "name": "stderr",
     "output_type": "stream",
     "text": [
      "5it [00:25,  5.04s/it]\n",
      "\u001b[32m[I 2023-09-07 23:00:13,943]\u001b[0m Trial 48 finished with value: -1.1302468107635861 and parameters: {'learning_rate': 0.021703228997424575, 'minibatch_frac': 0.2608421121966335, 'col_sample': 0.32284987470124277}. Best is trial 30 with value: -1.1445235195220105.\u001b[0m\n"
     ]
    },
    {
     "name": "stdout",
     "output_type": "stream",
     "text": [
      "\n",
      " average loss: -1.1302468107635861\n"
     ]
    },
    {
     "name": "stderr",
     "output_type": "stream",
     "text": [
      "0it [00:00, ?it/s]"
     ]
    },
    {
     "name": "stdout",
     "output_type": "stream",
     "text": [
      "[iter 0] loss=-0.5102 val_loss=0.0000 scale=1.0000 norm=0.5844\n"
     ]
    },
    {
     "name": "stderr",
     "output_type": "stream",
     "text": [
      "1it [00:01,  1.89s/it]"
     ]
    },
    {
     "name": "stdout",
     "output_type": "stream",
     "text": [
      "[iter 0] loss=-0.6130 val_loss=0.0000 scale=1.0000 norm=0.6037\n"
     ]
    },
    {
     "name": "stderr",
     "output_type": "stream",
     "text": [
      "2it [00:05,  3.13s/it]"
     ]
    },
    {
     "name": "stdout",
     "output_type": "stream",
     "text": [
      "[iter 0] loss=-0.5885 val_loss=0.0000 scale=1.0000 norm=0.6051\n"
     ]
    },
    {
     "name": "stderr",
     "output_type": "stream",
     "text": [
      "3it [00:12,  4.56s/it]"
     ]
    },
    {
     "name": "stdout",
     "output_type": "stream",
     "text": [
      "[iter 0] loss=-0.5634 val_loss=0.0000 scale=1.0000 norm=0.6036\n"
     ]
    },
    {
     "name": "stderr",
     "output_type": "stream",
     "text": [
      "4it [00:20,  6.12s/it]"
     ]
    },
    {
     "name": "stdout",
     "output_type": "stream",
     "text": [
      "[iter 0] loss=-0.5520 val_loss=0.0000 scale=1.0000 norm=0.5908\n"
     ]
    },
    {
     "name": "stderr",
     "output_type": "stream",
     "text": [
      "5it [00:32,  6.48s/it]\n",
      "\u001b[32m[I 2023-09-07 23:00:46,369]\u001b[0m Trial 49 finished with value: -0.8912515488711213 and parameters: {'learning_rate': 0.006649965908361763, 'minibatch_frac': 0.15618808541462773, 'col_sample': 0.7175219258125454}. Best is trial 30 with value: -1.1445235195220105.\u001b[0m\n"
     ]
    },
    {
     "name": "stdout",
     "output_type": "stream",
     "text": [
      "\n",
      " average loss: -0.8912515488711213\n"
     ]
    }
   ],
   "source": [
    "study_model = optuna.create_study(direction = 'minimize', sampler = sampler)\n",
    "study_model.optimize(objective, n_trials = 50, callbacks=[callback])\n",
    "best_model=study_model.user_attrs[\"best_booster\"]"
   ]
  },
  {
   "cell_type": "code",
   "execution_count": 59,
   "metadata": {},
   "outputs": [
    {
     "data": {
      "text/plain": [
       "{'Dist': ngboost.distns.normal.Normal,\n",
       " 'Score': ngboost.scores.LogScore,\n",
       " 'Base': DecisionTreeRegressor(criterion='friedman_mse', max_depth=3),\n",
       " 'natural_gradient': True,\n",
       " 'n_estimators': 100,\n",
       " 'learning_rate': 0.030896221748968562,\n",
       " 'minibatch_frac': 0.4582406967336896,\n",
       " 'col_sample': 0.3829756058866356,\n",
       " 'verbose': True,\n",
       " 'random_state': RandomState(MT19937) at 0x14FE47C40}"
      ]
     },
     "execution_count": 59,
     "metadata": {},
     "output_type": "execute_result"
    }
   ],
   "source": [
    "best_model.get_params()"
   ]
  },
  {
   "cell_type": "code",
   "execution_count": 66,
   "metadata": {},
   "outputs": [
    {
     "ename": "ValueError",
     "evalue": "Found input variables with inconsistent numbers of samples: [43645, 8729]",
     "output_type": "error",
     "traceback": [
      "\u001b[0;31m---------------------------------------------------------------------------\u001b[0m",
      "\u001b[0;31mValueError\u001b[0m                                Traceback (most recent call last)",
      "Cell \u001b[0;32mIn[66], line 5\u001b[0m\n\u001b[1;32m      3\u001b[0m Y_dists \u001b[39m=\u001b[39m best_model\u001b[39m.\u001b[39mpred_dist(X_temp)\n\u001b[1;32m      4\u001b[0m \u001b[39m# test Mean Squared Error\u001b[39;00m\n\u001b[0;32m----> 5\u001b[0m test_MSE \u001b[39m=\u001b[39m mean_squared_error(Y_preds, y_test)\n\u001b[1;32m      6\u001b[0m \u001b[39mprint\u001b[39m(\u001b[39m\"\u001b[39m\u001b[39mTest MSE\u001b[39m\u001b[39m\"\u001b[39m, test_MSE)\n\u001b[1;32m      8\u001b[0m \u001b[39m# test Negative Log Likelihood\u001b[39;00m\n",
      "File \u001b[0;32m~/miniforge3/envs/ngboost/lib/python3.9/site-packages/sklearn/metrics/_regression.py:442\u001b[0m, in \u001b[0;36mmean_squared_error\u001b[0;34m(y_true, y_pred, sample_weight, multioutput, squared)\u001b[0m\n\u001b[1;32m    382\u001b[0m \u001b[39mdef\u001b[39;00m \u001b[39mmean_squared_error\u001b[39m(\n\u001b[1;32m    383\u001b[0m     y_true, y_pred, \u001b[39m*\u001b[39m, sample_weight\u001b[39m=\u001b[39m\u001b[39mNone\u001b[39;00m, multioutput\u001b[39m=\u001b[39m\u001b[39m\"\u001b[39m\u001b[39muniform_average\u001b[39m\u001b[39m\"\u001b[39m, squared\u001b[39m=\u001b[39m\u001b[39mTrue\u001b[39;00m\n\u001b[1;32m    384\u001b[0m ):\n\u001b[1;32m    385\u001b[0m \u001b[39m    \u001b[39m\u001b[39m\"\"\"Mean squared error regression loss.\u001b[39;00m\n\u001b[1;32m    386\u001b[0m \n\u001b[1;32m    387\u001b[0m \u001b[39m    Read more in the :ref:`User Guide <mean_squared_error>`.\u001b[39;00m\n\u001b[0;32m   (...)\u001b[0m\n\u001b[1;32m    440\u001b[0m \u001b[39m    0.825...\u001b[39;00m\n\u001b[1;32m    441\u001b[0m \u001b[39m    \"\"\"\u001b[39;00m\n\u001b[0;32m--> 442\u001b[0m     y_type, y_true, y_pred, multioutput \u001b[39m=\u001b[39m _check_reg_targets(\n\u001b[1;32m    443\u001b[0m         y_true, y_pred, multioutput\n\u001b[1;32m    444\u001b[0m     )\n\u001b[1;32m    445\u001b[0m     check_consistent_length(y_true, y_pred, sample_weight)\n\u001b[1;32m    446\u001b[0m     output_errors \u001b[39m=\u001b[39m np\u001b[39m.\u001b[39maverage((y_true \u001b[39m-\u001b[39m y_pred) \u001b[39m*\u001b[39m\u001b[39m*\u001b[39m \u001b[39m2\u001b[39m, axis\u001b[39m=\u001b[39m\u001b[39m0\u001b[39m, weights\u001b[39m=\u001b[39msample_weight)\n",
      "File \u001b[0;32m~/miniforge3/envs/ngboost/lib/python3.9/site-packages/sklearn/metrics/_regression.py:100\u001b[0m, in \u001b[0;36m_check_reg_targets\u001b[0;34m(y_true, y_pred, multioutput, dtype)\u001b[0m\n\u001b[1;32m     66\u001b[0m \u001b[39mdef\u001b[39;00m \u001b[39m_check_reg_targets\u001b[39m(y_true, y_pred, multioutput, dtype\u001b[39m=\u001b[39m\u001b[39m\"\u001b[39m\u001b[39mnumeric\u001b[39m\u001b[39m\"\u001b[39m):\n\u001b[1;32m     67\u001b[0m \u001b[39m    \u001b[39m\u001b[39m\"\"\"Check that y_true and y_pred belong to the same regression task.\u001b[39;00m\n\u001b[1;32m     68\u001b[0m \n\u001b[1;32m     69\u001b[0m \u001b[39m    Parameters\u001b[39;00m\n\u001b[0;32m   (...)\u001b[0m\n\u001b[1;32m     98\u001b[0m \u001b[39m        correct keyword.\u001b[39;00m\n\u001b[1;32m     99\u001b[0m \u001b[39m    \"\"\"\u001b[39;00m\n\u001b[0;32m--> 100\u001b[0m     check_consistent_length(y_true, y_pred)\n\u001b[1;32m    101\u001b[0m     y_true \u001b[39m=\u001b[39m check_array(y_true, ensure_2d\u001b[39m=\u001b[39m\u001b[39mFalse\u001b[39;00m, dtype\u001b[39m=\u001b[39mdtype)\n\u001b[1;32m    102\u001b[0m     y_pred \u001b[39m=\u001b[39m check_array(y_pred, ensure_2d\u001b[39m=\u001b[39m\u001b[39mFalse\u001b[39;00m, dtype\u001b[39m=\u001b[39mdtype)\n",
      "File \u001b[0;32m~/miniforge3/envs/ngboost/lib/python3.9/site-packages/sklearn/utils/validation.py:397\u001b[0m, in \u001b[0;36mcheck_consistent_length\u001b[0;34m(*arrays)\u001b[0m\n\u001b[1;32m    395\u001b[0m uniques \u001b[39m=\u001b[39m np\u001b[39m.\u001b[39munique(lengths)\n\u001b[1;32m    396\u001b[0m \u001b[39mif\u001b[39;00m \u001b[39mlen\u001b[39m(uniques) \u001b[39m>\u001b[39m \u001b[39m1\u001b[39m:\n\u001b[0;32m--> 397\u001b[0m     \u001b[39mraise\u001b[39;00m \u001b[39mValueError\u001b[39;00m(\n\u001b[1;32m    398\u001b[0m         \u001b[39m\"\u001b[39m\u001b[39mFound input variables with inconsistent numbers of samples: \u001b[39m\u001b[39m%r\u001b[39;00m\u001b[39m\"\u001b[39m\n\u001b[1;32m    399\u001b[0m         \u001b[39m%\u001b[39m [\u001b[39mint\u001b[39m(l) \u001b[39mfor\u001b[39;00m l \u001b[39min\u001b[39;00m lengths]\n\u001b[1;32m    400\u001b[0m     )\n",
      "\u001b[0;31mValueError\u001b[0m: Found input variables with inconsistent numbers of samples: [43645, 8729]"
     ]
    }
   ],
   "source": [
    "# test best model\n",
    "Y_preds = best_model.predict(X_temp)\n",
    "Y_dists = best_model.pred_dist(X_temp)\n",
    "# test Mean Squared Error\n",
    "test_MSE = mean_squared_error(Y_preds, y_test)\n",
    "print(\"Test MSE\", test_MSE)\n",
    "\n",
    "# test Negative Log Likelihood\n",
    "test_NLL = -Y_dists.logpdf(y_test).mean()\n",
    "print(\"Test NLL\", test_NLL)\n"
   ]
  },
  {
   "cell_type": "code",
   "execution_count": 60,
   "metadata": {},
   "outputs": [
    {
     "data": {
      "text/plain": [
       "['models/ngboost/ngboost_next_step.pkl']"
      ]
     },
     "execution_count": 60,
     "metadata": {},
     "output_type": "execute_result"
    }
   ],
   "source": [
    "joblib.dump(best_model, 'models/ngboost/ngboost_next_step.pkl')"
   ]
  },
  {
   "cell_type": "code",
   "execution_count": null,
   "metadata": {},
   "outputs": [],
   "source": []
  }
 ],
 "metadata": {
  "kernelspec": {
   "display_name": "citylearn",
   "language": "python",
   "name": "python3"
  },
  "language_info": {
   "codemirror_mode": {
    "name": "ipython",
    "version": 3
   },
   "file_extension": ".py",
   "mimetype": "text/x-python",
   "name": "python",
   "nbconvert_exporter": "python",
   "pygments_lexer": "ipython3",
   "version": "3.9.16"
  }
 },
 "nbformat": 4,
 "nbformat_minor": 2
}
