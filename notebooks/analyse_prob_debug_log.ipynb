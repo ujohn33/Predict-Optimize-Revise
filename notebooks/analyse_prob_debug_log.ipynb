{
 "cells": [
  {
   "cell_type": "code",
   "execution_count": 6,
   "metadata": {},
   "outputs": [],
   "source": [
    "import pandas as pd\n",
    "import matplotlib.pyplot as plt\n",
    "import seaborn as sns\n",
    "import numpy as np\n",
    "\n",
    "df_real_power = pd.read_csv('../debug_logs/real_power.csv', index_col=0)\n",
    "df_scen = pd.read_csv(\"../debug_logs/scenarios.csv\")\n",
    "df_quant = pd.read_csv(\"../debug_logs/quant_next_step.csv\")\n",
    "\n"
   ]
  },
  {
   "cell_type": "code",
   "execution_count": 16,
   "metadata": {},
   "outputs": [],
   "source": [
    "def quant_from_power(real_power, row, columns):\n",
    "    for i, quant_bnd in enumerate(columns[2:]):\n",
    "        quant_val = row[quant_bnd]\n",
    "        quant_bnd = float(quant_bnd)\n",
    "        if real_power < quant_val:\n",
    "            if i == 0:\n",
    "                bnd_res = quant_bnd\n",
    "            else:\n",
    "                bnd_inter = quant_bnd-prev_bnd\n",
    "                val_inter = quant_val-prev_val\n",
    "                pow_inter = real_power-prev_val\n",
    "                bnd_res = pow_inter/val_inter*bnd_inter\n",
    "            break\n",
    "        prev_val = quant_val\n",
    "        prev_bnd = quant_bnd\n",
    "        bnd_res = quant_bnd\n",
    "    return bnd_res\n"
   ]
  },
  {
   "cell_type": "code",
   "execution_count": 17,
   "metadata": {},
   "outputs": [],
   "source": [
    "# Check if the quantile forecasting is good\n",
    "\n",
    "tot_steps = 200\n",
    "real_bnd_counter = list()\n",
    "sample_bnd_counter = list()\n",
    "for _, row in df_quant.iterrows():\n",
    "    build_num = int(row[\"building\"])\n",
    "    time_step = int(row[\"time_step\"])\n",
    "    if time_step == tot_steps:\n",
    "        break\n",
    "\n",
    "    real_power = df_real_power[f\"building_{build_num}\"][time_step]\n",
    "    \n",
    "    real_bnd = quant_from_power(real_power, row, df_quant.columns)\n",
    "    real_bnd_counter.append(real_bnd)\n",
    "    \n",
    "    same_building = df_scen['time_step'] == time_step\n",
    "    same_time_step = df_scen['building'] == build_num\n",
    "    sep_df = list(df_scen.loc[same_building & same_time_step, '+1h'])\n",
    "    for pow in sep_df:\n",
    "        pow = float(pow)\n",
    "        sample_bnd = quant_from_power(pow, row, df_quant.columns)\n",
    "        sample_bnd_counter.append(sample_bnd)\n",
    "\n",
    "\n",
    "    \n"
   ]
  },
  {
   "cell_type": "code",
   "execution_count": 20,
   "metadata": {},
   "outputs": [
    {
     "data": {
      "image/png": "[encoded data removed]",
      "text/plain": [
       "<Figure size 432x288 with 1 Axes>"
      ]
     },
     "metadata": {
      "needs_background": "light"
     },
     "output_type": "display_data"
    }
   ],
   "source": [
    "cumulative = np.sort(real_bnd_counter)\n",
    "y = [i for i, _ in enumerate(cumulative)]\n",
    "# plot the cumulative function\n",
    "plt.plot(cumulative, y)\n",
    "\n",
    "cumulative = np.sort(sample_bnd_counter)\n",
    "y = [i for i, _ in enumerate(cumulative)]\n",
    "# plot the cumulative function\n",
    "plt.plot(cumulative, y)\n",
    "\n",
    "plt.show()"
   ]
  }
 ],
 "metadata": {
  "kernelspec": {
   "display_name": "citylearn",
   "language": "python",
   "name": "python3"
  },
  "language_info": {
   "codemirror_mode": {
    "name": "ipython",
    "version": 3
   },
   "file_extension": ".py",
   "mimetype": "text/x-python",
   "name": "python",
   "nbconvert_exporter": "python",
   "pygments_lexer": "ipython3",
   "version": "3.9.16"
  },
  "orig_nbformat": 4,
  "vscode": {
   "interpreter": {
    "hash": "b0e96db246c2914cbd19833a3fbf5b126f33328474caf8692ca99b7fe7375576"
   }
  }
 },
 "nbformat": 4,
 "nbformat_minor": 2
}
