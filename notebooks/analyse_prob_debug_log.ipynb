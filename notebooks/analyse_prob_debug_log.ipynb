{
 "cells": [
  {
   "cell_type": "code",
   "execution_count": 51,
   "metadata": {},
   "outputs": [],
   "source": [
    "import pandas as pd\n",
    "import matplotlib.pyplot as plt\n",
    "import seaborn as sns\n",
    "import numpy as np\n",
    "\n",
    "df_real_power = pd.read_csv('../debug_logs/real_power.csv', index_col=0)\n",
    "df_scen = pd.read_csv(\"../debug_logs/scenarios.csv\")\n",
    "df_quant = pd.read_csv(\"../debug_logs/quant_next_step.csv\")\n",
    "\n"
   ]
  },
  {
   "cell_type": "code",
   "execution_count": 52,
   "metadata": {},
   "outputs": [],
   "source": [
    "def quant_from_power(real_power, row, columns):\n",
    "    for i, quant_bnd in enumerate(columns[2:]):\n",
    "        quant_val = row[quant_bnd]\n",
    "        quant_bnd = float(quant_bnd)\n",
    "        if real_power < quant_val:\n",
    "            if i == 0:\n",
    "                bnd_res = quant_bnd\n",
    "            else:\n",
    "                bnd_inter = quant_bnd-prev_bnd\n",
    "                val_inter = quant_val-prev_val\n",
    "                pow_inter = real_power-prev_val\n",
    "                bnd_res = prev_bnd+pow_inter/val_inter*bnd_inter\n",
    "            break\n",
    "        prev_val = quant_val\n",
    "        prev_bnd = quant_bnd\n",
    "        bnd_res = quant_bnd\n",
    "    return bnd_res\n"
   ]
  },
  {
   "cell_type": "code",
   "execution_count": 53,
   "metadata": {},
   "outputs": [],
   "source": [
    "def quant_counter(real_power, row, columns):\n",
    "    for i, quant_bnd in enumerate(columns[2:]):\n",
    "        quant_val = row[quant_bnd]\n",
    "        quant_bnd = float(quant_bnd)"
   ]
  },
  {
   "cell_type": "code",
   "execution_count": 54,
   "metadata": {},
   "outputs": [],
   "source": [
    "# Check if the quantile forecasting is good\n",
    "\n",
    "real_bnd_counter = list()\n",
    "sample_bnd_counter = list()\n",
    "\n",
    "real_below_counter = [0 for _ in df_quant.columns[2:]]\n",
    "real_tot = 0\n",
    "\n",
    "sample_below_counter = [0 for _ in df_quant.columns[2:]]\n",
    "sample_tot = 0\n",
    "\n",
    "\n",
    "for _, row in df_quant.iterrows():\n",
    "    build_num = int(row[\"building\"])\n",
    "    time_step = int(row[\"time_step\"])\n",
    "    if time_step == df_real_power.shape[0]-1:\n",
    "        break\n",
    "    real_power = df_real_power[f\"building_{build_num}\"][time_step]\n",
    "    \n",
    "    real_bnd = quant_from_power(real_power, row, df_quant.columns)\n",
    "    real_bnd_counter.append(real_bnd)\n",
    "\n",
    "    for i, quant_bnd in enumerate(df_quant.columns[2:]):\n",
    "        quant_val =row[quant_bnd]\n",
    "        if real_power<quant_val:\n",
    "            real_below_counter[i] += 1\n",
    "    real_tot += 1\n",
    "\n",
    "    same_building = df_scen['time_step'] == time_step\n",
    "    same_time_step = df_scen['building'] == build_num\n",
    "    sep_df = list(df_scen.loc[same_building & same_time_step, '+1h'])\n",
    "    for pow in sep_df:\n",
    "        pow = float(pow)\n",
    "        sample_bnd = quant_from_power(pow, row, df_quant.columns)\n",
    "        sample_bnd_counter.append(sample_bnd)\n",
    "\n",
    "        for i, quant_bnd in enumerate(df_quant.columns[2:]):\n",
    "            quant_val =row[quant_bnd]\n",
    "            if pow<quant_val:\n",
    "                sample_below_counter[i] += 1\n",
    "        sample_tot += 1\n"
   ]
  },
  {
   "cell_type": "code",
   "execution_count": 55,
   "metadata": {},
   "outputs": [
    {
     "data": {
      "image/png": "[encoded data removed]",
      "text/plain": [
       "<Figure size 432x288 with 1 Axes>"
      ]
     },
     "metadata": {
      "needs_background": "light"
     },
     "output_type": "display_data"
    }
   ],
   "source": [
    "cumulative = np.sort(real_bnd_counter)\n",
    "y = [i/len(cumulative) for i, _ in enumerate(cumulative)]\n",
    "# plot the cumulative function\n",
    "plt.plot(cumulative, y)\n",
    "\n",
    "cumulative = np.sort(sample_bnd_counter)\n",
    "y = [i/len(cumulative) for i, _ in enumerate(cumulative)]\n",
    "# plot the cumulative function\n",
    "plt.plot(cumulative, y)\n",
    "\n",
    "plt.show()"
   ]
  },
  {
   "cell_type": "code",
   "execution_count": 56,
   "metadata": {},
   "outputs": [
    {
     "data": {
      "text/plain": [
       "<matplotlib.legend.Legend at 0x7f67fa797c10>"
      ]
     },
     "execution_count": 56,
     "metadata": {},
     "output_type": "execute_result"
    },
    {
     "data": {
      "image/png": "[encoded data removed]",
      "text/plain": [
       "<Figure size 432x288 with 1 Axes>"
      ]
     },
     "metadata": {
      "needs_background": "light"
     },
     "output_type": "display_data"
    }
   ],
   "source": [
    "quantiles = df_quant.columns[2:]\n",
    "quant_float = [float(i)for i in quantiles]\n",
    "\n",
    "real_below_norm = [i/real_tot for i in real_below_counter]\n",
    "\n",
    "sample_below_norm = [i/sample_tot for i in sample_below_counter]\n",
    "fig = plt.figure()\n",
    "ax = fig.add_subplot()\n",
    "\n",
    "plt.plot([0,1],[0,1])\n",
    "plt.scatter(quant_float, real_below_norm, label=\"Real powers\")\n",
    "plt.scatter(quant_float, sample_below_norm, label = \"Sample powers\")\n",
    "ax.set_aspect('equal', adjustable='box')\n",
    "plt.xlabel(\"Quantiles\")\n",
    "plt.ylabel(\"Proportion of points below this quantile\")\n",
    "plt.legend()\n"
   ]
  }
 ],
 "metadata": {
  "kernelspec": {
   "display_name": "citylearn",
   "language": "python",
   "name": "python3"
  },
  "language_info": {
   "codemirror_mode": {
    "name": "ipython",
    "version": 3
   },
   "file_extension": ".py",
   "mimetype": "text/x-python",
   "name": "python",
   "nbconvert_exporter": "python",
   "pygments_lexer": "ipython3",
   "version": "3.9.16"
  },
  "orig_nbformat": 4,
  "vscode": {
   "interpreter": {
    "hash": "b0e96db246c2914cbd19833a3fbf5b126f33328474caf8692ca99b7fe7375576"
   }
  }
 },
 "nbformat": 4,
 "nbformat_minor": 2
}
