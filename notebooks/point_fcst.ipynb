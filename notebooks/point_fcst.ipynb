{
 "cells": [
  {
   "cell_type": "code",
   "execution_count": 2,
   "metadata": {},
   "outputs": [],
   "source": [
    "import os\n",
    "# Change native directory to root\n",
    "os.chdir(os.path.dirname(os.getcwd()))"
   ]
  },
  {
   "cell_type": "code",
   "execution_count": 12,
   "metadata": {},
   "outputs": [],
   "source": [
    "import pandas as pd\n",
    "import numpy as np\n",
    "import matplotlib.pyplot as plt\n",
    "import lightgbm as lgb\n",
    "from scipy.interpolate import interp1d\n",
    "from scipy.stats import norm\n",
    "import joblib\n",
    "\n",
    "features = ['Month', 'Hour', 'hour_x', 'hour_y', 'month_x', 'month_y',\n",
    "'net_target-23', 'diffuse_solar_radiation+1', 'relative_humidity+1', 'direct_solar_radiation+1', 'drybulb_temp+1']\n",
    "target = 'net_target+1'"
   ]
  },
  {
   "cell_type": "code",
   "execution_count": 13,
   "metadata": {},
   "outputs": [],
   "source": [
    "# Input data directory\n",
    "data_train = pd.read_csv('./data/extra_train.csv', index_col=0, parse_dates=['timestamp'])\n",
    "data_train.index = data_train.timestamp\n",
    "data_test = pd.read_csv('./data/extra_test.csv', index_col=0, parse_dates=['timestamp'])\n",
    "data_test.index = data_test.timestamp"
   ]
  },
  {
   "cell_type": "code",
   "execution_count": 14,
   "metadata": {},
   "outputs": [],
   "source": [
    "model_dir = './models/point/'\n",
    "model_pt = joblib.load(model_dir+\"lgb_point_step_24.pkl\")"
   ]
  },
  {
   "cell_type": "code",
   "execution_count": 15,
   "metadata": {},
   "outputs": [],
   "source": [
    "x_train = data_train[features]\n",
    "y = model_pt.predict(x_train)"
   ]
  },
  {
   "cell_type": "code",
   "execution_count": 18,
   "metadata": {},
   "outputs": [],
   "source": [
    "y_pred = pd.DataFrame(y, index=data_train.timestamp, columns=['net_forecast+1'])\n",
    "y_pred.to_csv('./data/point/train_fcst.csv')"
   ]
  },
  {
   "cell_type": "code",
   "execution_count": null,
   "metadata": {},
   "outputs": [],
   "source": []
  }
 ],
 "metadata": {
  "kernelspec": {
   "display_name": "Python 3.8.10 ('conformal')",
   "language": "python",
   "name": "python3"
  },
  "language_info": {
   "codemirror_mode": {
    "name": "ipython",
    "version": 3
   },
   "file_extension": ".py",
   "mimetype": "text/x-python",
   "name": "python",
   "nbconvert_exporter": "python",
   "pygments_lexer": "ipython3",
   "version": "3.8.10 | packaged by conda-forge | (default, May 11 2021, 06:27:18) \n[Clang 11.1.0 ]"
  },
  "orig_nbformat": 4,
  "vscode": {
   "interpreter": {
    "hash": "d0d3be591cc1f62bd6e576447eedd96beb36aab5b38925396e514c40c7291afb"
   }
  }
 },
 "nbformat": 4,
 "nbformat_minor": 2
}
