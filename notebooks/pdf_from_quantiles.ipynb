{
 "cells": [
  {
   "cell_type": "code",
   "execution_count": 1,
   "metadata": {},
   "outputs": [],
   "source": [
    "import os\n",
    "# Change native directory to root\n",
    "os.chdir(os.path.dirname(os.getcwd()))"
   ]
  },
  {
   "cell_type": "code",
   "execution_count": 46,
   "metadata": {},
   "outputs": [],
   "source": [
    "import gc\n",
    "import pandas as pd\n",
    "import numpy as np\n",
    "from scipy.interpolate import interp1d\n",
    "from scipy.stats import norm, multivariate_normal\n",
    "# import timedelta\n",
    "from datetime import datetime, timedelta\n",
    "import lightgbm as lgb\n",
    "\n",
    "# vizualization\n",
    "import matplotlib.pyplot as plt\n",
    "import seaborn as sns\n"
   ]
  },
  {
   "cell_type": "code",
   "execution_count": 3,
   "metadata": {},
   "outputs": [],
   "source": [
    "#cdf from conditional quantile regression\n",
    "def cqr_cdf(row, cdf_keyword): \n",
    "    #prob = betas.loc[:,('probabilities')].values\n",
    "    #print(row)\n",
    "    prob = row.index.values\n",
    "    quantiles = row.values\n",
    "    #quantiles[quantiles < 0] = 0\n",
    "    #quantiles[quantiles > 1] = 1\n",
    "    quantiles_extended = np.concatenate([[0], sorted(quantiles), [1]])\n",
    "    probabilities_extended = np.concatenate([[0],prob,[1]])\n",
    "    if cdf_keyword == 'cdf':\n",
    "        interpolation = interp1d(quantiles_extended, probabilities_extended, bounds_error=False, fill_value=(0, 1))\n",
    "    elif cdf_keyword == 'inv_cdf':\n",
    "        interpolation = interp1d(probabilities_extended, quantiles_extended, bounds_error=False, fill_value=(0, 1))\n",
    "    return interpolation"
   ]
  },
  {
   "cell_type": "code",
   "execution_count": 91,
   "metadata": {},
   "outputs": [
    {
     "data": {
      "text/html": [
       "<div>\n",
       "<style scoped>\n",
       "    .dataframe tbody tr th:only-of-type {\n",
       "        vertical-align: middle;\n",
       "    }\n",
       "\n",
       "    .dataframe tbody tr th {\n",
       "        vertical-align: top;\n",
       "    }\n",
       "\n",
       "    .dataframe thead th {\n",
       "        text-align: right;\n",
       "    }\n",
       "</style>\n",
       "<table border=\"1\" class=\"dataframe\">\n",
       "  <thead>\n",
       "    <tr style=\"text-align: right;\">\n",
       "      <th></th>\n",
       "      <th>0.001</th>\n",
       "      <th>0.05</th>\n",
       "      <th>0.1</th>\n",
       "      <th>0.15</th>\n",
       "      <th>0.2</th>\n",
       "      <th>0.25</th>\n",
       "      <th>0.3</th>\n",
       "      <th>0.35</th>\n",
       "      <th>0.4</th>\n",
       "      <th>0.45</th>\n",
       "      <th>...</th>\n",
       "      <th>0.6</th>\n",
       "      <th>0.65</th>\n",
       "      <th>0.7</th>\n",
       "      <th>0.75</th>\n",
       "      <th>0.8</th>\n",
       "      <th>0.85</th>\n",
       "      <th>0.9</th>\n",
       "      <th>0.95</th>\n",
       "      <th>0.999</th>\n",
       "      <th>hour</th>\n",
       "    </tr>\n",
       "    <tr>\n",
       "      <th>timestamp</th>\n",
       "      <th></th>\n",
       "      <th></th>\n",
       "      <th></th>\n",
       "      <th></th>\n",
       "      <th></th>\n",
       "      <th></th>\n",
       "      <th></th>\n",
       "      <th></th>\n",
       "      <th></th>\n",
       "      <th></th>\n",
       "      <th></th>\n",
       "      <th></th>\n",
       "      <th></th>\n",
       "      <th></th>\n",
       "      <th></th>\n",
       "      <th></th>\n",
       "      <th></th>\n",
       "      <th></th>\n",
       "      <th></th>\n",
       "      <th></th>\n",
       "      <th></th>\n",
       "    </tr>\n",
       "  </thead>\n",
       "  <tbody>\n",
       "    <tr>\n",
       "      <th>2021-08-02 00:00:00</th>\n",
       "      <td>0.310360</td>\n",
       "      <td>0.357515</td>\n",
       "      <td>0.366269</td>\n",
       "      <td>0.370381</td>\n",
       "      <td>0.371512</td>\n",
       "      <td>0.374360</td>\n",
       "      <td>0.375974</td>\n",
       "      <td>0.377014</td>\n",
       "      <td>0.382050</td>\n",
       "      <td>0.380493</td>\n",
       "      <td>...</td>\n",
       "      <td>0.385405</td>\n",
       "      <td>0.389247</td>\n",
       "      <td>0.401400</td>\n",
       "      <td>0.414912</td>\n",
       "      <td>0.429971</td>\n",
       "      <td>0.435761</td>\n",
       "      <td>0.470169</td>\n",
       "      <td>0.505395</td>\n",
       "      <td>0.822760</td>\n",
       "      <td>0</td>\n",
       "    </tr>\n",
       "    <tr>\n",
       "      <th>2021-08-02 01:00:00</th>\n",
       "      <td>0.310360</td>\n",
       "      <td>0.368597</td>\n",
       "      <td>0.397004</td>\n",
       "      <td>0.409418</td>\n",
       "      <td>0.418076</td>\n",
       "      <td>0.431889</td>\n",
       "      <td>0.433194</td>\n",
       "      <td>0.437272</td>\n",
       "      <td>0.437601</td>\n",
       "      <td>0.440130</td>\n",
       "      <td>...</td>\n",
       "      <td>0.446105</td>\n",
       "      <td>0.446119</td>\n",
       "      <td>0.449251</td>\n",
       "      <td>0.452369</td>\n",
       "      <td>0.464968</td>\n",
       "      <td>0.477420</td>\n",
       "      <td>0.488795</td>\n",
       "      <td>0.541063</td>\n",
       "      <td>0.822760</td>\n",
       "      <td>1</td>\n",
       "    </tr>\n",
       "    <tr>\n",
       "      <th>2021-08-02 02:00:00</th>\n",
       "      <td>0.317762</td>\n",
       "      <td>0.363231</td>\n",
       "      <td>0.380728</td>\n",
       "      <td>0.391533</td>\n",
       "      <td>0.404270</td>\n",
       "      <td>0.412055</td>\n",
       "      <td>0.414292</td>\n",
       "      <td>0.416644</td>\n",
       "      <td>0.418006</td>\n",
       "      <td>0.416466</td>\n",
       "      <td>...</td>\n",
       "      <td>0.421653</td>\n",
       "      <td>0.420844</td>\n",
       "      <td>0.424533</td>\n",
       "      <td>0.426552</td>\n",
       "      <td>0.434780</td>\n",
       "      <td>0.440315</td>\n",
       "      <td>0.446545</td>\n",
       "      <td>0.508745</td>\n",
       "      <td>0.822760</td>\n",
       "      <td>2</td>\n",
       "    </tr>\n",
       "    <tr>\n",
       "      <th>2021-08-02 03:00:00</th>\n",
       "      <td>0.304413</td>\n",
       "      <td>0.368901</td>\n",
       "      <td>0.389296</td>\n",
       "      <td>0.403086</td>\n",
       "      <td>0.418316</td>\n",
       "      <td>0.434724</td>\n",
       "      <td>0.442899</td>\n",
       "      <td>0.447951</td>\n",
       "      <td>0.445827</td>\n",
       "      <td>0.448121</td>\n",
       "      <td>...</td>\n",
       "      <td>0.452089</td>\n",
       "      <td>0.458047</td>\n",
       "      <td>0.458616</td>\n",
       "      <td>0.463705</td>\n",
       "      <td>0.475469</td>\n",
       "      <td>0.482647</td>\n",
       "      <td>0.493737</td>\n",
       "      <td>0.556686</td>\n",
       "      <td>0.822469</td>\n",
       "      <td>3</td>\n",
       "    </tr>\n",
       "    <tr>\n",
       "      <th>2021-08-02 04:00:00</th>\n",
       "      <td>0.292494</td>\n",
       "      <td>0.349550</td>\n",
       "      <td>0.360152</td>\n",
       "      <td>0.363746</td>\n",
       "      <td>0.367033</td>\n",
       "      <td>0.372829</td>\n",
       "      <td>0.373457</td>\n",
       "      <td>0.379888</td>\n",
       "      <td>0.385569</td>\n",
       "      <td>0.388895</td>\n",
       "      <td>...</td>\n",
       "      <td>0.398318</td>\n",
       "      <td>0.401174</td>\n",
       "      <td>0.405351</td>\n",
       "      <td>0.407885</td>\n",
       "      <td>0.417186</td>\n",
       "      <td>0.417636</td>\n",
       "      <td>0.437458</td>\n",
       "      <td>0.503593</td>\n",
       "      <td>0.822760</td>\n",
       "      <td>4</td>\n",
       "    </tr>\n",
       "  </tbody>\n",
       "</table>\n",
       "<p>5 rows × 22 columns</p>\n",
       "</div>"
      ],
      "text/plain": [
       "                        0.001      0.05       0.1      0.15       0.2  \\\n",
       "timestamp                                                               \n",
       "2021-08-02 00:00:00  0.310360  0.357515  0.366269  0.370381  0.371512   \n",
       "2021-08-02 01:00:00  0.310360  0.368597  0.397004  0.409418  0.418076   \n",
       "2021-08-02 02:00:00  0.317762  0.363231  0.380728  0.391533  0.404270   \n",
       "2021-08-02 03:00:00  0.304413  0.368901  0.389296  0.403086  0.418316   \n",
       "2021-08-02 04:00:00  0.292494  0.349550  0.360152  0.363746  0.367033   \n",
       "\n",
       "                         0.25       0.3      0.35       0.4      0.45  ...  \\\n",
       "timestamp                                                              ...   \n",
       "2021-08-02 00:00:00  0.374360  0.375974  0.377014  0.382050  0.380493  ...   \n",
       "2021-08-02 01:00:00  0.431889  0.433194  0.437272  0.437601  0.440130  ...   \n",
       "2021-08-02 02:00:00  0.412055  0.414292  0.416644  0.418006  0.416466  ...   \n",
       "2021-08-02 03:00:00  0.434724  0.442899  0.447951  0.445827  0.448121  ...   \n",
       "2021-08-02 04:00:00  0.372829  0.373457  0.379888  0.385569  0.388895  ...   \n",
       "\n",
       "                          0.6      0.65       0.7      0.75       0.8  \\\n",
       "timestamp                                                               \n",
       "2021-08-02 00:00:00  0.385405  0.389247  0.401400  0.414912  0.429971   \n",
       "2021-08-02 01:00:00  0.446105  0.446119  0.449251  0.452369  0.464968   \n",
       "2021-08-02 02:00:00  0.421653  0.420844  0.424533  0.426552  0.434780   \n",
       "2021-08-02 03:00:00  0.452089  0.458047  0.458616  0.463705  0.475469   \n",
       "2021-08-02 04:00:00  0.398318  0.401174  0.405351  0.407885  0.417186   \n",
       "\n",
       "                         0.85       0.9      0.95     0.999  hour  \n",
       "timestamp                                                          \n",
       "2021-08-02 00:00:00  0.435761  0.470169  0.505395  0.822760     0  \n",
       "2021-08-02 01:00:00  0.477420  0.488795  0.541063  0.822760     1  \n",
       "2021-08-02 02:00:00  0.440315  0.446545  0.508745  0.822760     2  \n",
       "2021-08-02 03:00:00  0.482647  0.493737  0.556686  0.822469     3  \n",
       "2021-08-02 04:00:00  0.417636  0.437458  0.503593  0.822760     4  \n",
       "\n",
       "[5 rows x 22 columns]"
      ]
     },
     "execution_count": 91,
     "metadata": {},
     "output_type": "execute_result"
    }
   ],
   "source": [
    "input_dir = './data/quantile/'\n",
    "output_test = pd.read_csv(input_dir+'./year_qs_test.csv', index_col=0)\n",
    "# change all but last column names to float\n",
    "output_test.columns = [float(x) if x != 'hour' else x for x in output_test.columns]\n",
    "data_test = pd.read_csv('./data/extra_test.csv', index_col=0, parse_dates=['timestamp'])\n",
    "y = data_test['net_target'].values\n",
    "qts = np.concatenate([[0.001],np.arange(0.05,0.951,0.05),[0.999]])\n",
    "features = ['Month', 'Hour', 'hour_x', 'hour_y', 'month_x', 'month_y',\n",
    "'net_target-1', 'diffuse_solar_radiation+1', 'relative_humidity+1', 'drybulb_temp+1']\n",
    "target = 'net_target'\n",
    "output.head()"
   ]
  },
  {
   "cell_type": "code",
   "execution_count": 50,
   "metadata": {},
   "outputs": [],
   "source": [
    "# for each file in the folder models\n",
    "# load the model\n",
    "model_dir = './models/'\n",
    "# names of the files\n",
    "files = os.listdir(model_dir)\n",
    "# sort filenames in mathematical order\n",
    "files.sort(key=lambda f: int(''.join(filter(str.isdigit, f))))\n",
    "# load the lgb models in txt files\n",
    "models = [lgb.Booster(model_file=model_dir+file) for file in files]"
   ]
  },
  {
   "cell_type": "code",
   "execution_count": 51,
   "metadata": {},
   "outputs": [
    {
     "data": {
      "text/plain": [
       "['lgb_0.001.txt',\n",
       " 'lgb_0.1.txt',\n",
       " 'lgb_0.2.txt',\n",
       " 'lgb_0.3.txt',\n",
       " 'lgb_0.4.txt',\n",
       " 'lgb_0.5.txt',\n",
       " 'lgb_0.05.txt',\n",
       " 'lgb_0.6.txt',\n",
       " 'lgb_0.7.txt',\n",
       " 'lgb_0.8.txt',\n",
       " 'lgb_0.9.txt',\n",
       " 'lgb_0.15.txt',\n",
       " 'lgb_0.25.txt',\n",
       " 'lgb_0.35.txt',\n",
       " 'lgb_0.45.txt',\n",
       " 'lgb_0.55.txt',\n",
       " 'lgb_0.65.txt',\n",
       " 'lgb_0.75.txt',\n",
       " 'lgb_0.85.txt',\n",
       " 'lgb_0.95.txt',\n",
       " 'lgb_0.999.txt']"
      ]
     },
     "execution_count": 51,
     "metadata": {},
     "output_type": "execute_result"
    }
   ],
   "source": [
    "files"
   ]
  },
  {
   "cell_type": "code",
   "execution_count": 148,
   "metadata": {},
   "outputs": [],
   "source": [
    "def estimate_pdf(row):\n",
    "    qts_temp = {}\n",
    "    for i, qt in enumerate(qts):\n",
    "        # load lgb model \n",
    "        model = models[i]\n",
    "        # predict the quantile\n",
    "        qts_temp['{}'.format(qt)] = model.predict(row[features].values.reshape(1,-1)).item(0)\n",
    "        # \n",
    "    qts_temp = pd.Series(data = list(qts_temp.values()), index = qts.round(3))\n",
    "    mu, std = norm.fit(qts_temp)\n",
    "    pdf = norm(mu, std)\n",
    "    return pdf, qts_temp"
   ]
  },
  {
   "cell_type": "code",
   "execution_count": 124,
   "metadata": {},
   "outputs": [
    {
     "data": {
      "text/plain": [
       "0.001    0.246067\n",
       "0.050    0.387738\n",
       "0.100    0.400070\n",
       "0.150    0.402994\n",
       "0.200    0.407661\n",
       "0.250    0.409170\n",
       "0.300    0.366437\n",
       "0.350    0.409809\n",
       "0.400    0.413074\n",
       "0.450    0.423337\n",
       "0.500    0.444644\n",
       "0.550    0.396532\n",
       "0.600    0.403963\n",
       "0.650    0.408853\n",
       "0.700    0.409491\n",
       "0.750    0.408947\n",
       "0.800    0.410672\n",
       "0.850    0.417516\n",
       "0.900    0.425427\n",
       "0.950    0.478876\n",
       "0.999    0.794623\n",
       "dtype: float64"
      ]
     },
     "execution_count": 124,
     "metadata": {},
     "output_type": "execute_result"
    }
   ],
   "source": [
    "qts_res"
   ]
  },
  {
   "cell_type": "code",
   "execution_count": 127,
   "metadata": {},
   "outputs": [
    {
     "data": {
      "text/plain": [
       "Float64Index([0.001,  0.05,   0.1,  0.15,   0.2,  0.25,   0.3,  0.35,   0.4,\n",
       "               0.45,   0.5,  0.55,   0.6,  0.65,   0.7,  0.75,   0.8,  0.85,\n",
       "                0.9,  0.95, 0.999],\n",
       "             dtype='float64')"
      ]
     },
     "execution_count": 127,
     "metadata": {},
     "output_type": "execute_result"
    }
   ],
   "source": [
    "qts_res.index"
   ]
  },
  {
   "cell_type": "code",
   "execution_count": 167,
   "metadata": {},
   "outputs": [
    {
     "data": {
      "text/plain": [
       "<matplotlib.collections.PolyCollection at 0x176bd92e0>"
      ]
     },
     "execution_count": 167,
     "metadata": {},
     "output_type": "execute_result"
    },
    {
     "data": {
      "image/png": "[encoded data removed]",
      "text/plain": [
       "<Figure size 432x288 with 1 Axes>"
      ]
     },
     "metadata": {
      "needs_background": "light"
     },
     "output_type": "display_data"
    }
   ],
   "source": [
    "row = data_test.iloc[1]\n",
    "pdf, qts_res = estimate_pdf(row)\n",
    "dates = np.array([(row.timestamp - timedelta(hours=1)), row.timestamp])\n",
    "init_v = row['net_target-1']\n",
    "# make a list with a gradient of 10 colours from light blue to dark blue\n",
    "colors = sns.color_palette(\"Blues\", 10)\n",
    "# plt the confidence intervals between 0.05 and 0.95\n",
    "plt.fill_between(dates, np.array([init_v, qts_res[0.05]]), np.array([init_v, qts_res[0.95]]), alpha=0.5, color=colors[0])\n",
    "plt.fill_between(dates, np.array([init_v, qts_res[0.1]]), np.array([init_v, qts_res[0.9]]), alpha=0.5, color=colors[1])\n",
    "plt.fill_between(dates, np.array([init_v, qts_res[0.15]]), np.array([init_v, qts_res[0.85]]), alpha=0.5, color=colors[2])\n",
    "plt.fill_between(dates, np.array([init_v, qts_res[0.2]]), np.array([init_v, qts_res[0.8]]), alpha=0.5, color=colors[3])\n",
    "plt.fill_between(dates, np.array([init_v, qts_res[0.25]]), np.array([init_v, qts_res[0.75]]), alpha=0.5, color=colors[4])\n",
    "plt.fill_between(dates, np.array([init_v, qts_res[0.3]]), np.array([init_v, qts_res[0.7]]), alpha=0.5, color=colors[5])\n",
    "plt.fill_between(dates, np.array([init_v, qts_res[0.35]]), np.array([init_v, qts_res[0.65]]), alpha=0.5, color=colors[6])\n",
    "plt.fill_between(dates, np.array([init_v, qts_res[0.4]]), np.array([init_v, qts_res[0.6]]), alpha=0.5, color=colors[7])\n",
    "plt.fill_between(dates, np.array([init_v, qts_res[0.45]]), np.array([init_v, qts_res[0.55]]), alpha=0.5, color=colors[8])\n",
    "plt.fill_between(dates, np.array([init_v, qts_res[0.5]]), np.array([init_v, qts_res[0.5]]), alpha=0.5, color=colors[9])\n",
    "\n",
    "# plot the net_target-1 and the datetimeindex minus one hour\n",
    "#plt.plot((data_test.iloc[0].timestamp - timedelta(hours=1)), data_test.iloc[0]['net_target-1'])\n"
   ]
  },
  {
   "cell_type": "code",
   "execution_count": 161,
   "metadata": {},
   "outputs": [
    {
     "data": {
      "image/png": "[encoded data removed]",
      "text/plain": [
       "<Figure size 432x288 with 1 Axes>"
      ]
     },
     "metadata": {
      "needs_background": "light"
     },
     "output_type": "display_data"
    }
   ],
   "source": [
    "# Generate a range of x values for the plot\n",
    "x = np.linspace(mu - 3*std, mu + 3*std, 100)\n",
    "\n",
    "# Evaluate the PDF at each x value\n",
    "y = pdf.pdf(x)\n",
    "\n",
    "# Plot the PDF\n",
    "plt.plot(x, y, 'r-', lw=2)\n",
    "plt.show()\n"
   ]
  },
  {
   "cell_type": "code",
   "execution_count": 165,
   "metadata": {},
   "outputs": [
    {
     "data": {
      "text/plain": [
       "array([0.5238338 , 0.46979936, 0.68254008, 0.30419601, 0.4755641 ])"
      ]
     },
     "execution_count": 165,
     "metadata": {},
     "output_type": "execute_result"
    }
   ],
   "source": [
    "pdf.rvs(size=5)"
   ]
  },
  {
   "cell_type": "code",
   "execution_count": null,
   "metadata": {},
   "outputs": [],
   "source": []
  },
  {
   "cell_type": "code",
   "execution_count": 21,
   "metadata": {},
   "outputs": [],
   "source": [
    "cdf = cqr_cdf(output.iloc[0,:-1], 'cdf')\n",
    "x = np.linspace(-1,1,100)\n",
    "pdf = np.gradient(cdf(x), x)"
   ]
  },
  {
   "cell_type": "code",
   "execution_count": 22,
   "metadata": {},
   "outputs": [
    {
     "data": {
      "text/plain": [
       "array([0.00000000e+00, 0.00000000e+00, 0.00000000e+00, 0.00000000e+00,\n",
       "       0.00000000e+00, 0.00000000e+00, 0.00000000e+00, 0.00000000e+00,\n",
       "       0.00000000e+00, 0.00000000e+00, 0.00000000e+00, 0.00000000e+00,\n",
       "       0.00000000e+00, 0.00000000e+00, 0.00000000e+00, 0.00000000e+00,\n",
       "       0.00000000e+00, 0.00000000e+00, 0.00000000e+00, 0.00000000e+00,\n",
       "       0.00000000e+00, 0.00000000e+00, 0.00000000e+00, 0.00000000e+00,\n",
       "       0.00000000e+00, 0.00000000e+00, 0.00000000e+00, 0.00000000e+00,\n",
       "       0.00000000e+00, 0.00000000e+00, 0.00000000e+00, 0.00000000e+00,\n",
       "       0.00000000e+00, 0.00000000e+00, 0.00000000e+00, 0.00000000e+00,\n",
       "       0.00000000e+00, 0.00000000e+00, 0.00000000e+00, 0.00000000e+00,\n",
       "       0.00000000e+00, 0.00000000e+00, 0.00000000e+00, 0.00000000e+00,\n",
       "       0.00000000e+00, 0.00000000e+00, 0.00000000e+00, 0.00000000e+00,\n",
       "       0.00000000e+00, 8.05514988e-04, 2.41654496e-03, 3.22205995e-03,\n",
       "       3.22205995e-03, 3.22205995e-03, 3.22205995e-03, 3.22205995e-03,\n",
       "       3.22205995e-03, 3.22205995e-03, 3.22205995e-03, 3.22205995e-03,\n",
       "       3.22205995e-03, 3.22205995e-03, 3.22205995e-03, 3.22205995e-03,\n",
       "       7.42632482e-02, 5.92217120e-01, 1.03912980e+00, 5.30157980e+00,\n",
       "       1.54301611e+01, 1.25748047e+01, 4.16917781e+00, 3.22111953e+00,\n",
       "       1.70135410e+00, 1.43246870e+00, 1.11394875e+00, 4.81432016e-01,\n",
       "       1.54396252e-01, 1.54396252e-01, 1.54396252e-01, 1.54396252e-01,\n",
       "       1.54396252e-01, 1.54396252e-01, 1.54396252e-01, 1.54396252e-01,\n",
       "       1.54396252e-01, 1.54396252e-01, 1.54396252e-01, 1.54396252e-01,\n",
       "       1.54396252e-01, 1.54396252e-01, 9.68742823e-02, 2.24971889e-02,\n",
       "       5.64206541e-03, 5.64206541e-03, 5.64206541e-03, 5.64206541e-03,\n",
       "       5.64206541e-03, 5.64206541e-03, 5.64206541e-03, 5.64206541e-03])"
      ]
     },
     "execution_count": 22,
     "metadata": {},
     "output_type": "execute_result"
    }
   ],
   "source": [
    "pdf"
   ]
  },
  {
   "cell_type": "code",
   "execution_count": 24,
   "metadata": {},
   "outputs": [
    {
     "data": {
      "text/plain": [
       "[<matplotlib.lines.Line2D at 0x165586310>]"
      ]
     },
     "execution_count": 24,
     "metadata": {},
     "output_type": "execute_result"
    },
    {
     "data": {
      "image/png": "[encoded data removed]",
      "text/plain": [
       "<Figure size 432x288 with 1 Axes>"
      ]
     },
     "metadata": {
      "needs_background": "light"
     },
     "output_type": "display_data"
    }
   ],
   "source": [
    "plt.plot(np.linspace(-1,1,100), pdf)"
   ]
  },
  {
   "cell_type": "code",
   "execution_count": null,
   "metadata": {},
   "outputs": [],
   "source": [
    "class expando:\n",
    "    pass \n",
    "\n",
    "class modelEstimation:\n",
    "    def __init__(self, qs, data): \n",
    "        print('modelEstimation class initialized')\n",
    "        print('Cooking up the cdf distributions')\n",
    "        self._set_cdf(qs)\n",
    "    def _set_cdf(self, data):\n",
    "        self.cdf = expando()\n",
    "        self.inv_cdf = expando()\n",
    "        for leadT in data.hour.unique():\n",
    "            cdf_loc_leadT = \\\n",
    "                lambda prediction, cdf_keyword='cdf': \\\n",
    "                cqr_cdf(prediction, cdf_keyword)\n",
    "            setattr(self.cdf, str(leadT), cdf_loc_leadT)\n",
    "\n",
    "            inv_cdf_loc_leadT = \\\n",
    "                lambda prediction, cdf_keyword='inv_cdf': \\\n",
    "                cqr_cdf(prediction, cdf_keyword)\n",
    "            setattr(self.inv_cdf, str(leadT), inv_cdf_loc_leadT)\n",
    "        pass\n"
   ]
  }
 ],
 "metadata": {
  "kernelspec": {
   "display_name": "conformal",
   "language": "python",
   "name": "python3"
  },
  "language_info": {
   "codemirror_mode": {
    "name": "ipython",
    "version": 3
   },
   "file_extension": ".py",
   "mimetype": "text/x-python",
   "name": "python",
   "nbconvert_exporter": "python",
   "pygments_lexer": "ipython3",
   "version": "3.8.10"
  },
  "orig_nbformat": 4,
  "vscode": {
   "interpreter": {
    "hash": "d0d3be591cc1f62bd6e576447eedd96beb36aab5b38925396e514c40c7291afb"
   }
  }
 },
 "nbformat": 4,
 "nbformat_minor": 2
}
