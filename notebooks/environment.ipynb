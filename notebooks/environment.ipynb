{
 "cells": [
  {
   "cell_type": "code",
   "execution_count": 1,
   "metadata": {},
   "outputs": [],
   "source": [
    "import os\n",
    "# Change native directory to root\n",
    "os.chdir(os.path.dirname(os.getcwd()))"
   ]
  },
  {
   "cell_type": "code",
   "execution_count": 26,
   "metadata": {},
   "outputs": [],
   "source": [
    "from citylearn.citylearn import CityLearnEnv\n",
    "from agents.orderenforcingwrapper import OrderEnforcingAgent\n",
    "import numpy as np\n",
    "import pandas as pd\n",
    "import time\n",
    "from input_function import observation_no_forecast_added_hour_range as input_func\n",
    "from input_function import active_observations"
   ]
  },
  {
   "cell_type": "code",
   "execution_count": 34,
   "metadata": {},
   "outputs": [],
   "source": [
    "class Constants:\n",
    "    episodes = 1\n",
    "    schema_path = \"./data/citylearn_challenge_2022_phase_1/schema.json\"\n",
    "\n",
    "def action_space_to_dict(aspace):\n",
    "    \"\"\"Only for box space\"\"\"\n",
    "    return {\n",
    "        \"high\": aspace.high,\n",
    "        \"low\": aspace.low,\n",
    "        \"shape\": aspace.shape,\n",
    "        \"dtype\": str(aspace.dtype),\n",
    "    }\n",
    "\n",
    "def env_reset(env):\n",
    "    observations = env.reset()\n",
    "    action_space = env.action_space\n",
    "    observation_space = env.observation_space\n",
    "    building_info = env.get_building_information()\n",
    "    building_info = list(building_info.values())\n",
    "    action_space_dicts = [action_space_to_dict(asp) for asp in action_space]\n",
    "    observation_space_dicts = [action_space_to_dict(osp) for osp in observation_space]\n",
    "    obs_dict = {\n",
    "        \"action_space\": action_space_dicts,\n",
    "        \"observation_space\": observation_space_dicts,\n",
    "        \"building_info\": building_info,\n",
    "        \"observation\": observations,\n",
    "    }\n",
    "    return obs_dict\n",
    "\n",
    "\n",
    "class Env:\n",
    "    def __init__(self) -> None:\n",
    "        self.time_step = 0\n",
    "        self.prev_steps = dict()\n",
    "        \n",
    "\n",
    "    def populate_prev_steps(self, observations):\n",
    "        done_keys = list()\n",
    "        new_obs, obs_info = input_func(observations)\n",
    "        num_buildings = len(observations)\n",
    "\n",
    "        # Add history of observations\n",
    "        for i, obs in enumerate(observations[0]):\n",
    "            if not 20 <= i < 23:\n",
    "                key = active_observations[i]\n",
    "                done_keys.append(key)\n",
    "                if key not in self.prev_steps.keys():\n",
    "                    self.prev_steps[key] = [obs]\n",
    "                else:\n",
    "                    self.prev_steps[key].append(obs)\n",
    "\n",
    "        for i in range(num_buildings):\n",
    "            for j in range(20, 24):\n",
    "                key = f\"{active_observations[j]}_{i}\"\n",
    "                done_keys.append(key)\n",
    "                obs = observations[i][j]\n",
    "                if key not in self.prev_steps.keys():\n",
    "                    self.prev_steps[key] = [obs]\n",
    "                else:\n",
    "                    self.prev_steps[key].append(obs)\n",
    "\n",
    "        for i, obs in enumerate(new_obs):\n",
    "            key = obs_info[i][0]\n",
    "            if key not in done_keys:\n",
    "                if key not in self.prev_steps.keys():\n",
    "                    self.prev_steps[key] = [obs]\n",
    "                else:\n",
    "                    self.prev_steps[key].append(obs)\n",
    "\n",
    "        key = \"action\"\n",
    "\n",
    "        if key not in self.prev_steps.keys():\n",
    "            self.prev_steps[key] = [action]\n",
    "        else:\n",
    "            self.prev_steps[key].append(action)\n",
    "\n",
    "    def update_time_step(self):\n",
    "        self.time_step += 1\n",
    "\n",
    "    def iterate_step(self, observations):\n",
    "        self.update_time_step()\n",
    "        self.time_step = self.time_step % 8760\n",
    "        num_buildings = len(observations)\n",
    "        batt_socs = [observations[i][22] for i in range(num_buildings)]\n",
    "        all_actions = []\n",
    "        _, obs_info = input_func(self, observations)\n"
   ]
  },
  {
   "cell_type": "code",
   "execution_count": 36,
   "metadata": {},
   "outputs": [],
   "source": [
    "env = CityLearnEnv(schema=Constants.schema_path)\n",
    "agent = OrderEnforcingAgent()\n",
    "env_agent = Env()\n",
    "obs_dict = env_reset(env)\n",
    "agent_time_elapsed = 0\n",
    "step_start = time.perf_counter()\n",
    "actions = agent.register_reset(obs_dict)\n",
    "agent_time_elapsed += time.perf_counter() - step_start\n",
    "\n",
    "episodes_completed = 0\n",
    "num_steps = 0\n",
    "interrupted = False\n",
    "episode_metrics = []"
   ]
  },
  {
   "cell_type": "markdown",
   "metadata": {},
   "source": []
  },
  {
   "cell_type": "code",
   "execution_count": 37,
   "metadata": {},
   "outputs": [],
   "source": [
    "input_func = observation_no_forecast_added_hour_range\n",
    "obs_space_zero = [[0] * 28]\n",
    "_, feature_names = input_func(None, obs_space_zero)"
   ]
  },
  {
   "cell_type": "code",
   "execution_count": 39,
   "metadata": {},
   "outputs": [
    {
     "ename": "AttributeError",
     "evalue": "'Env' object has no attribute 'time_step'",
     "output_type": "error",
     "traceback": [
      "\u001b[0;31m---------------------------------------------------------------------------\u001b[0m",
      "\u001b[0;31mAttributeError\u001b[0m                            Traceback (most recent call last)",
      "Cell \u001b[0;32mIn [39], line 3\u001b[0m\n\u001b[1;32m      1\u001b[0m observations, _, done, _ \u001b[39m=\u001b[39m env\u001b[39m.\u001b[39mstep(actions)\n\u001b[1;32m      2\u001b[0m step_start \u001b[39m=\u001b[39m time\u001b[39m.\u001b[39mperf_counter()\n\u001b[0;32m----> 3\u001b[0m actions \u001b[39m=\u001b[39m env_agent\u001b[39m.\u001b[39;49miterate_step(observations)\n\u001b[1;32m      4\u001b[0m agent_time_elapsed \u001b[39m+\u001b[39m\u001b[39m=\u001b[39m time\u001b[39m.\u001b[39mperf_counter() \u001b[39m-\u001b[39m step_start           \n\u001b[1;32m      5\u001b[0m num_steps \u001b[39m+\u001b[39m\u001b[39m=\u001b[39m \u001b[39m1\u001b[39m\n",
      "Cell \u001b[0;32mIn [34], line 75\u001b[0m, in \u001b[0;36mEnv.iterate_step\u001b[0;34m(self, observations)\u001b[0m\n\u001b[1;32m     74\u001b[0m \u001b[39mdef\u001b[39;00m \u001b[39miterate_step\u001b[39m(\u001b[39mself\u001b[39m, observations):\n\u001b[0;32m---> 75\u001b[0m     \u001b[39mself\u001b[39;49m\u001b[39m.\u001b[39;49mupdate_time_step()\n\u001b[1;32m     76\u001b[0m     \u001b[39mself\u001b[39m\u001b[39m.\u001b[39mtime_step \u001b[39m=\u001b[39m \u001b[39mself\u001b[39m\u001b[39m.\u001b[39mtime_step \u001b[39m%\u001b[39m \u001b[39m8760\u001b[39m\n\u001b[1;32m     77\u001b[0m     num_buildings \u001b[39m=\u001b[39m \u001b[39mlen\u001b[39m(observations)\n",
      "Cell \u001b[0;32mIn [34], line 72\u001b[0m, in \u001b[0;36mEnv.update_time_step\u001b[0;34m(self)\u001b[0m\n\u001b[1;32m     71\u001b[0m \u001b[39mdef\u001b[39;00m \u001b[39mupdate_time_step\u001b[39m(\u001b[39mself\u001b[39m):\n\u001b[0;32m---> 72\u001b[0m     \u001b[39mself\u001b[39m\u001b[39m.\u001b[39mtime_step \u001b[39m+\u001b[39m\u001b[39m=\u001b[39m \u001b[39m1\u001b[39m\n",
      "\u001b[0;31mAttributeError\u001b[0m: 'Env' object has no attribute 'time_step'"
     ]
    }
   ],
   "source": [
    "observations, _, done, _ = env.step(actions)\n",
    "step_start = time.perf_counter()\n",
    "actions = env_agent.iterate_step(observations)\n",
    "agent_time_elapsed += time.perf_counter() - step_start           \n",
    "num_steps += 1\n",
    "print(observations)\n",
    "if num_steps % 1000 == 0:\n",
    "    # log_usefull(env, filename)\n",
    "    print(f\"Num Steps: {num_steps}, Num episodes: {episodes_completed}\")\n",
    "    \"\"\"\n",
    "    metrics_t = env.evaluate()\n",
    "    print(metrics_t)\n",
    "    metrics = {\"price_cost\": metrics_t[0], \"emmision_cost\": metrics_t[1]}\n",
    "\n",
    "    print(\n",
    "        \"Average Price Cost:\", np.mean([e[\"price_cost\"] for e in episode_metrics])\n",
    "    )\n",
    "    print(\n",
    "        \"Average Emmision Cost:\",\n",
    "        np.mean([e[\"emmision_cost\"] for e in episode_metrics]),\n",
    "    )\n",
    "    print(\"Average Grid Cost:\", np.mean([e[\"grid_cost\"] for e in episode_metrics]))\n",
    "    \"\"\"\n"
   ]
  },
  {
   "cell_type": "markdown",
   "metadata": {},
   "source": []
  },
  {
   "cell_type": "code",
   "execution_count": null,
   "metadata": {},
   "outputs": [],
   "source": []
  },
  {
   "cell_type": "code",
   "execution_count": 25,
   "metadata": {},
   "outputs": [
    {
     "data": {
      "text/plain": [
       "[['month', [0.0, 13.0]],\n",
       " ['day_type', [0.0, 8.0]],\n",
       " ['hour', [0.0, 25.0]],\n",
       " ['carbon_intensity', [0.07, 0.2817962]],\n",
       " ['electricity_pricing', [0.21, 0.54]],\n",
       " ['average_non_shiftable_load', [-10.0, 10.0]],\n",
       " ['average_solar_generation', [-1.0, 7.0]],\n",
       " ['average_electrical_storage_soc', [-1.0, 2.0]],\n",
       " ['average_net_electricity_consumption', [-10.0, 10.0]],\n",
       " ['non_shiftable_load_0', [-10.0, 10.0]],\n",
       " ['solar_generation_0', [-1.0, 7.0]],\n",
       " ['electrical_storage_soc_0', [-1.0, 2.0]],\n",
       " ['net_electricity_consumption_0', [-10.0, 10.0]],\n",
       " ['Hour range', [0.0, 24.0]]]"
      ]
     },
     "execution_count": 25,
     "metadata": {},
     "output_type": "execute_result"
    }
   ],
   "source": [
    "feature_names"
   ]
  },
  {
   "cell_type": "code",
   "execution_count": null,
   "metadata": {},
   "outputs": [],
   "source": []
  }
 ],
 "metadata": {
  "kernelspec": {
   "display_name": "citylearn",
   "language": "python",
   "name": "python3"
  },
  "language_info": {
   "codemirror_mode": {
    "name": "ipython",
    "version": 3
   },
   "file_extension": ".py",
   "mimetype": "text/x-python",
   "name": "python",
   "nbconvert_exporter": "python",
   "pygments_lexer": "ipython3",
   "version": "3.9.13"
  },
  "orig_nbformat": 4,
  "vscode": {
   "interpreter": {
    "hash": "1459f96e6f1c83a4bf7a9b69dcf028d375253b6209d95d8bbfa5e1e5251ee101"
   }
  }
 },
 "nbformat": 4,
 "nbformat_minor": 2
}
