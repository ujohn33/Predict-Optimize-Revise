{
 "cells": [
  {
   "cell_type": "code",
   "execution_count": 47,
   "metadata": {},
   "outputs": [],
   "source": [
    "import numpy as np\n",
    "from scipy.stats import norm, rv_continuous, lognorm\n",
    "import matplotlib.pyplot as plt\n",
    "from matplotlib.patches import Rectangle\n",
    "import random\n",
    "import seaborn as sns\n",
    "\n"
   ]
  },
  {
   "cell_type": "code",
   "execution_count": 2,
   "metadata": {},
   "outputs": [],
   "source": [
    "def list_diff(list_to_diff):\n",
    "    diffd_list=list()\n",
    "    for i, elem in enumerate(list_to_diff[:-1]):\n",
    "        diff = list_to_diff[i+1]-elem\n",
    "        diffd_list.append(diff)\n",
    "    return diffd_list"
   ]
  },
  {
   "cell_type": "code",
   "execution_count": 4,
   "metadata": {},
   "outputs": [
    {
     "name": "stdout",
     "output_type": "stream",
     "text": [
      "[0.001 0.05  0.1   0.15  0.2   0.25  0.3   0.35  0.4   0.45  0.5   0.55\n",
      " 0.6   0.65  0.7   0.75  0.8   0.85  0.9   0.95  0.999]\n",
      "20\n",
      "[-0.13159181262513187, 0.9760085545594306, 1.4417323157558117, 1.6622354067934229, 1.7573759707189138, 1.8756936243177762, 1.8353287299796524, 2.030818843411712, 2.1789774808731686, 2.259288746507927, 2.470380336650109, 2.5913507825431914, 2.9256105362999127, 3.483684569183402, 5.651800372449889]\n",
      "14\n",
      "[-0.13159181262513187, 0.9760085545594306, 1.4417323157558117, 1.6622354067934229, 1.7573759707189138, 1.8353287299796524, 2.030818843411712, 2.1789774808731686, 2.259288746507927, 2.470380336650109, 2.5913507825431914, 2.9256105362999127, 3.483684569183402, 5.651800372449889]\n",
      "[0.049, 0.05, 0.05000000000000002, 0.09999999999999998, 0.10000000000000003, 0.2, 0.10000000000000009, 0.09999999999999998, 0.04999999999999993, 0.050000000000000044, 0.050000000000000044, 0.04999999999999993, 0.04899999999999993]\n",
      "[1.1076003671845625, 0.46572376119638115, 0.22050309103761112, 0.09514056392549097, 0.07795275926073852, 0.1954901134320597, 0.14815863746145652, 0.08031126563475866, 0.21109159014218193, 0.12097044589308226, 0.33425975375672135, 0.5580740328834892, 2.1681158032664873]\n",
      "[0.04423978309483081, 0.10735977883446786, 0.22675419090370727, 1.051076385024527, 1.2828282276130507, 1.0230696401406902, 0.6749522114498056, 1.2451553242204174, 0.23686400754441309, 0.4133240944171746, 0.14958426624220725, 0.08959384786576978, 0.0226002688261284]\n"
     ]
    },
    {
     "data": {
      "text/plain": [
       "[<matplotlib.lines.Line2D at 0x7fd992528f70>]"
      ]
     },
     "execution_count": 4,
     "metadata": {},
     "output_type": "execute_result"
    },
    {
     "data": {
      "image/png": "[encoded data removed]",
      "text/plain": [
       "<Figure size 432x288 with 1 Axes>"
      ]
     },
     "metadata": {
      "needs_background": "light"
     },
     "output_type": "display_data"
    }
   ],
   "source": [
    "\n",
    "quantiles = np.concatenate([[0.001],np.arange(0.05,0.951,0.05),[0.999]])\n",
    "values = [-0.13159181262513187, 0.9760085545594306, 1.4417323157558117, 1.7455281052206528, 1.6622354067934229, 1.8604536148410684, 1.7573759707189138, 1.8756936243177762, 2.0335967920298215, 1.8774785990642666, 1.8353287299796524, 2.036286931936721, 2.030818843411712, 2.204517714943436, 2.1789774808731686,2.259288746507927,2.470380336650109,2.5913507825431914,2.9256105362999127,3.483684569183402,5.651800372449889]\n",
    "\n",
    "new_quantiles = quantiles\n",
    "new_values = values\n",
    "while not all(new_values[i] <= new_values[i+1] for i in range(len(new_values) - 1)):\n",
    "    old_values = new_values\n",
    "    old_quantiles = new_quantiles\n",
    "    new_quantiles = list()\n",
    "    new_values = list()\n",
    "    min_val = -10\n",
    "    prev_quant = 0\n",
    "    for i, val in enumerate(old_values):\n",
    "        if val > min_val:\n",
    "            min_val = val\n",
    "            new_quantiles.append(old_quantiles[i])\n",
    "            new_values.append(val)\n",
    "        else:\n",
    "            min_val = val\n",
    "            new_values[-1] = min_val\n",
    "    print(i)\n",
    "    print(new_values)\n",
    "\n",
    "values = new_values\n",
    "quantiles = new_quantiles\n",
    "    \n",
    "quant_diff = list_diff(quantiles)\n",
    "print(quant_diff)\n",
    "\n",
    "values_diff = list_diff(values)\n",
    "print(values_diff)\n",
    "heights = [quant_diff[i]/val for i, val in enumerate(values_diff)]\n",
    "\n",
    "\n",
    "\n",
    "print(heights)\n",
    "fig, ax = plt.subplots()\n",
    "for i, height in enumerate(heights):\n",
    "    ax.add_patch(Rectangle((values[i],0), values_diff[i], height))\n",
    "     \n",
    "\n",
    "mu, std = norm.fit(values)\n",
    "pdf = norm(mu, std)\n",
    "\n",
    "# Generate a range of x values for the plot\n",
    "x = np.linspace(-0.15, 6, 100)\n",
    "\n",
    "# Evaluate the PDF at each x value\n",
    "y = pdf.pdf(x)\n",
    "\n",
    "plt.plot(x,y)"
   ]
  },
  {
   "cell_type": "code",
   "execution_count": 55,
   "metadata": {},
   "outputs": [
    {
     "name": "stdout",
     "output_type": "stream",
     "text": [
      "0.998\n"
     ]
    },
    {
     "data": {
      "text/plain": [
       "[<matplotlib.lines.Line2D at 0x7fd96b337fa0>]"
      ]
     },
     "execution_count": 55,
     "metadata": {},
     "output_type": "execute_result"
    },
    {
     "data": {
      "image/png": "[encoded data removed]",
      "text/plain": [
       "<Figure size 432x288 with 1 Axes>"
      ]
     },
     "metadata": {
      "needs_background": "light"
     },
     "output_type": "display_data"
    }
   ],
   "source": [
    "to_sum = [heights[i]*val for i, val in enumerate(values_diff)]\n",
    "print(sum(to_sum))\n",
    "\n",
    "def sample_rand_quant(quantiles, values):\n",
    "\n",
    "    sample_point = random.random()\n",
    "\n",
    "    for i, quant in enumerate(quantiles):\n",
    "        if sample_point<quant:\n",
    "            if i == 0:\n",
    "                return values[0]\n",
    "            else:\n",
    "                diff_val = values[i]-values[i-1]\n",
    "                diff_quant = quantiles[i]-quantiles[i-1]\n",
    "                diff_sample = sample_point-quantiles[i-1]\n",
    "                value_point = values[i-1]+diff_sample*diff_val/diff_quant\n",
    "                return value_point\n",
    "    \n",
    "    return values[-1]\n",
    "\n",
    "data_to_fit= list()\n",
    "for i in range(10000):\n",
    "    new_val = sample_rand_quant(new_quantiles, new_values)\n",
    "    data_to_fit.append(new_val)\n",
    "\n",
    "mu, std = norm.fit(data_to_fit)\n",
    "pdf = norm(mu, std)\n",
    "\n",
    "fig, ax = plt.subplots()\n",
    "for i, height in enumerate(heights):\n",
    "    ax.add_patch(Rectangle((values[i],0), values_diff[i], height))\n",
    "\n",
    "# Generate a range of x values for the plot\n",
    "x = np.linspace(-0.15, 6, 100)\n",
    "\n",
    "# Evaluate the PDF at each x value\n",
    "y = pdf.pdf(x)\n",
    "\n",
    "sns.kdeplot(data_to_fit, c=\"red\")\n",
    "\n",
    "plt.plot(x,y, c=\"orange\")\n",
    "\n",
    "\n",
    "mu, std = norm.fit(values)\n",
    "pdf = norm(mu, std)\n",
    "\n",
    "# Generate a range of x values for the plot\n",
    "x = np.linspace(-0.15, 6, 100)\n",
    "\n",
    "# Evaluate the PDF at each x value\n",
    "y = pdf.pdf(x)\n",
    "\n",
    "plt.plot(x,y, c=\"green\")\n"
   ]
  }
 ],
 "metadata": {
  "kernelspec": {
   "display_name": "citylearn",
   "language": "python",
   "name": "python3"
  },
  "language_info": {
   "codemirror_mode": {
    "name": "ipython",
    "version": 3
   },
   "file_extension": ".py",
   "mimetype": "text/x-python",
   "name": "python",
   "nbconvert_exporter": "python",
   "pygments_lexer": "ipython3",
   "version": "3.9.16 | packaged by conda-forge | (main, Feb  1 2023, 21:39:03) \n[GCC 11.3.0]"
  },
  "orig_nbformat": 4,
  "vscode": {
   "interpreter": {
    "hash": "b0e96db246c2914cbd19833a3fbf5b126f33328474caf8692ca99b7fe7375576"
   }
  }
 },
 "nbformat": 4,
 "nbformat_minor": 2
}
