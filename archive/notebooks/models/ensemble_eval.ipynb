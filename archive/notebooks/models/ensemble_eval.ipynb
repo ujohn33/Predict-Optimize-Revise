{
 "cells": [
  {
   "cell_type": "code",
   "execution_count": 1,
   "metadata": {},
   "outputs": [],
   "source": [
    "import os\n",
    "# move 2 directories up\n",
    "os.chdir(os.path.dirname(os.path.dirname(os.getcwd())))"
   ]
  },
  {
   "cell_type": "code",
   "execution_count": 20,
   "metadata": {},
   "outputs": [],
   "source": [
    "import pandas as pd\n",
    "import numpy as np\n",
    "import matplotlib.pyplot as plt\n",
    "import joblib\n",
    "import seaborn as sns\n",
    "# min max scaling\n",
    "from sklearn.preprocessing import MinMaxScaler\n",
    "# standard scaler\n",
    "from sklearn.preprocessing import StandardScaler\n",
    "from utils.util_functions import MyLinearRegression\n",
    "from sklearn.metrics import mean_absolute_error, mean_squared_error"
   ]
  },
  {
   "cell_type": "code",
   "execution_count": 6,
   "metadata": {},
   "outputs": [],
   "source": [
    "model_dir=\"models/point/\""
   ]
  },
  {
   "cell_type": "code",
   "execution_count": 10,
   "metadata": {},
   "outputs": [],
   "source": [
    "model_pt = joblib.load(model_dir+\"lgb_next_step_nodiff_12march.pkl\")\n",
    "model_pt_next = joblib.load(model_dir+'lgb_next_step_diff_12march.pkl')\n",
    "model_lr = joblib.load(model_dir+\"lr.pkl\")\n",
    "model_lr_next = joblib.load(model_dir+\"lr_next_step.pkl\")"
   ]
  },
  {
   "cell_type": "code",
   "execution_count": 12,
   "metadata": {},
   "outputs": [
    {
     "data": {
      "text/html": [
       "<div>\n",
       "<style scoped>\n",
       "    .dataframe tbody tr th:only-of-type {\n",
       "        vertical-align: middle;\n",
       "    }\n",
       "\n",
       "    .dataframe tbody tr th {\n",
       "        vertical-align: top;\n",
       "    }\n",
       "\n",
       "    .dataframe thead th {\n",
       "        text-align: right;\n",
       "    }\n",
       "</style>\n",
       "<table border=\"1\" class=\"dataframe\">\n",
       "  <thead>\n",
       "    <tr style=\"text-align: right;\">\n",
       "      <th></th>\n",
       "      <th>Month</th>\n",
       "      <th>Hour</th>\n",
       "      <th>cons_target</th>\n",
       "      <th>Solar Generation [W/kW]</th>\n",
       "      <th>Outdoor Drybulb Temperature [C]</th>\n",
       "      <th>Relative Humidity [%]</th>\n",
       "      <th>Diffuse Solar Radiation [W/m2]</th>\n",
       "      <th>Direct Solar Radiation [W/m2]</th>\n",
       "      <th>day_year</th>\n",
       "      <th>number</th>\n",
       "      <th>...</th>\n",
       "      <th>net_target</th>\n",
       "      <th>net+1</th>\n",
       "      <th>net-23</th>\n",
       "      <th>net_target+1</th>\n",
       "      <th>net_target-23</th>\n",
       "      <th>net_target_diff</th>\n",
       "      <th>diffuse_solar_radiation+1</th>\n",
       "      <th>direct_solar_radiation+1</th>\n",
       "      <th>relative_humidity+1</th>\n",
       "      <th>drybulb_temp+1</th>\n",
       "    </tr>\n",
       "  </thead>\n",
       "  <tbody>\n",
       "    <tr>\n",
       "      <th>0</th>\n",
       "      <td>8</td>\n",
       "      <td>0</td>\n",
       "      <td>0.441346</td>\n",
       "      <td>0.000000</td>\n",
       "      <td>19.4</td>\n",
       "      <td>81.0</td>\n",
       "      <td>0.000000</td>\n",
       "      <td>0.000000</td>\n",
       "      <td>23</td>\n",
       "      <td>1</td>\n",
       "      <td>...</td>\n",
       "      <td>0.617429</td>\n",
       "      <td>1.411333</td>\n",
       "      <td>2.275800</td>\n",
       "      <td>0.431845</td>\n",
       "      <td>0.506612</td>\n",
       "      <td>-0.029331</td>\n",
       "      <td>0.000000</td>\n",
       "      <td>0.000000</td>\n",
       "      <td>81.0</td>\n",
       "      <td>20.0</td>\n",
       "    </tr>\n",
       "    <tr>\n",
       "      <th>1</th>\n",
       "      <td>8</td>\n",
       "      <td>1</td>\n",
       "      <td>0.170776</td>\n",
       "      <td>0.000000</td>\n",
       "      <td>20.0</td>\n",
       "      <td>81.0</td>\n",
       "      <td>0.000000</td>\n",
       "      <td>0.000000</td>\n",
       "      <td>24</td>\n",
       "      <td>1</td>\n",
       "      <td>...</td>\n",
       "      <td>0.431845</td>\n",
       "      <td>0.979417</td>\n",
       "      <td>0.851167</td>\n",
       "      <td>0.394489</td>\n",
       "      <td>0.383397</td>\n",
       "      <td>-0.185584</td>\n",
       "      <td>0.000000</td>\n",
       "      <td>0.000000</td>\n",
       "      <td>87.0</td>\n",
       "      <td>19.4</td>\n",
       "    </tr>\n",
       "    <tr>\n",
       "      <th>2</th>\n",
       "      <td>8</td>\n",
       "      <td>2</td>\n",
       "      <td>0.116313</td>\n",
       "      <td>0.000000</td>\n",
       "      <td>19.4</td>\n",
       "      <td>87.0</td>\n",
       "      <td>0.000000</td>\n",
       "      <td>0.000000</td>\n",
       "      <td>25</td>\n",
       "      <td>1</td>\n",
       "      <td>...</td>\n",
       "      <td>0.394489</td>\n",
       "      <td>0.900975</td>\n",
       "      <td>0.834600</td>\n",
       "      <td>0.387705</td>\n",
       "      <td>0.381964</td>\n",
       "      <td>-0.037356</td>\n",
       "      <td>0.000000</td>\n",
       "      <td>0.000000</td>\n",
       "      <td>87.0</td>\n",
       "      <td>19.4</td>\n",
       "    </tr>\n",
       "    <tr>\n",
       "      <th>3</th>\n",
       "      <td>8</td>\n",
       "      <td>3</td>\n",
       "      <td>0.106422</td>\n",
       "      <td>0.000000</td>\n",
       "      <td>19.4</td>\n",
       "      <td>87.0</td>\n",
       "      <td>0.000000</td>\n",
       "      <td>0.000000</td>\n",
       "      <td>26</td>\n",
       "      <td>1</td>\n",
       "      <td>...</td>\n",
       "      <td>0.387705</td>\n",
       "      <td>0.922433</td>\n",
       "      <td>0.838167</td>\n",
       "      <td>0.389561</td>\n",
       "      <td>0.382273</td>\n",
       "      <td>-0.006784</td>\n",
       "      <td>0.000000</td>\n",
       "      <td>0.000000</td>\n",
       "      <td>90.0</td>\n",
       "      <td>19.4</td>\n",
       "    </tr>\n",
       "    <tr>\n",
       "      <th>4</th>\n",
       "      <td>8</td>\n",
       "      <td>4</td>\n",
       "      <td>0.109127</td>\n",
       "      <td>0.000000</td>\n",
       "      <td>19.4</td>\n",
       "      <td>90.0</td>\n",
       "      <td>0.000000</td>\n",
       "      <td>0.000000</td>\n",
       "      <td>27</td>\n",
       "      <td>1</td>\n",
       "      <td>...</td>\n",
       "      <td>0.389561</td>\n",
       "      <td>0.910483</td>\n",
       "      <td>1.478433</td>\n",
       "      <td>0.388527</td>\n",
       "      <td>0.437649</td>\n",
       "      <td>0.001856</td>\n",
       "      <td>0.000000</td>\n",
       "      <td>0.000000</td>\n",
       "      <td>90.0</td>\n",
       "      <td>18.9</td>\n",
       "    </tr>\n",
       "    <tr>\n",
       "      <th>...</th>\n",
       "      <td>...</td>\n",
       "      <td>...</td>\n",
       "      <td>...</td>\n",
       "      <td>...</td>\n",
       "      <td>...</td>\n",
       "      <td>...</td>\n",
       "      <td>...</td>\n",
       "      <td>...</td>\n",
       "      <td>...</td>\n",
       "      <td>...</td>\n",
       "      <td>...</td>\n",
       "      <td>...</td>\n",
       "      <td>...</td>\n",
       "      <td>...</td>\n",
       "      <td>...</td>\n",
       "      <td>...</td>\n",
       "      <td>...</td>\n",
       "      <td>...</td>\n",
       "      <td>...</td>\n",
       "      <td>...</td>\n",
       "      <td>...</td>\n",
       "    </tr>\n",
       "    <tr>\n",
       "      <th>43675</th>\n",
       "      <td>7</td>\n",
       "      <td>19</td>\n",
       "      <td>0.802751</td>\n",
       "      <td>31.179167</td>\n",
       "      <td>21.1</td>\n",
       "      <td>81.0</td>\n",
       "      <td>5.389072</td>\n",
       "      <td>5.669881</td>\n",
       "      <td>8754</td>\n",
       "      <td>5</td>\n",
       "      <td>...</td>\n",
       "      <td>0.862123</td>\n",
       "      <td>2.713900</td>\n",
       "      <td>3.463783</td>\n",
       "      <td>0.720845</td>\n",
       "      <td>0.814933</td>\n",
       "      <td>0.090374</td>\n",
       "      <td>3.295837</td>\n",
       "      <td>4.875197</td>\n",
       "      <td>84.0</td>\n",
       "      <td>20.6</td>\n",
       "    </tr>\n",
       "    <tr>\n",
       "      <th>43676</th>\n",
       "      <td>7</td>\n",
       "      <td>20</td>\n",
       "      <td>0.552807</td>\n",
       "      <td>4.070833</td>\n",
       "      <td>20.6</td>\n",
       "      <td>84.0</td>\n",
       "      <td>3.295837</td>\n",
       "      <td>4.875197</td>\n",
       "      <td>8755</td>\n",
       "      <td>5</td>\n",
       "      <td>...</td>\n",
       "      <td>0.720845</td>\n",
       "      <td>0.935833</td>\n",
       "      <td>0.457167</td>\n",
       "      <td>0.497751</td>\n",
       "      <td>0.437693</td>\n",
       "      <td>-0.141277</td>\n",
       "      <td>0.000000</td>\n",
       "      <td>0.000000</td>\n",
       "      <td>81.0</td>\n",
       "      <td>21.1</td>\n",
       "    </tr>\n",
       "    <tr>\n",
       "      <th>43677</th>\n",
       "      <td>7</td>\n",
       "      <td>21</td>\n",
       "      <td>0.189487</td>\n",
       "      <td>0.000000</td>\n",
       "      <td>21.1</td>\n",
       "      <td>81.0</td>\n",
       "      <td>0.000000</td>\n",
       "      <td>0.000000</td>\n",
       "      <td>8756</td>\n",
       "      <td>5</td>\n",
       "      <td>...</td>\n",
       "      <td>0.497751</td>\n",
       "      <td>2.155017</td>\n",
       "      <td>0.714717</td>\n",
       "      <td>0.650722</td>\n",
       "      <td>0.470007</td>\n",
       "      <td>-0.223094</td>\n",
       "      <td>0.000000</td>\n",
       "      <td>0.000000</td>\n",
       "      <td>79.0</td>\n",
       "      <td>21.7</td>\n",
       "    </tr>\n",
       "    <tr>\n",
       "      <th>43678</th>\n",
       "      <td>7</td>\n",
       "      <td>22</td>\n",
       "      <td>0.436347</td>\n",
       "      <td>0.000000</td>\n",
       "      <td>21.7</td>\n",
       "      <td>79.0</td>\n",
       "      <td>0.000000</td>\n",
       "      <td>0.000000</td>\n",
       "      <td>8757</td>\n",
       "      <td>5</td>\n",
       "      <td>...</td>\n",
       "      <td>0.650722</td>\n",
       "      <td>2.316400</td>\n",
       "      <td>1.659000</td>\n",
       "      <td>0.670971</td>\n",
       "      <td>0.588487</td>\n",
       "      <td>0.152971</td>\n",
       "      <td>0.000000</td>\n",
       "      <td>0.000000</td>\n",
       "      <td>76.0</td>\n",
       "      <td>21.3</td>\n",
       "    </tr>\n",
       "    <tr>\n",
       "      <th>43679</th>\n",
       "      <td>7</td>\n",
       "      <td>23</td>\n",
       "      <td>0.469024</td>\n",
       "      <td>0.000000</td>\n",
       "      <td>21.3</td>\n",
       "      <td>76.0</td>\n",
       "      <td>0.000000</td>\n",
       "      <td>0.000000</td>\n",
       "      <td>8758</td>\n",
       "      <td>5</td>\n",
       "      <td>...</td>\n",
       "      <td>0.670971</td>\n",
       "      <td>1.212400</td>\n",
       "      <td>1.103167</td>\n",
       "      <td>0.532452</td>\n",
       "      <td>0.518746</td>\n",
       "      <td>0.020249</td>\n",
       "      <td>0.000000</td>\n",
       "      <td>0.000000</td>\n",
       "      <td>76.0</td>\n",
       "      <td>20.9</td>\n",
       "    </tr>\n",
       "  </tbody>\n",
       "</table>\n",
       "<p>43680 rows × 25 columns</p>\n",
       "</div>"
      ],
      "text/plain": [
       "       Month  Hour  cons_target  Solar Generation [W/kW]  \\\n",
       "0          8     0     0.441346                 0.000000   \n",
       "1          8     1     0.170776                 0.000000   \n",
       "2          8     2     0.116313                 0.000000   \n",
       "3          8     3     0.106422                 0.000000   \n",
       "4          8     4     0.109127                 0.000000   \n",
       "...      ...   ...          ...                      ...   \n",
       "43675      7    19     0.802751                31.179167   \n",
       "43676      7    20     0.552807                 4.070833   \n",
       "43677      7    21     0.189487                 0.000000   \n",
       "43678      7    22     0.436347                 0.000000   \n",
       "43679      7    23     0.469024                 0.000000   \n",
       "\n",
       "       Outdoor Drybulb Temperature [C]  Relative Humidity [%]  \\\n",
       "0                                 19.4                   81.0   \n",
       "1                                 20.0                   81.0   \n",
       "2                                 19.4                   87.0   \n",
       "3                                 19.4                   87.0   \n",
       "4                                 19.4                   90.0   \n",
       "...                                ...                    ...   \n",
       "43675                             21.1                   81.0   \n",
       "43676                             20.6                   84.0   \n",
       "43677                             21.1                   81.0   \n",
       "43678                             21.7                   79.0   \n",
       "43679                             21.3                   76.0   \n",
       "\n",
       "       Diffuse Solar Radiation [W/m2]  Direct Solar Radiation [W/m2]  \\\n",
       "0                            0.000000                       0.000000   \n",
       "1                            0.000000                       0.000000   \n",
       "2                            0.000000                       0.000000   \n",
       "3                            0.000000                       0.000000   \n",
       "4                            0.000000                       0.000000   \n",
       "...                               ...                            ...   \n",
       "43675                        5.389072                       5.669881   \n",
       "43676                        3.295837                       4.875197   \n",
       "43677                        0.000000                       0.000000   \n",
       "43678                        0.000000                       0.000000   \n",
       "43679                        0.000000                       0.000000   \n",
       "\n",
       "       day_year  number  ...  net_target     net+1    net-23  net_target+1  \\\n",
       "0            23       1  ...    0.617429  1.411333  2.275800      0.431845   \n",
       "1            24       1  ...    0.431845  0.979417  0.851167      0.394489   \n",
       "2            25       1  ...    0.394489  0.900975  0.834600      0.387705   \n",
       "3            26       1  ...    0.387705  0.922433  0.838167      0.389561   \n",
       "4            27       1  ...    0.389561  0.910483  1.478433      0.388527   \n",
       "...         ...     ...  ...         ...       ...       ...           ...   \n",
       "43675      8754       5  ...    0.862123  2.713900  3.463783      0.720845   \n",
       "43676      8755       5  ...    0.720845  0.935833  0.457167      0.497751   \n",
       "43677      8756       5  ...    0.497751  2.155017  0.714717      0.650722   \n",
       "43678      8757       5  ...    0.650722  2.316400  1.659000      0.670971   \n",
       "43679      8758       5  ...    0.670971  1.212400  1.103167      0.532452   \n",
       "\n",
       "       net_target-23  net_target_diff  diffuse_solar_radiation+1  \\\n",
       "0           0.506612        -0.029331                   0.000000   \n",
       "1           0.383397        -0.185584                   0.000000   \n",
       "2           0.381964        -0.037356                   0.000000   \n",
       "3           0.382273        -0.006784                   0.000000   \n",
       "4           0.437649         0.001856                   0.000000   \n",
       "...              ...              ...                        ...   \n",
       "43675       0.814933         0.090374                   3.295837   \n",
       "43676       0.437693        -0.141277                   0.000000   \n",
       "43677       0.470007        -0.223094                   0.000000   \n",
       "43678       0.588487         0.152971                   0.000000   \n",
       "43679       0.518746         0.020249                   0.000000   \n",
       "\n",
       "       direct_solar_radiation+1  relative_humidity+1  drybulb_temp+1  \n",
       "0                      0.000000                 81.0            20.0  \n",
       "1                      0.000000                 87.0            19.4  \n",
       "2                      0.000000                 87.0            19.4  \n",
       "3                      0.000000                 90.0            19.4  \n",
       "4                      0.000000                 90.0            18.9  \n",
       "...                         ...                  ...             ...  \n",
       "43675                  4.875197                 84.0            20.6  \n",
       "43676                  0.000000                 81.0            21.1  \n",
       "43677                  0.000000                 79.0            21.7  \n",
       "43678                  0.000000                 76.0            21.3  \n",
       "43679                  0.000000                 76.0            20.9  \n",
       "\n",
       "[43680 rows x 25 columns]"
      ]
     },
     "execution_count": 12,
     "metadata": {},
     "output_type": "execute_result"
    }
   ],
   "source": [
    "df_train = pd.read_csv(\"data/extra_train.csv\", index_col=0)\n",
    "df_train"
   ]
  },
  {
   "cell_type": "code",
   "execution_count": 13,
   "metadata": {},
   "outputs": [
    {
     "data": {
      "text/plain": [
       "['Month',\n",
       " 'Hour',\n",
       " 'hour_x',\n",
       " 'hour_y',\n",
       " 'month_x',\n",
       " 'month_y',\n",
       " 'net_target',\n",
       " 'net_target-23',\n",
       " 'net_target_diff',\n",
       " 'diffuse_solar_radiation+1',\n",
       " 'direct_solar_radiation+1',\n",
       " 'relative_humidity+1',\n",
       " 'drybulb_temp+1']"
      ]
     },
     "execution_count": 13,
     "metadata": {},
     "output_type": "execute_result"
    }
   ],
   "source": [
    "# get feature names of model_pt_next lgb model\n",
    "feature_names = model_pt_next.feature_name()\n",
    "feature_names"
   ]
  },
  {
   "cell_type": "code",
   "execution_count": 15,
   "metadata": {},
   "outputs": [
    {
     "data": {
      "text/plain": [
       "['hour_x',\n",
       " 'hour_y',\n",
       " 'month_x',\n",
       " 'month_y',\n",
       " 'net_target',\n",
       " 'net_target-23',\n",
       " 'diffuse_solar_radiation+1',\n",
       " 'direct_solar_radiation+1',\n",
       " 'relative_humidity+1',\n",
       " 'drybulb_temp+1']"
      ]
     },
     "execution_count": 15,
     "metadata": {},
     "output_type": "execute_result"
    }
   ],
   "source": [
    "# get features names of model_lr_next lr model\n",
    "feature_names_lr = model_lr_next.feature_name()\n",
    "feature_names_lr"
   ]
  },
  {
   "cell_type": "code",
   "execution_count": 17,
   "metadata": {},
   "outputs": [
    {
     "data": {
      "text/plain": [
       "array([0.56556285, 0.39367511, 0.38815161, ..., 0.49855052, 0.58184056,\n",
       "       0.56444159])"
      ]
     },
     "execution_count": 17,
     "metadata": {},
     "output_type": "execute_result"
    }
   ],
   "source": [
    "# predict net_target+1 using model_pt_next\n",
    "preds_lgb = model_pt_next.predict(df_train[feature_names])\n",
    "preds_lgb"
   ]
  },
  {
   "cell_type": "code",
   "execution_count": 18,
   "metadata": {},
   "outputs": [
    {
     "name": "stderr",
     "output_type": "stream",
     "text": [
      "/Users/evgenygenov/miniforge3/envs/citylearn/lib/python3.9/site-packages/sklearn/base.py:443: UserWarning: X has feature names, but MyLinearRegression was fitted without feature names\n",
      "  warnings.warn(\n"
     ]
    },
    {
     "data": {
      "text/plain": [
       "array([0.56912697, 0.42178791, 0.39375415, ..., 0.49501992, 0.61609822,\n",
       "       0.60496253])"
      ]
     },
     "execution_count": 18,
     "metadata": {},
     "output_type": "execute_result"
    }
   ],
   "source": [
    "# predict net_target+1 using model_lr_next\n",
    "preds_lr = model_lr_next.predict(df_train[feature_names_lr])\n",
    "preds_lr"
   ]
  },
  {
   "cell_type": "code",
   "execution_count": 19,
   "metadata": {},
   "outputs": [
    {
     "data": {
      "text/plain": [
       "array([0.43184524, 0.39448921, 0.38770487, ..., 0.65072219, 0.67097099,\n",
       "       0.53245184])"
      ]
     },
     "execution_count": 19,
     "metadata": {},
     "output_type": "execute_result"
    }
   ],
   "source": [
    "# get net_target+1\n",
    "y = df_train[\"net_target+1\"].values\n",
    "y"
   ]
  },
  {
   "cell_type": "code",
   "execution_count": 21,
   "metadata": {},
   "outputs": [
    {
     "name": "stdout",
     "output_type": "stream",
     "text": [
      "MAE lgb: 0.038211742171523656\n",
      "MSE lgb: 0.004192858234252061\n",
      "MAE lr: 0.051010902083942794\n",
      "MSE lr: 0.00543120374987156\n"
     ]
    }
   ],
   "source": [
    "# evaluate predictions using mae and mse metrics\n",
    "print(\"MAE lgb:\", mean_absolute_error(y, preds_lgb))\n",
    "print(\"MSE lgb:\", mean_squared_error(y, preds_lgb))\n",
    "print(\"MAE lr:\", mean_absolute_error(y, preds_lr))\n",
    "print(\"MSE lr:\", mean_squared_error(y, preds_lr))"
   ]
  },
  {
   "cell_type": "code",
   "execution_count": 23,
   "metadata": {},
   "outputs": [
    {
     "name": "stdout",
     "output_type": "stream",
     "text": [
      "MAE ensemble: 0.043422427055889994\n",
      "MSE ensemble: 0.00450799192448922\n"
     ]
    }
   ],
   "source": [
    "# evaluate ensemble predictions using mae and mse metrics\n",
    "print(\"MAE ensemble:\", mean_absolute_error(y, (preds_lgb+preds_lr)/2))\n",
    "print(\"MSE ensemble:\", mean_squared_error(y, (preds_lgb+preds_lr)/2))"
   ]
  },
  {
   "cell_type": "code",
   "execution_count": 24,
   "metadata": {},
   "outputs": [],
   "source": [
    "df_train_2 = pd.read_csv(\"data/extra_train_phase2.csv\", index_col=0)"
   ]
  },
  {
   "cell_type": "code",
   "execution_count": 25,
   "metadata": {},
   "outputs": [
    {
     "name": "stdout",
     "output_type": "stream",
     "text": [
      "MAE lgb: 0.04954821767531365\n",
      "MSE lgb: 0.006145891183799982\n",
      "MAE lr: 0.05455116342699128\n",
      "MSE lr: 0.0063285892896925156\n",
      "MAE ensemble: 0.05056241949932789\n",
      "MSE ensemble: 0.0059501723140722405\n"
     ]
    },
    {
     "name": "stderr",
     "output_type": "stream",
     "text": [
      "/Users/evgenygenov/miniforge3/envs/citylearn/lib/python3.9/site-packages/sklearn/base.py:443: UserWarning: X has feature names, but MyLinearRegression was fitted without feature names\n",
      "  warnings.warn(\n"
     ]
    }
   ],
   "source": [
    "# make predictions for phase 2\n",
    "preds_lgb_2 = model_pt_next.predict(df_train_2[feature_names])\n",
    "preds_lr_2 = model_lr_next.predict(df_train_2[feature_names_lr])\n",
    "y_2 = df_train_2[\"net_target+1\"].values\n",
    "# evaluate predictions using mae and mse metrics\n",
    "print(\"MAE lgb:\", mean_absolute_error(y_2, preds_lgb_2))\n",
    "print(\"MSE lgb:\", mean_squared_error(y_2, preds_lgb_2))\n",
    "print(\"MAE lr:\", mean_absolute_error(y_2, preds_lr_2))\n",
    "print(\"MSE lr:\", mean_squared_error(y_2, preds_lr_2))\n",
    "# evaluate ensemble predictions using mae and mse metrics\n",
    "print(\"MAE ensemble:\", mean_absolute_error(y_2, (preds_lgb_2+preds_lr_2)/2))\n",
    "print(\"MSE ensemble:\", mean_squared_error(y_2, (preds_lgb_2+preds_lr_2)/2))"
   ]
  },
  {
   "cell_type": "code",
   "execution_count": null,
   "metadata": {},
   "outputs": [],
   "source": []
  }
 ],
 "metadata": {
  "kernelspec": {
   "display_name": "citylearn",
   "language": "python",
   "name": "python3"
  },
  "language_info": {
   "codemirror_mode": {
    "name": "ipython",
    "version": 3
   },
   "file_extension": ".py",
   "mimetype": "text/x-python",
   "name": "python",
   "nbconvert_exporter": "python",
   "pygments_lexer": "ipython3",
   "version": "3.9.16"
  },
  "orig_nbformat": 4
 },
 "nbformat": 4,
 "nbformat_minor": 2
}
